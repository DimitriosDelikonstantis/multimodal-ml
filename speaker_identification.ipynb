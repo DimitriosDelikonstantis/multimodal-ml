{
  "nbformat": 4,
  "nbformat_minor": 0,
  "metadata": {
    "kernelspec": {
      "display_name": "Python 3",
      "language": "python",
      "name": "python3"
    },
    "language_info": {
      "codemirror_mode": {
        "name": "ipython",
        "version": 3
      },
      "file_extension": ".py",
      "mimetype": "text/x-python",
      "name": "python",
      "nbconvert_exporter": "python",
      "pygments_lexer": "ipython3",
      "version": "3.9.5"
    },
    "colab": {
      "name": "speaker_identification.ipynb",
      "provenance": [],
      "collapsed_sections": []
    }
  },
  "cells": [
    {
      "cell_type": "code",
      "metadata": {
        "colab": {
          "base_uri": "https://localhost:8080/"
        },
        "id": "Ij-ECjovVNvZ",
        "outputId": "5d7fe204-f130-4bc0-ab91-0ce61a66fba6"
      },
      "source": [
        "from google.colab import drive\n",
        "drive.mount('/content/drive')"
      ],
      "execution_count": 1,
      "outputs": [
        {
          "output_type": "stream",
          "text": [
            "Mounted at /content/drive\n"
          ],
          "name": "stdout"
        }
      ]
    },
    {
      "cell_type": "code",
      "metadata": {
        "colab": {
          "base_uri": "https://localhost:8080/"
        },
        "id": "4BKjs3nBVViy",
        "outputId": "596b4d59-2d73-4972-f6b7-94c3c8281135"
      },
      "source": [
        "%cd /content/drive/MyDrive/Multimodal_machine_learning/Speaker_identification/speaker-similarity\n",
        "!pwd"
      ],
      "execution_count": 2,
      "outputs": [
        {
          "output_type": "stream",
          "text": [
            "/content/drive/MyDrive/Multimodal_machine_learning/Speaker_identification/speaker-similarity\n",
            "/content/drive/MyDrive/Multimodal_machine_learning/Speaker_identification/speaker-similarity\n"
          ],
          "name": "stdout"
        }
      ]
    },
    {
      "cell_type": "code",
      "metadata": {
        "colab": {
          "base_uri": "https://localhost:8080/"
        },
        "id": "FudiBWfAVLC9",
        "outputId": "32a2b1f5-0372-4e12-c271-e1702157e575"
      },
      "source": [
        "!pip3 install librosa\n",
        "!pip3 install pyAudioAnalysis\n",
        "!pip3 install eyed3\n",
        "!pip3 install pydub\n",
        "!pip3 install python_speech_features"
      ],
      "execution_count": 3,
      "outputs": [
        {
          "output_type": "stream",
          "text": [
            "Requirement already satisfied: librosa in /usr/local/lib/python3.7/dist-packages (0.8.1)\n",
            "Requirement already satisfied: audioread>=2.0.0 in /usr/local/lib/python3.7/dist-packages (from librosa) (2.1.9)\n",
            "Requirement already satisfied: decorator>=3.0.0 in /usr/local/lib/python3.7/dist-packages (from librosa) (4.4.2)\n",
            "Requirement already satisfied: packaging>=20.0 in /usr/local/lib/python3.7/dist-packages (from librosa) (21.0)\n",
            "Requirement already satisfied: numpy>=1.15.0 in /usr/local/lib/python3.7/dist-packages (from librosa) (1.19.5)\n",
            "Requirement already satisfied: scikit-learn!=0.19.0,>=0.14.0 in /usr/local/lib/python3.7/dist-packages (from librosa) (0.22.2.post1)\n",
            "Requirement already satisfied: resampy>=0.2.2 in /usr/local/lib/python3.7/dist-packages (from librosa) (0.2.2)\n",
            "Requirement already satisfied: pooch>=1.0 in /usr/local/lib/python3.7/dist-packages (from librosa) (1.4.0)\n",
            "Requirement already satisfied: numba>=0.43.0 in /usr/local/lib/python3.7/dist-packages (from librosa) (0.51.2)\n",
            "Requirement already satisfied: scipy>=1.0.0 in /usr/local/lib/python3.7/dist-packages (from librosa) (1.4.1)\n",
            "Requirement already satisfied: joblib>=0.14 in /usr/local/lib/python3.7/dist-packages (from librosa) (1.0.1)\n",
            "Requirement already satisfied: soundfile>=0.10.2 in /usr/local/lib/python3.7/dist-packages (from librosa) (0.10.3.post1)\n",
            "Requirement already satisfied: pyparsing>=2.0.2 in /usr/local/lib/python3.7/dist-packages (from packaging>=20.0->librosa) (2.4.7)\n",
            "Requirement already satisfied: six>=1.3 in /usr/local/lib/python3.7/dist-packages (from resampy>=0.2.2->librosa) (1.15.0)\n",
            "Requirement already satisfied: appdirs in /usr/local/lib/python3.7/dist-packages (from pooch>=1.0->librosa) (1.4.4)\n",
            "Requirement already satisfied: requests in /usr/local/lib/python3.7/dist-packages (from pooch>=1.0->librosa) (2.23.0)\n",
            "Requirement already satisfied: setuptools in /usr/local/lib/python3.7/dist-packages (from numba>=0.43.0->librosa) (57.2.0)\n",
            "Requirement already satisfied: llvmlite<0.35,>=0.34.0.dev0 in /usr/local/lib/python3.7/dist-packages (from numba>=0.43.0->librosa) (0.34.0)\n",
            "Requirement already satisfied: cffi>=1.0 in /usr/local/lib/python3.7/dist-packages (from soundfile>=0.10.2->librosa) (1.14.6)\n",
            "Requirement already satisfied: urllib3!=1.25.0,!=1.25.1,<1.26,>=1.21.1 in /usr/local/lib/python3.7/dist-packages (from requests->pooch>=1.0->librosa) (1.24.3)\n",
            "Requirement already satisfied: certifi>=2017.4.17 in /usr/local/lib/python3.7/dist-packages (from requests->pooch>=1.0->librosa) (2021.5.30)\n",
            "Requirement already satisfied: chardet<4,>=3.0.2 in /usr/local/lib/python3.7/dist-packages (from requests->pooch>=1.0->librosa) (3.0.4)\n",
            "Requirement already satisfied: idna<3,>=2.5 in /usr/local/lib/python3.7/dist-packages (from requests->pooch>=1.0->librosa) (2.10)\n",
            "Requirement already satisfied: pycparser in /usr/local/lib/python3.7/dist-packages (from cffi>=1.0->soundfile>=0.10.2->librosa) (2.20)\n",
            "Collecting pyAudioAnalysis\n",
            "\u001b[?25l  Downloading https://files.pythonhosted.org/packages/4a/8b/456ef9101ad5bffe60b84ed9f6efba7d5a6f62e7da16deae547241382c06/pyAudioAnalysis-0.3.7.tar.gz (52.4MB)\n",
            "\u001b[K     |████████████████████████████████| 52.4MB 55kB/s \n",
            "\u001b[?25hBuilding wheels for collected packages: pyAudioAnalysis\n",
            "  Building wheel for pyAudioAnalysis (setup.py) ... \u001b[?25l\u001b[?25hdone\n",
            "  Created wheel for pyAudioAnalysis: filename=pyAudioAnalysis-0.3.7-cp37-none-any.whl size=52589873 sha256=7b85a64b7b5be9fc1310485e37a4e5b663dfc18a1215c493c94d3429e2e74624\n",
            "  Stored in directory: /root/.cache/pip/wheels/e0/da/f5/f8ab47859ae6e5f552d4fc289cc7af54879890d22bccd3d3cf\n",
            "Successfully built pyAudioAnalysis\n",
            "Installing collected packages: pyAudioAnalysis\n",
            "Successfully installed pyAudioAnalysis-0.3.7\n",
            "Collecting eyed3\n",
            "\u001b[?25l  Downloading https://files.pythonhosted.org/packages/e9/5e/9445f42ca86bc4832bac33fe37b506fc4db60dd9b68621e55c96fc66d730/eyeD3-0.9.6-py3-none-any.whl (245kB)\n",
            "\u001b[K     |████████████████████████████████| 256kB 4.2MB/s \n",
            "\u001b[?25hCollecting deprecation<3.0.0,>=2.1.0\n",
            "  Downloading https://files.pythonhosted.org/packages/02/c3/253a89ee03fc9b9682f1541728eb66db7db22148cd94f89ab22528cd1e1b/deprecation-2.1.0-py2.py3-none-any.whl\n",
            "Collecting filetype<2.0.0,>=1.0.7\n",
            "  Downloading https://files.pythonhosted.org/packages/b4/6b/7bc015da1a576ac037582ae0c5acb675371de9e017e860931e97a428ee31/filetype-1.0.7-py2.py3-none-any.whl\n",
            "Collecting coverage[toml]<6.0.0,>=5.3.1\n",
            "\u001b[?25l  Downloading https://files.pythonhosted.org/packages/16/e0/fc9f7bd9b84e6b41d0aad1a113e36714aac0c0a9b307aca5f9af443bc50f/coverage-5.5-cp37-cp37m-manylinux2010_x86_64.whl (242kB)\n",
            "\u001b[K     |████████████████████████████████| 245kB 30.4MB/s \n",
            "\u001b[?25hRequirement already satisfied: packaging in /usr/local/lib/python3.7/dist-packages (from deprecation<3.0.0,>=2.1.0->eyed3) (21.0)\n",
            "Requirement already satisfied: toml; extra == \"toml\" in /usr/local/lib/python3.7/dist-packages (from coverage[toml]<6.0.0,>=5.3.1->eyed3) (0.10.2)\n",
            "Requirement already satisfied: pyparsing>=2.0.2 in /usr/local/lib/python3.7/dist-packages (from packaging->deprecation<3.0.0,>=2.1.0->eyed3) (2.4.7)\n",
            "\u001b[31mERROR: datascience 0.10.6 has requirement coverage==3.7.1, but you'll have coverage 5.5 which is incompatible.\u001b[0m\n",
            "\u001b[31mERROR: datascience 0.10.6 has requirement folium==0.2.1, but you'll have folium 0.8.3 which is incompatible.\u001b[0m\n",
            "\u001b[31mERROR: coveralls 0.5 has requirement coverage<3.999,>=3.6, but you'll have coverage 5.5 which is incompatible.\u001b[0m\n",
            "Installing collected packages: deprecation, filetype, coverage, eyed3\n",
            "  Found existing installation: coverage 3.7.1\n",
            "    Uninstalling coverage-3.7.1:\n",
            "      Successfully uninstalled coverage-3.7.1\n",
            "Successfully installed coverage-5.5 deprecation-2.1.0 eyed3-0.9.6 filetype-1.0.7\n",
            "Collecting pydub\n",
            "  Downloading https://files.pythonhosted.org/packages/a6/53/d78dc063216e62fc55f6b2eebb447f6a4b0a59f55c8406376f76bf959b08/pydub-0.25.1-py2.py3-none-any.whl\n",
            "Installing collected packages: pydub\n",
            "Successfully installed pydub-0.25.1\n",
            "Collecting python_speech_features\n",
            "  Downloading https://files.pythonhosted.org/packages/ff/d1/94c59e20a2631985fbd2124c45177abaa9e0a4eee8ba8a305aa26fc02a8e/python_speech_features-0.6.tar.gz\n",
            "Building wheels for collected packages: python-speech-features\n",
            "  Building wheel for python-speech-features (setup.py) ... \u001b[?25l\u001b[?25hdone\n",
            "  Created wheel for python-speech-features: filename=python_speech_features-0.6-cp37-none-any.whl size=5888 sha256=335f14bd157a7a187031017a2f7ff61101fc1303c05024f044ca4c1fceca8beb\n",
            "  Stored in directory: /root/.cache/pip/wheels/3c/42/7c/f60e9d1b40015cd69b213ad90f7c18a9264cd745b9888134be\n",
            "Successfully built python-speech-features\n",
            "Installing collected packages: python-speech-features\n",
            "Successfully installed python-speech-features-0.6\n"
          ],
          "name": "stdout"
        }
      ]
    },
    {
      "cell_type": "code",
      "metadata": {
        "colab": {
          "base_uri": "https://localhost:8080/"
        },
        "id": "LwV2Z6dJVLDA",
        "outputId": "b3a243fa-a65a-4041-8862-1dbd596ae6fb"
      },
      "source": [
        "import librosa\n",
        "import librosa.display\n",
        "import IPython.display as ipd\n",
        "import matplotlib.pyplot as plt\n",
        "import numpy as np\n",
        "import pandas as pd\n",
        "import os\n",
        "import pickle\n",
        "\n",
        "import tensorflow as tf\n",
        "print(tf.__version__)\n",
        "from tensorflow.keras.models import Sequential\n",
        "from tensorflow.keras.layers import Dense,Dropout,Activation,Flatten\n",
        "from tensorflow.keras.optimizers import Adam\n",
        "from sklearn import metrics\n",
        "\n",
        "from app.website.extract_features import extract_mfcc, zero_crossing_rate"
      ],
      "execution_count": 4,
      "outputs": [
        {
          "output_type": "stream",
          "text": [
            "2.5.0\n",
            "['id10001' 'id10002' 'id10003' 'id10004' 'id10005' 'id10006']\n",
            "Current speakers shape: (6, 2)\n"
          ],
          "name": "stdout"
        }
      ]
    },
    {
      "cell_type": "markdown",
      "metadata": {
        "id": "1nvZ-JaeVLDC"
      },
      "source": [
        "## Dataset\n",
        "\n",
        "We check given directory to find all available *.wav* files."
      ]
    },
    {
      "cell_type": "code",
      "metadata": {
        "id": "-F4K303HVLDD"
      },
      "source": [
        "# helper\n",
        "def contains_number(s):\n",
        "    return any(i.isdigit() for i in s)"
      ],
      "execution_count": 5,
      "outputs": []
    },
    {
      "cell_type": "code",
      "metadata": {
        "colab": {
          "base_uri": "https://localhost:8080/"
        },
        "id": "sjODgwSAVLDE",
        "outputId": "ac578209-8aae-48ef-c117-dd9e907ee8a1"
      },
      "source": [
        "#check source directory and find classes\n",
        "source_dir = '/content/drive/MyDrive/Multimodal_machine_learning/Speaker_identification/VoxCeleb1_dataset/Audio_files/vox1_dev_wav_subsampling/wav'\n",
        "# source_dir = './audio/'\n",
        "speakers = [name for name in os.listdir(source_dir) if os.path.isdir(os.path.join(source_dir, name))]\n",
        "print(speakers)\n",
        "raw = []\n",
        "for speaker in speakers:\n",
        "    path = os.path.join(source_dir, speaker) + '/'\n",
        "    print('checking dir:', path)\n",
        "    folders = [f for f in os.listdir(path) if not f.startswith('.') ]\n",
        "    for folder in folders:\n",
        "        clip_path = os.path.join(path, folder) + '/'\n",
        "        print(clip_path)\n",
        "        clips = [f for f in os.listdir(clip_path) if f.endswith('.wav')]\n",
        "        for clip in clips:\n",
        "            raw.append({'speaker': speaker, 'path':clip_path+clip})"
      ],
      "execution_count": 6,
      "outputs": [
        {
          "output_type": "stream",
          "text": [
            "['id10001', 'id10002', 'id10003', 'id10004', 'id10005', 'id10006', 'id10007', 'id10008', 'id10010', 'id10009', 'id10011', 'id10012', 'id10013', 'id10014', 'id10015', 'id10016', 'id10017', 'id10018', 'id10019', 'id10020']\n",
            "checking dir: /content/drive/MyDrive/Multimodal_machine_learning/Speaker_identification/VoxCeleb1_dataset/Audio_files/vox1_dev_wav_subsampling/wav/id10001/\n",
            "/content/drive/MyDrive/Multimodal_machine_learning/Speaker_identification/VoxCeleb1_dataset/Audio_files/vox1_dev_wav_subsampling/wav/id10001/Y8hIVOBuels/\n",
            "/content/drive/MyDrive/Multimodal_machine_learning/Speaker_identification/VoxCeleb1_dataset/Audio_files/vox1_dev_wav_subsampling/wav/id10001/7gWzIy6yIIk/\n",
            "/content/drive/MyDrive/Multimodal_machine_learning/Speaker_identification/VoxCeleb1_dataset/Audio_files/vox1_dev_wav_subsampling/wav/id10001/7w0IBEWc9Qw/\n",
            "/content/drive/MyDrive/Multimodal_machine_learning/Speaker_identification/VoxCeleb1_dataset/Audio_files/vox1_dev_wav_subsampling/wav/id10001/1zcIwhmdeo4/\n",
            "/content/drive/MyDrive/Multimodal_machine_learning/Speaker_identification/VoxCeleb1_dataset/Audio_files/vox1_dev_wav_subsampling/wav/id10001/DtdEYdViWdw/\n",
            "/content/drive/MyDrive/Multimodal_machine_learning/Speaker_identification/VoxCeleb1_dataset/Audio_files/vox1_dev_wav_subsampling/wav/id10001/9mQ11vBs1wc/\n",
            "/content/drive/MyDrive/Multimodal_machine_learning/Speaker_identification/VoxCeleb1_dataset/Audio_files/vox1_dev_wav_subsampling/wav/id10001/zELwAz2W6hM/\n",
            "/content/drive/MyDrive/Multimodal_machine_learning/Speaker_identification/VoxCeleb1_dataset/Audio_files/vox1_dev_wav_subsampling/wav/id10001/J9lHsKG98U8/\n",
            "/content/drive/MyDrive/Multimodal_machine_learning/Speaker_identification/VoxCeleb1_dataset/Audio_files/vox1_dev_wav_subsampling/wav/id10001/eWIX7sfn-M0/\n",
            "/content/drive/MyDrive/Multimodal_machine_learning/Speaker_identification/VoxCeleb1_dataset/Audio_files/vox1_dev_wav_subsampling/wav/id10001/utrA-v8pPm4/\n",
            "checking dir: /content/drive/MyDrive/Multimodal_machine_learning/Speaker_identification/VoxCeleb1_dataset/Audio_files/vox1_dev_wav_subsampling/wav/id10002/\n",
            "/content/drive/MyDrive/Multimodal_machine_learning/Speaker_identification/VoxCeleb1_dataset/Audio_files/vox1_dev_wav_subsampling/wav/id10002/0_laIeN-Q44/\n",
            "/content/drive/MyDrive/Multimodal_machine_learning/Speaker_identification/VoxCeleb1_dataset/Audio_files/vox1_dev_wav_subsampling/wav/id10002/6WO410QOeuo/\n",
            "/content/drive/MyDrive/Multimodal_machine_learning/Speaker_identification/VoxCeleb1_dataset/Audio_files/vox1_dev_wav_subsampling/wav/id10002/C7k7C-PDvAA/\n",
            "/content/drive/MyDrive/Multimodal_machine_learning/Speaker_identification/VoxCeleb1_dataset/Audio_files/vox1_dev_wav_subsampling/wav/id10002/VMaXdHLz5Bk/\n",
            "/content/drive/MyDrive/Multimodal_machine_learning/Speaker_identification/VoxCeleb1_dataset/Audio_files/vox1_dev_wav_subsampling/wav/id10002/gaQqIoV_aLY/\n",
            "/content/drive/MyDrive/Multimodal_machine_learning/Speaker_identification/VoxCeleb1_dataset/Audio_files/vox1_dev_wav_subsampling/wav/id10002/QanuGhOhb9A/\n",
            "/content/drive/MyDrive/Multimodal_machine_learning/Speaker_identification/VoxCeleb1_dataset/Audio_files/vox1_dev_wav_subsampling/wav/id10002/RLKKsYiCMvc/\n",
            "/content/drive/MyDrive/Multimodal_machine_learning/Speaker_identification/VoxCeleb1_dataset/Audio_files/vox1_dev_wav_subsampling/wav/id10002/SI4D2_YXvBE/\n",
            "/content/drive/MyDrive/Multimodal_machine_learning/Speaker_identification/VoxCeleb1_dataset/Audio_files/vox1_dev_wav_subsampling/wav/id10002/TqUbiOgEb0w/\n",
            "/content/drive/MyDrive/Multimodal_machine_learning/Speaker_identification/VoxCeleb1_dataset/Audio_files/vox1_dev_wav_subsampling/wav/id10002/Mpr9wqUuLQA/\n",
            "/content/drive/MyDrive/Multimodal_machine_learning/Speaker_identification/VoxCeleb1_dataset/Audio_files/vox1_dev_wav_subsampling/wav/id10002/QnnjJ9i5WFs/\n",
            "/content/drive/MyDrive/Multimodal_machine_learning/Speaker_identification/VoxCeleb1_dataset/Audio_files/vox1_dev_wav_subsampling/wav/id10002/cMGEuZ1zqXk/\n",
            "/content/drive/MyDrive/Multimodal_machine_learning/Speaker_identification/VoxCeleb1_dataset/Audio_files/vox1_dev_wav_subsampling/wav/id10002/eNc4LrrvV80/\n",
            "/content/drive/MyDrive/Multimodal_machine_learning/Speaker_identification/VoxCeleb1_dataset/Audio_files/vox1_dev_wav_subsampling/wav/id10002/w9H-ZMvdE9M/\n",
            "/content/drive/MyDrive/Multimodal_machine_learning/Speaker_identification/VoxCeleb1_dataset/Audio_files/vox1_dev_wav_subsampling/wav/id10002/wd_7oYV4dsU/\n",
            "/content/drive/MyDrive/Multimodal_machine_learning/Speaker_identification/VoxCeleb1_dataset/Audio_files/vox1_dev_wav_subsampling/wav/id10002/Y2Gr1I2DO7M/\n",
            "/content/drive/MyDrive/Multimodal_machine_learning/Speaker_identification/VoxCeleb1_dataset/Audio_files/vox1_dev_wav_subsampling/wav/id10002/xTV-jFAUKcw/\n",
            "checking dir: /content/drive/MyDrive/Multimodal_machine_learning/Speaker_identification/VoxCeleb1_dataset/Audio_files/vox1_dev_wav_subsampling/wav/id10003/\n",
            "/content/drive/MyDrive/Multimodal_machine_learning/Speaker_identification/VoxCeleb1_dataset/Audio_files/vox1_dev_wav_subsampling/wav/id10003/A7Hh1WKmHsg/\n",
            "/content/drive/MyDrive/Multimodal_machine_learning/Speaker_identification/VoxCeleb1_dataset/Audio_files/vox1_dev_wav_subsampling/wav/id10003/A8SBCxYzJgs/\n",
            "/content/drive/MyDrive/Multimodal_machine_learning/Speaker_identification/VoxCeleb1_dataset/Audio_files/vox1_dev_wav_subsampling/wav/id10003/bDxy7bnj_bc/\n",
            "/content/drive/MyDrive/Multimodal_machine_learning/Speaker_identification/VoxCeleb1_dataset/Audio_files/vox1_dev_wav_subsampling/wav/id10003/EGPV-Xa0LGk/\n",
            "/content/drive/MyDrive/Multimodal_machine_learning/Speaker_identification/VoxCeleb1_dataset/Audio_files/vox1_dev_wav_subsampling/wav/id10003/BQxxhq4539A/\n",
            "/content/drive/MyDrive/Multimodal_machine_learning/Speaker_identification/VoxCeleb1_dataset/Audio_files/vox1_dev_wav_subsampling/wav/id10003/5ablueV_1tw/\n",
            "/content/drive/MyDrive/Multimodal_machine_learning/Speaker_identification/VoxCeleb1_dataset/Audio_files/vox1_dev_wav_subsampling/wav/id10003/E_6MjfYr0sQ/\n",
            "/content/drive/MyDrive/Multimodal_machine_learning/Speaker_identification/VoxCeleb1_dataset/Audio_files/vox1_dev_wav_subsampling/wav/id10003/FfmnkloV_zg/\n",
            "/content/drive/MyDrive/Multimodal_machine_learning/Speaker_identification/VoxCeleb1_dataset/Audio_files/vox1_dev_wav_subsampling/wav/id10003/K5zRxtXc27s/\n",
            "/content/drive/MyDrive/Multimodal_machine_learning/Speaker_identification/VoxCeleb1_dataset/Audio_files/vox1_dev_wav_subsampling/wav/id10003/Tzn91xwBaWE/\n",
            "/content/drive/MyDrive/Multimodal_machine_learning/Speaker_identification/VoxCeleb1_dataset/Audio_files/vox1_dev_wav_subsampling/wav/id10003/tCq2LcKO6xY/\n",
            "/content/drive/MyDrive/Multimodal_machine_learning/Speaker_identification/VoxCeleb1_dataset/Audio_files/vox1_dev_wav_subsampling/wav/id10003/_JpHD6VnJ3I/\n",
            "/content/drive/MyDrive/Multimodal_machine_learning/Speaker_identification/VoxCeleb1_dataset/Audio_files/vox1_dev_wav_subsampling/wav/id10003/yzIXg93UOIM/\n",
            "/content/drive/MyDrive/Multimodal_machine_learning/Speaker_identification/VoxCeleb1_dataset/Audio_files/vox1_dev_wav_subsampling/wav/id10003/NC70RWJDnMg/\n",
            "/content/drive/MyDrive/Multimodal_machine_learning/Speaker_identification/VoxCeleb1_dataset/Audio_files/vox1_dev_wav_subsampling/wav/id10003/na8-QEFmj44/\n",
            "checking dir: /content/drive/MyDrive/Multimodal_machine_learning/Speaker_identification/VoxCeleb1_dataset/Audio_files/vox1_dev_wav_subsampling/wav/id10004/\n",
            "/content/drive/MyDrive/Multimodal_machine_learning/Speaker_identification/VoxCeleb1_dataset/Audio_files/vox1_dev_wav_subsampling/wav/id10004/6WxS8rpNjmk/\n",
            "/content/drive/MyDrive/Multimodal_machine_learning/Speaker_identification/VoxCeleb1_dataset/Audio_files/vox1_dev_wav_subsampling/wav/id10004/8mWxQ6DRO-U/\n",
            "/content/drive/MyDrive/Multimodal_machine_learning/Speaker_identification/VoxCeleb1_dataset/Audio_files/vox1_dev_wav_subsampling/wav/id10004/bIZQaEVuATQ/\n",
            "/content/drive/MyDrive/Multimodal_machine_learning/Speaker_identification/VoxCeleb1_dataset/Audio_files/vox1_dev_wav_subsampling/wav/id10004/CCygVo0iPvw/\n",
            "/content/drive/MyDrive/Multimodal_machine_learning/Speaker_identification/VoxCeleb1_dataset/Audio_files/vox1_dev_wav_subsampling/wav/id10004/BOAd7pybyZw/\n",
            "/content/drive/MyDrive/Multimodal_machine_learning/Speaker_identification/VoxCeleb1_dataset/Audio_files/vox1_dev_wav_subsampling/wav/id10004/CWTpJe2RqOA/\n",
            "/content/drive/MyDrive/Multimodal_machine_learning/Speaker_identification/VoxCeleb1_dataset/Audio_files/vox1_dev_wav_subsampling/wav/id10004/dwKTFeIhTOQ/\n",
            "/content/drive/MyDrive/Multimodal_machine_learning/Speaker_identification/VoxCeleb1_dataset/Audio_files/vox1_dev_wav_subsampling/wav/id10004/eaYIxBz6lBU/\n",
            "/content/drive/MyDrive/Multimodal_machine_learning/Speaker_identification/VoxCeleb1_dataset/Audio_files/vox1_dev_wav_subsampling/wav/id10004/IEV-I9f21ns/\n",
            "/content/drive/MyDrive/Multimodal_machine_learning/Speaker_identification/VoxCeleb1_dataset/Audio_files/vox1_dev_wav_subsampling/wav/id10004/JKMfqmjUwMU/\n",
            "/content/drive/MyDrive/Multimodal_machine_learning/Speaker_identification/VoxCeleb1_dataset/Audio_files/vox1_dev_wav_subsampling/wav/id10004/lu_eVSfv3Tg/\n",
            "/content/drive/MyDrive/Multimodal_machine_learning/Speaker_identification/VoxCeleb1_dataset/Audio_files/vox1_dev_wav_subsampling/wav/id10004/q6QJY1ndpOY/\n",
            "/content/drive/MyDrive/Multimodal_machine_learning/Speaker_identification/VoxCeleb1_dataset/Audio_files/vox1_dev_wav_subsampling/wav/id10004/zcB1pnBt_Tc/\n",
            "/content/drive/MyDrive/Multimodal_machine_learning/Speaker_identification/VoxCeleb1_dataset/Audio_files/vox1_dev_wav_subsampling/wav/id10004/SMKC-WLY6F0/\n",
            "/content/drive/MyDrive/Multimodal_machine_learning/Speaker_identification/VoxCeleb1_dataset/Audio_files/vox1_dev_wav_subsampling/wav/id10004/qqhJQYlENHs/\n",
            "/content/drive/MyDrive/Multimodal_machine_learning/Speaker_identification/VoxCeleb1_dataset/Audio_files/vox1_dev_wav_subsampling/wav/id10004/Oftn1-Z0Lbk/\n",
            "/content/drive/MyDrive/Multimodal_machine_learning/Speaker_identification/VoxCeleb1_dataset/Audio_files/vox1_dev_wav_subsampling/wav/id10004/wQJ3cED8ZSw/\n",
            "checking dir: /content/drive/MyDrive/Multimodal_machine_learning/Speaker_identification/VoxCeleb1_dataset/Audio_files/vox1_dev_wav_subsampling/wav/id10005/\n",
            "/content/drive/MyDrive/Multimodal_machine_learning/Speaker_identification/VoxCeleb1_dataset/Audio_files/vox1_dev_wav_subsampling/wav/id10005/L21ozpbmODY/\n",
            "/content/drive/MyDrive/Multimodal_machine_learning/Speaker_identification/VoxCeleb1_dataset/Audio_files/vox1_dev_wav_subsampling/wav/id10005/oJYptXzCASM/\n",
            "/content/drive/MyDrive/Multimodal_machine_learning/Speaker_identification/VoxCeleb1_dataset/Audio_files/vox1_dev_wav_subsampling/wav/id10005/1geDB-I2TjE/\n",
            "/content/drive/MyDrive/Multimodal_machine_learning/Speaker_identification/VoxCeleb1_dataset/Audio_files/vox1_dev_wav_subsampling/wav/id10005/mzZj5a0FgZY/\n",
            "/content/drive/MyDrive/Multimodal_machine_learning/Speaker_identification/VoxCeleb1_dataset/Audio_files/vox1_dev_wav_subsampling/wav/id10005/PP0cQLwYz5M/\n",
            "/content/drive/MyDrive/Multimodal_machine_learning/Speaker_identification/VoxCeleb1_dataset/Audio_files/vox1_dev_wav_subsampling/wav/id10005/6-crWEwaThs/\n",
            "/content/drive/MyDrive/Multimodal_machine_learning/Speaker_identification/VoxCeleb1_dataset/Audio_files/vox1_dev_wav_subsampling/wav/id10005/38_N-A-QOUo/\n",
            "/content/drive/MyDrive/Multimodal_machine_learning/Speaker_identification/VoxCeleb1_dataset/Audio_files/vox1_dev_wav_subsampling/wav/id10005/UguBGTDl3FM/\n",
            "/content/drive/MyDrive/Multimodal_machine_learning/Speaker_identification/VoxCeleb1_dataset/Audio_files/vox1_dev_wav_subsampling/wav/id10005/RSguOg1U-NA/\n",
            "/content/drive/MyDrive/Multimodal_machine_learning/Speaker_identification/VoxCeleb1_dataset/Audio_files/vox1_dev_wav_subsampling/wav/id10005/WD-MtwoWSxs/\n",
            "/content/drive/MyDrive/Multimodal_machine_learning/Speaker_identification/VoxCeleb1_dataset/Audio_files/vox1_dev_wav_subsampling/wav/id10005/x-1gq_B3snI/\n",
            "/content/drive/MyDrive/Multimodal_machine_learning/Speaker_identification/VoxCeleb1_dataset/Audio_files/vox1_dev_wav_subsampling/wav/id10005/ZZR6EqjbzwI/\n",
            "/content/drive/MyDrive/Multimodal_machine_learning/Speaker_identification/VoxCeleb1_dataset/Audio_files/vox1_dev_wav_subsampling/wav/id10005/WMh3ye5tBsE/\n",
            "/content/drive/MyDrive/Multimodal_machine_learning/Speaker_identification/VoxCeleb1_dataset/Audio_files/vox1_dev_wav_subsampling/wav/id10005/Yks5By_Hv_Y/\n",
            "checking dir: /content/drive/MyDrive/Multimodal_machine_learning/Speaker_identification/VoxCeleb1_dataset/Audio_files/vox1_dev_wav_subsampling/wav/id10006/\n",
            "/content/drive/MyDrive/Multimodal_machine_learning/Speaker_identification/VoxCeleb1_dataset/Audio_files/vox1_dev_wav_subsampling/wav/id10006/0otHlFztX8I/\n",
            "/content/drive/MyDrive/Multimodal_machine_learning/Speaker_identification/VoxCeleb1_dataset/Audio_files/vox1_dev_wav_subsampling/wav/id10006/3MwyuwaVE50/\n",
            "/content/drive/MyDrive/Multimodal_machine_learning/Speaker_identification/VoxCeleb1_dataset/Audio_files/vox1_dev_wav_subsampling/wav/id10006/3RybHF5mX78/\n",
            "/content/drive/MyDrive/Multimodal_machine_learning/Speaker_identification/VoxCeleb1_dataset/Audio_files/vox1_dev_wav_subsampling/wav/id10006/5PBimrKDrJQ/\n",
            "/content/drive/MyDrive/Multimodal_machine_learning/Speaker_identification/VoxCeleb1_dataset/Audio_files/vox1_dev_wav_subsampling/wav/id10006/5tGaUGO_z50/\n",
            "/content/drive/MyDrive/Multimodal_machine_learning/Speaker_identification/VoxCeleb1_dataset/Audio_files/vox1_dev_wav_subsampling/wav/id10006/7qUfkhbDaqc/\n",
            "/content/drive/MyDrive/Multimodal_machine_learning/Speaker_identification/VoxCeleb1_dataset/Audio_files/vox1_dev_wav_subsampling/wav/id10006/7W9goO0lNrA/\n",
            "/content/drive/MyDrive/Multimodal_machine_learning/Speaker_identification/VoxCeleb1_dataset/Audio_files/vox1_dev_wav_subsampling/wav/id10006/88biLNZtnag/\n",
            "/content/drive/MyDrive/Multimodal_machine_learning/Speaker_identification/VoxCeleb1_dataset/Audio_files/vox1_dev_wav_subsampling/wav/id10006/aaOv6y3Ii4o/\n",
            "/content/drive/MyDrive/Multimodal_machine_learning/Speaker_identification/VoxCeleb1_dataset/Audio_files/vox1_dev_wav_subsampling/wav/id10006/c-4jmRmEqEc/\n",
            "/content/drive/MyDrive/Multimodal_machine_learning/Speaker_identification/VoxCeleb1_dataset/Audio_files/vox1_dev_wav_subsampling/wav/id10006/DjrTX2Z-rzI/\n",
            "/content/drive/MyDrive/Multimodal_machine_learning/Speaker_identification/VoxCeleb1_dataset/Audio_files/vox1_dev_wav_subsampling/wav/id10006/Dv-wtqTn0wE/\n",
            "/content/drive/MyDrive/Multimodal_machine_learning/Speaker_identification/VoxCeleb1_dataset/Audio_files/vox1_dev_wav_subsampling/wav/id10006/J7VccwLPdrI/\n",
            "/content/drive/MyDrive/Multimodal_machine_learning/Speaker_identification/VoxCeleb1_dataset/Audio_files/vox1_dev_wav_subsampling/wav/id10006/KFllccZyqeY/\n",
            "/content/drive/MyDrive/Multimodal_machine_learning/Speaker_identification/VoxCeleb1_dataset/Audio_files/vox1_dev_wav_subsampling/wav/id10006/nLEBBc9oIFs/\n",
            "/content/drive/MyDrive/Multimodal_machine_learning/Speaker_identification/VoxCeleb1_dataset/Audio_files/vox1_dev_wav_subsampling/wav/id10006/nzDmrjyy8ls/\n",
            "/content/drive/MyDrive/Multimodal_machine_learning/Speaker_identification/VoxCeleb1_dataset/Audio_files/vox1_dev_wav_subsampling/wav/id10006/rgfcI2Wy4mY/\n",
            "/content/drive/MyDrive/Multimodal_machine_learning/Speaker_identification/VoxCeleb1_dataset/Audio_files/vox1_dev_wav_subsampling/wav/id10006/QEUVd2ZIcTg/\n",
            "/content/drive/MyDrive/Multimodal_machine_learning/Speaker_identification/VoxCeleb1_dataset/Audio_files/vox1_dev_wav_subsampling/wav/id10006/VaFNI2T9PTA/\n",
            "/content/drive/MyDrive/Multimodal_machine_learning/Speaker_identification/VoxCeleb1_dataset/Audio_files/vox1_dev_wav_subsampling/wav/id10006/ZCRCpLUo9Ro/\n",
            "/content/drive/MyDrive/Multimodal_machine_learning/Speaker_identification/VoxCeleb1_dataset/Audio_files/vox1_dev_wav_subsampling/wav/id10006/zQROl4ZsMVA/\n",
            "/content/drive/MyDrive/Multimodal_machine_learning/Speaker_identification/VoxCeleb1_dataset/Audio_files/vox1_dev_wav_subsampling/wav/id10006/ZlLPhRabPPw/\n",
            "/content/drive/MyDrive/Multimodal_machine_learning/Speaker_identification/VoxCeleb1_dataset/Audio_files/vox1_dev_wav_subsampling/wav/id10006/_xUsNvG7-Jk/\n",
            "checking dir: /content/drive/MyDrive/Multimodal_machine_learning/Speaker_identification/VoxCeleb1_dataset/Audio_files/vox1_dev_wav_subsampling/wav/id10007/\n",
            "/content/drive/MyDrive/Multimodal_machine_learning/Speaker_identification/VoxCeleb1_dataset/Audio_files/vox1_dev_wav_subsampling/wav/id10007/5ExvrJyWpe8/\n",
            "/content/drive/MyDrive/Multimodal_machine_learning/Speaker_identification/VoxCeleb1_dataset/Audio_files/vox1_dev_wav_subsampling/wav/id10007/10Oe0XETA0s/\n",
            "/content/drive/MyDrive/Multimodal_machine_learning/Speaker_identification/VoxCeleb1_dataset/Audio_files/vox1_dev_wav_subsampling/wav/id10007/CzQPAaPrC-E/\n",
            "/content/drive/MyDrive/Multimodal_machine_learning/Speaker_identification/VoxCeleb1_dataset/Audio_files/vox1_dev_wav_subsampling/wav/id10007/G0lVD5d0KJo/\n",
            "/content/drive/MyDrive/Multimodal_machine_learning/Speaker_identification/VoxCeleb1_dataset/Audio_files/vox1_dev_wav_subsampling/wav/id10007/foG5a3YtZzI/\n",
            "/content/drive/MyDrive/Multimodal_machine_learning/Speaker_identification/VoxCeleb1_dataset/Audio_files/vox1_dev_wav_subsampling/wav/id10007/Lc2IMwkXgnI/\n",
            "/content/drive/MyDrive/Multimodal_machine_learning/Speaker_identification/VoxCeleb1_dataset/Audio_files/vox1_dev_wav_subsampling/wav/id10007/IWAkF5uWjis/\n",
            "/content/drive/MyDrive/Multimodal_machine_learning/Speaker_identification/VoxCeleb1_dataset/Audio_files/vox1_dev_wav_subsampling/wav/id10007/HxfxcxUXPDA/\n",
            "/content/drive/MyDrive/Multimodal_machine_learning/Speaker_identification/VoxCeleb1_dataset/Audio_files/vox1_dev_wav_subsampling/wav/id10007/ny4iV7xwhRM/\n",
            "/content/drive/MyDrive/Multimodal_machine_learning/Speaker_identification/VoxCeleb1_dataset/Audio_files/vox1_dev_wav_subsampling/wav/id10007/uyOlasN_UhQ/\n",
            "checking dir: /content/drive/MyDrive/Multimodal_machine_learning/Speaker_identification/VoxCeleb1_dataset/Audio_files/vox1_dev_wav_subsampling/wav/id10008/\n",
            "/content/drive/MyDrive/Multimodal_machine_learning/Speaker_identification/VoxCeleb1_dataset/Audio_files/vox1_dev_wav_subsampling/wav/id10008/58jhTekFbHk/\n",
            "/content/drive/MyDrive/Multimodal_machine_learning/Speaker_identification/VoxCeleb1_dataset/Audio_files/vox1_dev_wav_subsampling/wav/id10008/CFwSMiMzoiA/\n",
            "/content/drive/MyDrive/Multimodal_machine_learning/Speaker_identification/VoxCeleb1_dataset/Audio_files/vox1_dev_wav_subsampling/wav/id10008/CXgomMquVt8/\n",
            "/content/drive/MyDrive/Multimodal_machine_learning/Speaker_identification/VoxCeleb1_dataset/Audio_files/vox1_dev_wav_subsampling/wav/id10008/D5RZyExnz8g/\n",
            "/content/drive/MyDrive/Multimodal_machine_learning/Speaker_identification/VoxCeleb1_dataset/Audio_files/vox1_dev_wav_subsampling/wav/id10008/gdQhQUcKrds/\n",
            "/content/drive/MyDrive/Multimodal_machine_learning/Speaker_identification/VoxCeleb1_dataset/Audio_files/vox1_dev_wav_subsampling/wav/id10008/dL5jx3GLNxU/\n",
            "/content/drive/MyDrive/Multimodal_machine_learning/Speaker_identification/VoxCeleb1_dataset/Audio_files/vox1_dev_wav_subsampling/wav/id10008/l8vq6uu_aNE/\n",
            "/content/drive/MyDrive/Multimodal_machine_learning/Speaker_identification/VoxCeleb1_dataset/Audio_files/vox1_dev_wav_subsampling/wav/id10008/MIinwxeI1H0/\n",
            "/content/drive/MyDrive/Multimodal_machine_learning/Speaker_identification/VoxCeleb1_dataset/Audio_files/vox1_dev_wav_subsampling/wav/id10008/X9OPcj9ID10/\n",
            "/content/drive/MyDrive/Multimodal_machine_learning/Speaker_identification/VoxCeleb1_dataset/Audio_files/vox1_dev_wav_subsampling/wav/id10008/YEkuUBPkSZg/\n",
            "/content/drive/MyDrive/Multimodal_machine_learning/Speaker_identification/VoxCeleb1_dataset/Audio_files/vox1_dev_wav_subsampling/wav/id10008/ZwprcvqTH3w/\n",
            "/content/drive/MyDrive/Multimodal_machine_learning/Speaker_identification/VoxCeleb1_dataset/Audio_files/vox1_dev_wav_subsampling/wav/id10008/X7JNabXlduc/\n",
            "/content/drive/MyDrive/Multimodal_machine_learning/Speaker_identification/VoxCeleb1_dataset/Audio_files/vox1_dev_wav_subsampling/wav/id10008/r4IZRsEGDFs/\n",
            "/content/drive/MyDrive/Multimodal_machine_learning/Speaker_identification/VoxCeleb1_dataset/Audio_files/vox1_dev_wav_subsampling/wav/id10008/_rz5gmMFZTo/\n",
            "checking dir: /content/drive/MyDrive/Multimodal_machine_learning/Speaker_identification/VoxCeleb1_dataset/Audio_files/vox1_dev_wav_subsampling/wav/id10010/\n",
            "/content/drive/MyDrive/Multimodal_machine_learning/Speaker_identification/VoxCeleb1_dataset/Audio_files/vox1_dev_wav_subsampling/wav/id10010/1O_m0G4rf9Q/\n",
            "/content/drive/MyDrive/Multimodal_machine_learning/Speaker_identification/VoxCeleb1_dataset/Audio_files/vox1_dev_wav_subsampling/wav/id10010/5ssVY9a5X-M/\n",
            "/content/drive/MyDrive/Multimodal_machine_learning/Speaker_identification/VoxCeleb1_dataset/Audio_files/vox1_dev_wav_subsampling/wav/id10010/E454T_sS_AM/\n",
            "/content/drive/MyDrive/Multimodal_machine_learning/Speaker_identification/VoxCeleb1_dataset/Audio_files/vox1_dev_wav_subsampling/wav/id10010/5xGZ4I9Bltc/\n",
            "/content/drive/MyDrive/Multimodal_machine_learning/Speaker_identification/VoxCeleb1_dataset/Audio_files/vox1_dev_wav_subsampling/wav/id10010/aVg9a5-hRsw/\n",
            "/content/drive/MyDrive/Multimodal_machine_learning/Speaker_identification/VoxCeleb1_dataset/Audio_files/vox1_dev_wav_subsampling/wav/id10010/fapnl6uxeEw/\n",
            "/content/drive/MyDrive/Multimodal_machine_learning/Speaker_identification/VoxCeleb1_dataset/Audio_files/vox1_dev_wav_subsampling/wav/id10010/Fi21gDronE4/\n",
            "/content/drive/MyDrive/Multimodal_machine_learning/Speaker_identification/VoxCeleb1_dataset/Audio_files/vox1_dev_wav_subsampling/wav/id10010/ik0addgjsVM/\n",
            "/content/drive/MyDrive/Multimodal_machine_learning/Speaker_identification/VoxCeleb1_dataset/Audio_files/vox1_dev_wav_subsampling/wav/id10010/GZnnXtImnGA/\n",
            "/content/drive/MyDrive/Multimodal_machine_learning/Speaker_identification/VoxCeleb1_dataset/Audio_files/vox1_dev_wav_subsampling/wav/id10010/LcCFDB7yT6A/\n",
            "/content/drive/MyDrive/Multimodal_machine_learning/Speaker_identification/VoxCeleb1_dataset/Audio_files/vox1_dev_wav_subsampling/wav/id10010/w_dgWRKS91Q/\n",
            "/content/drive/MyDrive/Multimodal_machine_learning/Speaker_identification/VoxCeleb1_dataset/Audio_files/vox1_dev_wav_subsampling/wav/id10010/QlrC83eEY2s/\n",
            "/content/drive/MyDrive/Multimodal_machine_learning/Speaker_identification/VoxCeleb1_dataset/Audio_files/vox1_dev_wav_subsampling/wav/id10010/Sw8HigpvVsg/\n",
            "/content/drive/MyDrive/Multimodal_machine_learning/Speaker_identification/VoxCeleb1_dataset/Audio_files/vox1_dev_wav_subsampling/wav/id10010/zbFJH6QsV48/\n",
            "/content/drive/MyDrive/Multimodal_machine_learning/Speaker_identification/VoxCeleb1_dataset/Audio_files/vox1_dev_wav_subsampling/wav/id10010/zJHub1wydMw/\n",
            "checking dir: /content/drive/MyDrive/Multimodal_machine_learning/Speaker_identification/VoxCeleb1_dataset/Audio_files/vox1_dev_wav_subsampling/wav/id10009/\n",
            "/content/drive/MyDrive/Multimodal_machine_learning/Speaker_identification/VoxCeleb1_dataset/Audio_files/vox1_dev_wav_subsampling/wav/id10009/aFttHpeaXaQ/\n",
            "/content/drive/MyDrive/Multimodal_machine_learning/Speaker_identification/VoxCeleb1_dataset/Audio_files/vox1_dev_wav_subsampling/wav/id10009/7hpSiT9_gCE/\n",
            "/content/drive/MyDrive/Multimodal_machine_learning/Speaker_identification/VoxCeleb1_dataset/Audio_files/vox1_dev_wav_subsampling/wav/id10009/EJ3tyqGqYfw/\n",
            "/content/drive/MyDrive/Multimodal_machine_learning/Speaker_identification/VoxCeleb1_dataset/Audio_files/vox1_dev_wav_subsampling/wav/id10009/AtavJVP4bCk/\n",
            "/content/drive/MyDrive/Multimodal_machine_learning/Speaker_identification/VoxCeleb1_dataset/Audio_files/vox1_dev_wav_subsampling/wav/id10009/FOFbkVlz-wQ/\n",
            "/content/drive/MyDrive/Multimodal_machine_learning/Speaker_identification/VoxCeleb1_dataset/Audio_files/vox1_dev_wav_subsampling/wav/id10009/HCGXIgKsozU/\n",
            "/content/drive/MyDrive/Multimodal_machine_learning/Speaker_identification/VoxCeleb1_dataset/Audio_files/vox1_dev_wav_subsampling/wav/id10009/JrwqvWr5_VE/\n",
            "/content/drive/MyDrive/Multimodal_machine_learning/Speaker_identification/VoxCeleb1_dataset/Audio_files/vox1_dev_wav_subsampling/wav/id10009/JntZkGsH2Cc/\n",
            "/content/drive/MyDrive/Multimodal_machine_learning/Speaker_identification/VoxCeleb1_dataset/Audio_files/vox1_dev_wav_subsampling/wav/id10009/sQIqfA-I_Ew/\n",
            "/content/drive/MyDrive/Multimodal_machine_learning/Speaker_identification/VoxCeleb1_dataset/Audio_files/vox1_dev_wav_subsampling/wav/id10009/seo9TTTEoE4/\n",
            "/content/drive/MyDrive/Multimodal_machine_learning/Speaker_identification/VoxCeleb1_dataset/Audio_files/vox1_dev_wav_subsampling/wav/id10009/qdop2-gjKBQ/\n",
            "/content/drive/MyDrive/Multimodal_machine_learning/Speaker_identification/VoxCeleb1_dataset/Audio_files/vox1_dev_wav_subsampling/wav/id10009/VM8gJWbQsEY/\n",
            "/content/drive/MyDrive/Multimodal_machine_learning/Speaker_identification/VoxCeleb1_dataset/Audio_files/vox1_dev_wav_subsampling/wav/id10009/vy8sQ82o0fM/\n",
            "/content/drive/MyDrive/Multimodal_machine_learning/Speaker_identification/VoxCeleb1_dataset/Audio_files/vox1_dev_wav_subsampling/wav/id10009/x_HdUZuSusA/\n",
            "checking dir: /content/drive/MyDrive/Multimodal_machine_learning/Speaker_identification/VoxCeleb1_dataset/Audio_files/vox1_dev_wav_subsampling/wav/id10011/\n",
            "/content/drive/MyDrive/Multimodal_machine_learning/Speaker_identification/VoxCeleb1_dataset/Audio_files/vox1_dev_wav_subsampling/wav/id10011/01En9rUo_Co/\n",
            "/content/drive/MyDrive/Multimodal_machine_learning/Speaker_identification/VoxCeleb1_dataset/Audio_files/vox1_dev_wav_subsampling/wav/id10011/0Wg6d-v2CrQ/\n",
            "/content/drive/MyDrive/Multimodal_machine_learning/Speaker_identification/VoxCeleb1_dataset/Audio_files/vox1_dev_wav_subsampling/wav/id10011/978HIG18Lek/\n",
            "/content/drive/MyDrive/Multimodal_machine_learning/Speaker_identification/VoxCeleb1_dataset/Audio_files/vox1_dev_wav_subsampling/wav/id10011/L_Q9NL9H1wI/\n",
            "/content/drive/MyDrive/Multimodal_machine_learning/Speaker_identification/VoxCeleb1_dataset/Audio_files/vox1_dev_wav_subsampling/wav/id10011/g3SlFv2ui8A/\n",
            "/content/drive/MyDrive/Multimodal_machine_learning/Speaker_identification/VoxCeleb1_dataset/Audio_files/vox1_dev_wav_subsampling/wav/id10011/mwKVL6cadQw/\n",
            "/content/drive/MyDrive/Multimodal_machine_learning/Speaker_identification/VoxCeleb1_dataset/Audio_files/vox1_dev_wav_subsampling/wav/id10011/NY8rvshKUzU/\n",
            "/content/drive/MyDrive/Multimodal_machine_learning/Speaker_identification/VoxCeleb1_dataset/Audio_files/vox1_dev_wav_subsampling/wav/id10011/Q1aiO-vpabc/\n",
            "/content/drive/MyDrive/Multimodal_machine_learning/Speaker_identification/VoxCeleb1_dataset/Audio_files/vox1_dev_wav_subsampling/wav/id10011/QmFNWMU2hKU/\n",
            "/content/drive/MyDrive/Multimodal_machine_learning/Speaker_identification/VoxCeleb1_dataset/Audio_files/vox1_dev_wav_subsampling/wav/id10011/R8SJg-rcjKI/\n",
            "/content/drive/MyDrive/Multimodal_machine_learning/Speaker_identification/VoxCeleb1_dataset/Audio_files/vox1_dev_wav_subsampling/wav/id10011/TsWNxShkS9A/\n",
            "/content/drive/MyDrive/Multimodal_machine_learning/Speaker_identification/VoxCeleb1_dataset/Audio_files/vox1_dev_wav_subsampling/wav/id10011/ujWHD_MTa44/\n",
            "/content/drive/MyDrive/Multimodal_machine_learning/Speaker_identification/VoxCeleb1_dataset/Audio_files/vox1_dev_wav_subsampling/wav/id10011/u3odsIbYouc/\n",
            "/content/drive/MyDrive/Multimodal_machine_learning/Speaker_identification/VoxCeleb1_dataset/Audio_files/vox1_dev_wav_subsampling/wav/id10011/UzGMFpIv-ss/\n",
            "/content/drive/MyDrive/Multimodal_machine_learning/Speaker_identification/VoxCeleb1_dataset/Audio_files/vox1_dev_wav_subsampling/wav/id10011/wbcvg6hIyjs/\n",
            "/content/drive/MyDrive/Multimodal_machine_learning/Speaker_identification/VoxCeleb1_dataset/Audio_files/vox1_dev_wav_subsampling/wav/id10011/YyB6Rk0bOSg/\n",
            "checking dir: /content/drive/MyDrive/Multimodal_machine_learning/Speaker_identification/VoxCeleb1_dataset/Audio_files/vox1_dev_wav_subsampling/wav/id10012/\n",
            "/content/drive/MyDrive/Multimodal_machine_learning/Speaker_identification/VoxCeleb1_dataset/Audio_files/vox1_dev_wav_subsampling/wav/id10012/0AXjxNXiEzo/\n",
            "/content/drive/MyDrive/Multimodal_machine_learning/Speaker_identification/VoxCeleb1_dataset/Audio_files/vox1_dev_wav_subsampling/wav/id10012/1miD-AWtXqk/\n",
            "/content/drive/MyDrive/Multimodal_machine_learning/Speaker_identification/VoxCeleb1_dataset/Audio_files/vox1_dev_wav_subsampling/wav/id10012/AStt8Tx-HXU/\n",
            "/content/drive/MyDrive/Multimodal_machine_learning/Speaker_identification/VoxCeleb1_dataset/Audio_files/vox1_dev_wav_subsampling/wav/id10012/EHSEDnLxkC4/\n",
            "/content/drive/MyDrive/Multimodal_machine_learning/Speaker_identification/VoxCeleb1_dataset/Audio_files/vox1_dev_wav_subsampling/wav/id10012/elHFKzE4K7g/\n",
            "/content/drive/MyDrive/Multimodal_machine_learning/Speaker_identification/VoxCeleb1_dataset/Audio_files/vox1_dev_wav_subsampling/wav/id10012/g5-eq6I-KSo/\n",
            "/content/drive/MyDrive/Multimodal_machine_learning/Speaker_identification/VoxCeleb1_dataset/Audio_files/vox1_dev_wav_subsampling/wav/id10012/GQxAiL_gSJg/\n",
            "/content/drive/MyDrive/Multimodal_machine_learning/Speaker_identification/VoxCeleb1_dataset/Audio_files/vox1_dev_wav_subsampling/wav/id10012/Mb2crBji7Cc/\n",
            "/content/drive/MyDrive/Multimodal_machine_learning/Speaker_identification/VoxCeleb1_dataset/Audio_files/vox1_dev_wav_subsampling/wav/id10012/Mki-3pJgdMw/\n",
            "/content/drive/MyDrive/Multimodal_machine_learning/Speaker_identification/VoxCeleb1_dataset/Audio_files/vox1_dev_wav_subsampling/wav/id10012/o-8xXV5MC8I/\n",
            "/content/drive/MyDrive/Multimodal_machine_learning/Speaker_identification/VoxCeleb1_dataset/Audio_files/vox1_dev_wav_subsampling/wav/id10012/nCwwVjPNloY/\n",
            "/content/drive/MyDrive/Multimodal_machine_learning/Speaker_identification/VoxCeleb1_dataset/Audio_files/vox1_dev_wav_subsampling/wav/id10012/PfrOkWQfi08/\n",
            "/content/drive/MyDrive/Multimodal_machine_learning/Speaker_identification/VoxCeleb1_dataset/Audio_files/vox1_dev_wav_subsampling/wav/id10012/pVhap6mxjW4/\n",
            "/content/drive/MyDrive/Multimodal_machine_learning/Speaker_identification/VoxCeleb1_dataset/Audio_files/vox1_dev_wav_subsampling/wav/id10012/q6SMDFi6fuY/\n",
            "/content/drive/MyDrive/Multimodal_machine_learning/Speaker_identification/VoxCeleb1_dataset/Audio_files/vox1_dev_wav_subsampling/wav/id10012/ugLQaIVIxIw/\n",
            "/content/drive/MyDrive/Multimodal_machine_learning/Speaker_identification/VoxCeleb1_dataset/Audio_files/vox1_dev_wav_subsampling/wav/id10012/tdeNGXCvfno/\n",
            "/content/drive/MyDrive/Multimodal_machine_learning/Speaker_identification/VoxCeleb1_dataset/Audio_files/vox1_dev_wav_subsampling/wav/id10012/zvZZyolTF4g/\n",
            "/content/drive/MyDrive/Multimodal_machine_learning/Speaker_identification/VoxCeleb1_dataset/Audio_files/vox1_dev_wav_subsampling/wav/id10012/zsNhH4wHVdc/\n",
            "/content/drive/MyDrive/Multimodal_machine_learning/Speaker_identification/VoxCeleb1_dataset/Audio_files/vox1_dev_wav_subsampling/wav/id10012/W6kAA9GhYxs/\n",
            "/content/drive/MyDrive/Multimodal_machine_learning/Speaker_identification/VoxCeleb1_dataset/Audio_files/vox1_dev_wav_subsampling/wav/id10012/UJFb8jDbWl0/\n",
            "/content/drive/MyDrive/Multimodal_machine_learning/Speaker_identification/VoxCeleb1_dataset/Audio_files/vox1_dev_wav_subsampling/wav/id10012/vYBOvwSW--4/\n",
            "checking dir: /content/drive/MyDrive/Multimodal_machine_learning/Speaker_identification/VoxCeleb1_dataset/Audio_files/vox1_dev_wav_subsampling/wav/id10013/\n",
            "/content/drive/MyDrive/Multimodal_machine_learning/Speaker_identification/VoxCeleb1_dataset/Audio_files/vox1_dev_wav_subsampling/wav/id10013/8Ia5Ffj4MtQ/\n",
            "/content/drive/MyDrive/Multimodal_machine_learning/Speaker_identification/VoxCeleb1_dataset/Audio_files/vox1_dev_wav_subsampling/wav/id10013/ayglFsYxfj0/\n",
            "/content/drive/MyDrive/Multimodal_machine_learning/Speaker_identification/VoxCeleb1_dataset/Audio_files/vox1_dev_wav_subsampling/wav/id10013/EYYiAyJk1w8/\n",
            "/content/drive/MyDrive/Multimodal_machine_learning/Speaker_identification/VoxCeleb1_dataset/Audio_files/vox1_dev_wav_subsampling/wav/id10013/a3cI12ZNVms/\n",
            "/content/drive/MyDrive/Multimodal_machine_learning/Speaker_identification/VoxCeleb1_dataset/Audio_files/vox1_dev_wav_subsampling/wav/id10013/D8N1aTvis1o/\n",
            "/content/drive/MyDrive/Multimodal_machine_learning/Speaker_identification/VoxCeleb1_dataset/Audio_files/vox1_dev_wav_subsampling/wav/id10013/fYVXJaLX4dA/\n",
            "/content/drive/MyDrive/Multimodal_machine_learning/Speaker_identification/VoxCeleb1_dataset/Audio_files/vox1_dev_wav_subsampling/wav/id10013/hGL2tRHivdw/\n",
            "/content/drive/MyDrive/Multimodal_machine_learning/Speaker_identification/VoxCeleb1_dataset/Audio_files/vox1_dev_wav_subsampling/wav/id10013/HpmwLdV5TAc/\n",
            "/content/drive/MyDrive/Multimodal_machine_learning/Speaker_identification/VoxCeleb1_dataset/Audio_files/vox1_dev_wav_subsampling/wav/id10013/qJ8keZPNFZ4/\n",
            "/content/drive/MyDrive/Multimodal_machine_learning/Speaker_identification/VoxCeleb1_dataset/Audio_files/vox1_dev_wav_subsampling/wav/id10013/J4dr4jUUPWs/\n",
            "/content/drive/MyDrive/Multimodal_machine_learning/Speaker_identification/VoxCeleb1_dataset/Audio_files/vox1_dev_wav_subsampling/wav/id10013/IAFLCkJh_PM/\n",
            "checking dir: /content/drive/MyDrive/Multimodal_machine_learning/Speaker_identification/VoxCeleb1_dataset/Audio_files/vox1_dev_wav_subsampling/wav/id10014/\n",
            "/content/drive/MyDrive/Multimodal_machine_learning/Speaker_identification/VoxCeleb1_dataset/Audio_files/vox1_dev_wav_subsampling/wav/id10014/2kd0eGbbIeg/\n",
            "/content/drive/MyDrive/Multimodal_machine_learning/Speaker_identification/VoxCeleb1_dataset/Audio_files/vox1_dev_wav_subsampling/wav/id10014/6RiWT7JoAkk/\n",
            "/content/drive/MyDrive/Multimodal_machine_learning/Speaker_identification/VoxCeleb1_dataset/Audio_files/vox1_dev_wav_subsampling/wav/id10014/32rU5csGG3U/\n",
            "/content/drive/MyDrive/Multimodal_machine_learning/Speaker_identification/VoxCeleb1_dataset/Audio_files/vox1_dev_wav_subsampling/wav/id10014/70z-Im2hzlg/\n",
            "/content/drive/MyDrive/Multimodal_machine_learning/Speaker_identification/VoxCeleb1_dataset/Audio_files/vox1_dev_wav_subsampling/wav/id10014/AERvjDy1Bn0/\n",
            "/content/drive/MyDrive/Multimodal_machine_learning/Speaker_identification/VoxCeleb1_dataset/Audio_files/vox1_dev_wav_subsampling/wav/id10014/FHiYKAd2Th4/\n",
            "/content/drive/MyDrive/Multimodal_machine_learning/Speaker_identification/VoxCeleb1_dataset/Audio_files/vox1_dev_wav_subsampling/wav/id10014/b8reDPl-P0w/\n",
            "/content/drive/MyDrive/Multimodal_machine_learning/Speaker_identification/VoxCeleb1_dataset/Audio_files/vox1_dev_wav_subsampling/wav/id10014/hepofXpeNAA/\n",
            "/content/drive/MyDrive/Multimodal_machine_learning/Speaker_identification/VoxCeleb1_dataset/Audio_files/vox1_dev_wav_subsampling/wav/id10014/iZ6XrudZsSw/\n",
            "/content/drive/MyDrive/Multimodal_machine_learning/Speaker_identification/VoxCeleb1_dataset/Audio_files/vox1_dev_wav_subsampling/wav/id10014/Llzfnc-K38c/\n",
            "/content/drive/MyDrive/Multimodal_machine_learning/Speaker_identification/VoxCeleb1_dataset/Audio_files/vox1_dev_wav_subsampling/wav/id10014/RbXXh_l-qH8/\n",
            "/content/drive/MyDrive/Multimodal_machine_learning/Speaker_identification/VoxCeleb1_dataset/Audio_files/vox1_dev_wav_subsampling/wav/id10014/s4Go6oBiQ8Y/\n",
            "/content/drive/MyDrive/Multimodal_machine_learning/Speaker_identification/VoxCeleb1_dataset/Audio_files/vox1_dev_wav_subsampling/wav/id10014/x6SoLOKT19w/\n",
            "/content/drive/MyDrive/Multimodal_machine_learning/Speaker_identification/VoxCeleb1_dataset/Audio_files/vox1_dev_wav_subsampling/wav/id10014/QATUag13zcI/\n",
            "/content/drive/MyDrive/Multimodal_machine_learning/Speaker_identification/VoxCeleb1_dataset/Audio_files/vox1_dev_wav_subsampling/wav/id10014/XP0NEmdnh40/\n",
            "/content/drive/MyDrive/Multimodal_machine_learning/Speaker_identification/VoxCeleb1_dataset/Audio_files/vox1_dev_wav_subsampling/wav/id10014/xbDbdm5iv9Q/\n",
            "checking dir: /content/drive/MyDrive/Multimodal_machine_learning/Speaker_identification/VoxCeleb1_dataset/Audio_files/vox1_dev_wav_subsampling/wav/id10015/\n",
            "/content/drive/MyDrive/Multimodal_machine_learning/Speaker_identification/VoxCeleb1_dataset/Audio_files/vox1_dev_wav_subsampling/wav/id10015/1uUxa00zKXE/\n",
            "/content/drive/MyDrive/Multimodal_machine_learning/Speaker_identification/VoxCeleb1_dataset/Audio_files/vox1_dev_wav_subsampling/wav/id10015/3hdsN9oG45Q/\n",
            "/content/drive/MyDrive/Multimodal_machine_learning/Speaker_identification/VoxCeleb1_dataset/Audio_files/vox1_dev_wav_subsampling/wav/id10015/cnfBsYa5iOM/\n",
            "/content/drive/MyDrive/Multimodal_machine_learning/Speaker_identification/VoxCeleb1_dataset/Audio_files/vox1_dev_wav_subsampling/wav/id10015/7rzuEmfRFEA/\n",
            "/content/drive/MyDrive/Multimodal_machine_learning/Speaker_identification/VoxCeleb1_dataset/Audio_files/vox1_dev_wav_subsampling/wav/id10015/dKAazrqEcuI/\n",
            "/content/drive/MyDrive/Multimodal_machine_learning/Speaker_identification/VoxCeleb1_dataset/Audio_files/vox1_dev_wav_subsampling/wav/id10015/ESZSf-D4cgw/\n",
            "/content/drive/MyDrive/Multimodal_machine_learning/Speaker_identification/VoxCeleb1_dataset/Audio_files/vox1_dev_wav_subsampling/wav/id10015/LbR3PNHiXms/\n",
            "/content/drive/MyDrive/Multimodal_machine_learning/Speaker_identification/VoxCeleb1_dataset/Audio_files/vox1_dev_wav_subsampling/wav/id10015/GpBIco6EWl0/\n",
            "/content/drive/MyDrive/Multimodal_machine_learning/Speaker_identification/VoxCeleb1_dataset/Audio_files/vox1_dev_wav_subsampling/wav/id10015/oWww40TVo-s/\n",
            "/content/drive/MyDrive/Multimodal_machine_learning/Speaker_identification/VoxCeleb1_dataset/Audio_files/vox1_dev_wav_subsampling/wav/id10015/PIqPzGtHqNY/\n",
            "/content/drive/MyDrive/Multimodal_machine_learning/Speaker_identification/VoxCeleb1_dataset/Audio_files/vox1_dev_wav_subsampling/wav/id10015/uoAEmu-GbjQ/\n",
            "/content/drive/MyDrive/Multimodal_machine_learning/Speaker_identification/VoxCeleb1_dataset/Audio_files/vox1_dev_wav_subsampling/wav/id10015/wNQ9HultFDs/\n",
            "/content/drive/MyDrive/Multimodal_machine_learning/Speaker_identification/VoxCeleb1_dataset/Audio_files/vox1_dev_wav_subsampling/wav/id10015/V_x_l3deWaU/\n",
            "/content/drive/MyDrive/Multimodal_machine_learning/Speaker_identification/VoxCeleb1_dataset/Audio_files/vox1_dev_wav_subsampling/wav/id10015/Y2FI1LS8lzg/\n",
            "/content/drive/MyDrive/Multimodal_machine_learning/Speaker_identification/VoxCeleb1_dataset/Audio_files/vox1_dev_wav_subsampling/wav/id10015/Wr_zcjHCZLk/\n",
            "checking dir: /content/drive/MyDrive/Multimodal_machine_learning/Speaker_identification/VoxCeleb1_dataset/Audio_files/vox1_dev_wav_subsampling/wav/id10016/\n",
            "/content/drive/MyDrive/Multimodal_machine_learning/Speaker_identification/VoxCeleb1_dataset/Audio_files/vox1_dev_wav_subsampling/wav/id10016/2wHaOQUrkHU/\n",
            "/content/drive/MyDrive/Multimodal_machine_learning/Speaker_identification/VoxCeleb1_dataset/Audio_files/vox1_dev_wav_subsampling/wav/id10016/37mbJ9bXK28/\n",
            "/content/drive/MyDrive/Multimodal_machine_learning/Speaker_identification/VoxCeleb1_dataset/Audio_files/vox1_dev_wav_subsampling/wav/id10016/5xGJYiNH2Jw/\n",
            "/content/drive/MyDrive/Multimodal_machine_learning/Speaker_identification/VoxCeleb1_dataset/Audio_files/vox1_dev_wav_subsampling/wav/id10016/7FOcBtZM-rI/\n",
            "/content/drive/MyDrive/Multimodal_machine_learning/Speaker_identification/VoxCeleb1_dataset/Audio_files/vox1_dev_wav_subsampling/wav/id10016/7OacMAs-Crc/\n",
            "/content/drive/MyDrive/Multimodal_machine_learning/Speaker_identification/VoxCeleb1_dataset/Audio_files/vox1_dev_wav_subsampling/wav/id10016/8gWjr_-ROCc/\n",
            "/content/drive/MyDrive/Multimodal_machine_learning/Speaker_identification/VoxCeleb1_dataset/Audio_files/vox1_dev_wav_subsampling/wav/id10016/a3j4Vg7CtjA/\n",
            "/content/drive/MyDrive/Multimodal_machine_learning/Speaker_identification/VoxCeleb1_dataset/Audio_files/vox1_dev_wav_subsampling/wav/id10016/bIi7FnNx6m0/\n",
            "/content/drive/MyDrive/Multimodal_machine_learning/Speaker_identification/VoxCeleb1_dataset/Audio_files/vox1_dev_wav_subsampling/wav/id10016/CsU9a10ccxA/\n",
            "/content/drive/MyDrive/Multimodal_machine_learning/Speaker_identification/VoxCeleb1_dataset/Audio_files/vox1_dev_wav_subsampling/wav/id10016/dOnuu_9-nyI/\n",
            "/content/drive/MyDrive/Multimodal_machine_learning/Speaker_identification/VoxCeleb1_dataset/Audio_files/vox1_dev_wav_subsampling/wav/id10016/fb31EtxsZDs/\n",
            "/content/drive/MyDrive/Multimodal_machine_learning/Speaker_identification/VoxCeleb1_dataset/Audio_files/vox1_dev_wav_subsampling/wav/id10016/FDXUYIgkTgk/\n",
            "/content/drive/MyDrive/Multimodal_machine_learning/Speaker_identification/VoxCeleb1_dataset/Audio_files/vox1_dev_wav_subsampling/wav/id10016/hgB5ziAudzU/\n",
            "/content/drive/MyDrive/Multimodal_machine_learning/Speaker_identification/VoxCeleb1_dataset/Audio_files/vox1_dev_wav_subsampling/wav/id10016/j0CaA8LPTdc/\n",
            "/content/drive/MyDrive/Multimodal_machine_learning/Speaker_identification/VoxCeleb1_dataset/Audio_files/vox1_dev_wav_subsampling/wav/id10016/k4l2cRqjT78/\n",
            "/content/drive/MyDrive/Multimodal_machine_learning/Speaker_identification/VoxCeleb1_dataset/Audio_files/vox1_dev_wav_subsampling/wav/id10016/LSeSZiv7evE/\n",
            "/content/drive/MyDrive/Multimodal_machine_learning/Speaker_identification/VoxCeleb1_dataset/Audio_files/vox1_dev_wav_subsampling/wav/id10016/l5sY-WWVnZM/\n",
            "/content/drive/MyDrive/Multimodal_machine_learning/Speaker_identification/VoxCeleb1_dataset/Audio_files/vox1_dev_wav_subsampling/wav/id10016/MMTrblYIEgM/\n",
            "/content/drive/MyDrive/Multimodal_machine_learning/Speaker_identification/VoxCeleb1_dataset/Audio_files/vox1_dev_wav_subsampling/wav/id10016/MPkuYnDHS4E/\n",
            "/content/drive/MyDrive/Multimodal_machine_learning/Speaker_identification/VoxCeleb1_dataset/Audio_files/vox1_dev_wav_subsampling/wav/id10016/ocnz4PPv-RQ/\n",
            "/content/drive/MyDrive/Multimodal_machine_learning/Speaker_identification/VoxCeleb1_dataset/Audio_files/vox1_dev_wav_subsampling/wav/id10016/o524HaR7jfE/\n",
            "/content/drive/MyDrive/Multimodal_machine_learning/Speaker_identification/VoxCeleb1_dataset/Audio_files/vox1_dev_wav_subsampling/wav/id10016/NJygdnZs634/\n",
            "/content/drive/MyDrive/Multimodal_machine_learning/Speaker_identification/VoxCeleb1_dataset/Audio_files/vox1_dev_wav_subsampling/wav/id10016/pdTdefdQ_QI/\n",
            "/content/drive/MyDrive/Multimodal_machine_learning/Speaker_identification/VoxCeleb1_dataset/Audio_files/vox1_dev_wav_subsampling/wav/id10016/PnSNt2F59-U/\n",
            "/content/drive/MyDrive/Multimodal_machine_learning/Speaker_identification/VoxCeleb1_dataset/Audio_files/vox1_dev_wav_subsampling/wav/id10016/RREb7K-SoSQ/\n",
            "/content/drive/MyDrive/Multimodal_machine_learning/Speaker_identification/VoxCeleb1_dataset/Audio_files/vox1_dev_wav_subsampling/wav/id10016/SCFgvk0Sm24/\n",
            "/content/drive/MyDrive/Multimodal_machine_learning/Speaker_identification/VoxCeleb1_dataset/Audio_files/vox1_dev_wav_subsampling/wav/id10016/vpnw2jQlZn4/\n",
            "/content/drive/MyDrive/Multimodal_machine_learning/Speaker_identification/VoxCeleb1_dataset/Audio_files/vox1_dev_wav_subsampling/wav/id10016/uM5GCGOXVXc/\n",
            "/content/drive/MyDrive/Multimodal_machine_learning/Speaker_identification/VoxCeleb1_dataset/Audio_files/vox1_dev_wav_subsampling/wav/id10016/WfkA4lUZwZ4/\n",
            "/content/drive/MyDrive/Multimodal_machine_learning/Speaker_identification/VoxCeleb1_dataset/Audio_files/vox1_dev_wav_subsampling/wav/id10016/wg6IOBMAdOc/\n",
            "/content/drive/MyDrive/Multimodal_machine_learning/Speaker_identification/VoxCeleb1_dataset/Audio_files/vox1_dev_wav_subsampling/wav/id10016/WwguhI5dInQ/\n",
            "/content/drive/MyDrive/Multimodal_machine_learning/Speaker_identification/VoxCeleb1_dataset/Audio_files/vox1_dev_wav_subsampling/wav/id10016/ywRolvE7ToY/\n",
            "/content/drive/MyDrive/Multimodal_machine_learning/Speaker_identification/VoxCeleb1_dataset/Audio_files/vox1_dev_wav_subsampling/wav/id10016/Zxab80IZxU8/\n",
            "checking dir: /content/drive/MyDrive/Multimodal_machine_learning/Speaker_identification/VoxCeleb1_dataset/Audio_files/vox1_dev_wav_subsampling/wav/id10017/\n",
            "/content/drive/MyDrive/Multimodal_machine_learning/Speaker_identification/VoxCeleb1_dataset/Audio_files/vox1_dev_wav_subsampling/wav/id10017/5VxX7ZI5z5s/\n",
            "/content/drive/MyDrive/Multimodal_machine_learning/Speaker_identification/VoxCeleb1_dataset/Audio_files/vox1_dev_wav_subsampling/wav/id10017/5r-26vNFeJU/\n",
            "/content/drive/MyDrive/Multimodal_machine_learning/Speaker_identification/VoxCeleb1_dataset/Audio_files/vox1_dev_wav_subsampling/wav/id10017/6ya9UpdRCPs/\n",
            "/content/drive/MyDrive/Multimodal_machine_learning/Speaker_identification/VoxCeleb1_dataset/Audio_files/vox1_dev_wav_subsampling/wav/id10017/7QOGR0zvTxY/\n",
            "/content/drive/MyDrive/Multimodal_machine_learning/Speaker_identification/VoxCeleb1_dataset/Audio_files/vox1_dev_wav_subsampling/wav/id10017/8rp9UYZp-zA/\n",
            "/content/drive/MyDrive/Multimodal_machine_learning/Speaker_identification/VoxCeleb1_dataset/Audio_files/vox1_dev_wav_subsampling/wav/id10017/bNNIcOJGy4w/\n",
            "/content/drive/MyDrive/Multimodal_machine_learning/Speaker_identification/VoxCeleb1_dataset/Audio_files/vox1_dev_wav_subsampling/wav/id10017/BuecddErOwU/\n",
            "/content/drive/MyDrive/Multimodal_machine_learning/Speaker_identification/VoxCeleb1_dataset/Audio_files/vox1_dev_wav_subsampling/wav/id10017/Pkfu9rKM5QA/\n",
            "/content/drive/MyDrive/Multimodal_machine_learning/Speaker_identification/VoxCeleb1_dataset/Audio_files/vox1_dev_wav_subsampling/wav/id10017/iwN6Hu6xyM0/\n",
            "/content/drive/MyDrive/Multimodal_machine_learning/Speaker_identification/VoxCeleb1_dataset/Audio_files/vox1_dev_wav_subsampling/wav/id10017/CYb_opUpiw4/\n",
            "/content/drive/MyDrive/Multimodal_machine_learning/Speaker_identification/VoxCeleb1_dataset/Audio_files/vox1_dev_wav_subsampling/wav/id10017/Px9R6A3XKDM/\n",
            "/content/drive/MyDrive/Multimodal_machine_learning/Speaker_identification/VoxCeleb1_dataset/Audio_files/vox1_dev_wav_subsampling/wav/id10017/pOJlOI5cDZw/\n",
            "/content/drive/MyDrive/Multimodal_machine_learning/Speaker_identification/VoxCeleb1_dataset/Audio_files/vox1_dev_wav_subsampling/wav/id10017/PynZ3bQ3Ga4/\n",
            "/content/drive/MyDrive/Multimodal_machine_learning/Speaker_identification/VoxCeleb1_dataset/Audio_files/vox1_dev_wav_subsampling/wav/id10017/uy0-9hpmHJs/\n",
            "/content/drive/MyDrive/Multimodal_machine_learning/Speaker_identification/VoxCeleb1_dataset/Audio_files/vox1_dev_wav_subsampling/wav/id10017/qFUUDSjCy5M/\n",
            "/content/drive/MyDrive/Multimodal_machine_learning/Speaker_identification/VoxCeleb1_dataset/Audio_files/vox1_dev_wav_subsampling/wav/id10017/xLakEK2bbQw/\n",
            "/content/drive/MyDrive/Multimodal_machine_learning/Speaker_identification/VoxCeleb1_dataset/Audio_files/vox1_dev_wav_subsampling/wav/id10017/xH3Pp_5yxOk/\n",
            "checking dir: /content/drive/MyDrive/Multimodal_machine_learning/Speaker_identification/VoxCeleb1_dataset/Audio_files/vox1_dev_wav_subsampling/wav/id10018/\n",
            "/content/drive/MyDrive/Multimodal_machine_learning/Speaker_identification/VoxCeleb1_dataset/Audio_files/vox1_dev_wav_subsampling/wav/id10018/0gR9vlGI8ro/\n",
            "/content/drive/MyDrive/Multimodal_machine_learning/Speaker_identification/VoxCeleb1_dataset/Audio_files/vox1_dev_wav_subsampling/wav/id10018/2fsToHH2Qz4/\n",
            "/content/drive/MyDrive/Multimodal_machine_learning/Speaker_identification/VoxCeleb1_dataset/Audio_files/vox1_dev_wav_subsampling/wav/id10018/4UXieX7te0U/\n",
            "/content/drive/MyDrive/Multimodal_machine_learning/Speaker_identification/VoxCeleb1_dataset/Audio_files/vox1_dev_wav_subsampling/wav/id10018/8WVqEfbZ4Ic/\n",
            "/content/drive/MyDrive/Multimodal_machine_learning/Speaker_identification/VoxCeleb1_dataset/Audio_files/vox1_dev_wav_subsampling/wav/id10018/A-Q7SmHQT70/\n",
            "/content/drive/MyDrive/Multimodal_machine_learning/Speaker_identification/VoxCeleb1_dataset/Audio_files/vox1_dev_wav_subsampling/wav/id10018/9tu4uaM0YTc/\n",
            "/content/drive/MyDrive/Multimodal_machine_learning/Speaker_identification/VoxCeleb1_dataset/Audio_files/vox1_dev_wav_subsampling/wav/id10018/BaesL7QJLFU/\n",
            "/content/drive/MyDrive/Multimodal_machine_learning/Speaker_identification/VoxCeleb1_dataset/Audio_files/vox1_dev_wav_subsampling/wav/id10018/eckQg181kQY/\n",
            "/content/drive/MyDrive/Multimodal_machine_learning/Speaker_identification/VoxCeleb1_dataset/Audio_files/vox1_dev_wav_subsampling/wav/id10018/aDIdItugOC0/\n",
            "/content/drive/MyDrive/Multimodal_machine_learning/Speaker_identification/VoxCeleb1_dataset/Audio_files/vox1_dev_wav_subsampling/wav/id10018/iYaSdx4Qhv4/\n",
            "/content/drive/MyDrive/Multimodal_machine_learning/Speaker_identification/VoxCeleb1_dataset/Audio_files/vox1_dev_wav_subsampling/wav/id10018/EFFEzbt2k6o/\n",
            "/content/drive/MyDrive/Multimodal_machine_learning/Speaker_identification/VoxCeleb1_dataset/Audio_files/vox1_dev_wav_subsampling/wav/id10018/G4ytSwL9uak/\n",
            "/content/drive/MyDrive/Multimodal_machine_learning/Speaker_identification/VoxCeleb1_dataset/Audio_files/vox1_dev_wav_subsampling/wav/id10018/pJcq28hEvHg/\n",
            "/content/drive/MyDrive/Multimodal_machine_learning/Speaker_identification/VoxCeleb1_dataset/Audio_files/vox1_dev_wav_subsampling/wav/id10018/Q7aBwU0ZeUk/\n",
            "/content/drive/MyDrive/Multimodal_machine_learning/Speaker_identification/VoxCeleb1_dataset/Audio_files/vox1_dev_wav_subsampling/wav/id10018/lCA6CCS7mxc/\n",
            "/content/drive/MyDrive/Multimodal_machine_learning/Speaker_identification/VoxCeleb1_dataset/Audio_files/vox1_dev_wav_subsampling/wav/id10018/RBlk-zGCm0g/\n",
            "/content/drive/MyDrive/Multimodal_machine_learning/Speaker_identification/VoxCeleb1_dataset/Audio_files/vox1_dev_wav_subsampling/wav/id10018/RM55SnIw2uQ/\n",
            "/content/drive/MyDrive/Multimodal_machine_learning/Speaker_identification/VoxCeleb1_dataset/Audio_files/vox1_dev_wav_subsampling/wav/id10018/sqdHikUKOK0/\n",
            "/content/drive/MyDrive/Multimodal_machine_learning/Speaker_identification/VoxCeleb1_dataset/Audio_files/vox1_dev_wav_subsampling/wav/id10018/sci80gk6bUc/\n",
            "/content/drive/MyDrive/Multimodal_machine_learning/Speaker_identification/VoxCeleb1_dataset/Audio_files/vox1_dev_wav_subsampling/wav/id10018/su3ku9D00jA/\n",
            "/content/drive/MyDrive/Multimodal_machine_learning/Speaker_identification/VoxCeleb1_dataset/Audio_files/vox1_dev_wav_subsampling/wav/id10018/TIFdSOTYIBg/\n",
            "/content/drive/MyDrive/Multimodal_machine_learning/Speaker_identification/VoxCeleb1_dataset/Audio_files/vox1_dev_wav_subsampling/wav/id10018/wyaUcxpHOQs/\n",
            "/content/drive/MyDrive/Multimodal_machine_learning/Speaker_identification/VoxCeleb1_dataset/Audio_files/vox1_dev_wav_subsampling/wav/id10018/ZBioF6ulHg8/\n",
            "/content/drive/MyDrive/Multimodal_machine_learning/Speaker_identification/VoxCeleb1_dataset/Audio_files/vox1_dev_wav_subsampling/wav/id10018/YOjilzTiE-Y/\n",
            "checking dir: /content/drive/MyDrive/Multimodal_machine_learning/Speaker_identification/VoxCeleb1_dataset/Audio_files/vox1_dev_wav_subsampling/wav/id10019/\n",
            "/content/drive/MyDrive/Multimodal_machine_learning/Speaker_identification/VoxCeleb1_dataset/Audio_files/vox1_dev_wav_subsampling/wav/id10019/2vSPFNQoKmk/\n",
            "/content/drive/MyDrive/Multimodal_machine_learning/Speaker_identification/VoxCeleb1_dataset/Audio_files/vox1_dev_wav_subsampling/wav/id10019/5AfbbZolonc/\n",
            "/content/drive/MyDrive/Multimodal_machine_learning/Speaker_identification/VoxCeleb1_dataset/Audio_files/vox1_dev_wav_subsampling/wav/id10019/ABpVMOt0WEE/\n",
            "/content/drive/MyDrive/Multimodal_machine_learning/Speaker_identification/VoxCeleb1_dataset/Audio_files/vox1_dev_wav_subsampling/wav/id10019/cE3StI6Qw0w/\n",
            "/content/drive/MyDrive/Multimodal_machine_learning/Speaker_identification/VoxCeleb1_dataset/Audio_files/vox1_dev_wav_subsampling/wav/id10019/dCpykP6iJnA/\n",
            "/content/drive/MyDrive/Multimodal_machine_learning/Speaker_identification/VoxCeleb1_dataset/Audio_files/vox1_dev_wav_subsampling/wav/id10019/feJ12-OYVaU/\n",
            "/content/drive/MyDrive/Multimodal_machine_learning/Speaker_identification/VoxCeleb1_dataset/Audio_files/vox1_dev_wav_subsampling/wav/id10019/KjHVVTWafJQ/\n",
            "/content/drive/MyDrive/Multimodal_machine_learning/Speaker_identification/VoxCeleb1_dataset/Audio_files/vox1_dev_wav_subsampling/wav/id10019/FoACkHPFRTo/\n",
            "/content/drive/MyDrive/Multimodal_machine_learning/Speaker_identification/VoxCeleb1_dataset/Audio_files/vox1_dev_wav_subsampling/wav/id10019/IipkRlgAGC0/\n",
            "/content/drive/MyDrive/Multimodal_machine_learning/Speaker_identification/VoxCeleb1_dataset/Audio_files/vox1_dev_wav_subsampling/wav/id10019/N4ZN6AAv4vU/\n",
            "/content/drive/MyDrive/Multimodal_machine_learning/Speaker_identification/VoxCeleb1_dataset/Audio_files/vox1_dev_wav_subsampling/wav/id10019/KPM7HF0Xc18/\n",
            "/content/drive/MyDrive/Multimodal_machine_learning/Speaker_identification/VoxCeleb1_dataset/Audio_files/vox1_dev_wav_subsampling/wav/id10019/nSpt6fRmaV4/\n",
            "/content/drive/MyDrive/Multimodal_machine_learning/Speaker_identification/VoxCeleb1_dataset/Audio_files/vox1_dev_wav_subsampling/wav/id10019/vw9WhRtxRhE/\n",
            "/content/drive/MyDrive/Multimodal_machine_learning/Speaker_identification/VoxCeleb1_dataset/Audio_files/vox1_dev_wav_subsampling/wav/id10019/XYGmvRZiNNg/\n",
            "/content/drive/MyDrive/Multimodal_machine_learning/Speaker_identification/VoxCeleb1_dataset/Audio_files/vox1_dev_wav_subsampling/wav/id10019/YLTaZK6x2z8/\n",
            "checking dir: /content/drive/MyDrive/Multimodal_machine_learning/Speaker_identification/VoxCeleb1_dataset/Audio_files/vox1_dev_wav_subsampling/wav/id10020/\n",
            "/content/drive/MyDrive/Multimodal_machine_learning/Speaker_identification/VoxCeleb1_dataset/Audio_files/vox1_dev_wav_subsampling/wav/id10020/1elTcNGC3q8/\n",
            "/content/drive/MyDrive/Multimodal_machine_learning/Speaker_identification/VoxCeleb1_dataset/Audio_files/vox1_dev_wav_subsampling/wav/id10020/37HXBdOMKOk/\n",
            "/content/drive/MyDrive/Multimodal_machine_learning/Speaker_identification/VoxCeleb1_dataset/Audio_files/vox1_dev_wav_subsampling/wav/id10020/986AHSerdyI/\n",
            "/content/drive/MyDrive/Multimodal_machine_learning/Speaker_identification/VoxCeleb1_dataset/Audio_files/vox1_dev_wav_subsampling/wav/id10020/7H3a2ZhOt1U/\n",
            "/content/drive/MyDrive/Multimodal_machine_learning/Speaker_identification/VoxCeleb1_dataset/Audio_files/vox1_dev_wav_subsampling/wav/id10020/70e-rrF1NnQ/\n",
            "/content/drive/MyDrive/Multimodal_machine_learning/Speaker_identification/VoxCeleb1_dataset/Audio_files/vox1_dev_wav_subsampling/wav/id10020/aGVMDWHASho/\n",
            "/content/drive/MyDrive/Multimodal_machine_learning/Speaker_identification/VoxCeleb1_dataset/Audio_files/vox1_dev_wav_subsampling/wav/id10020/A_blsQbRRC8/\n",
            "/content/drive/MyDrive/Multimodal_machine_learning/Speaker_identification/VoxCeleb1_dataset/Audio_files/vox1_dev_wav_subsampling/wav/id10020/Gi11Fgbjqdc/\n",
            "/content/drive/MyDrive/Multimodal_machine_learning/Speaker_identification/VoxCeleb1_dataset/Audio_files/vox1_dev_wav_subsampling/wav/id10020/hun71wPQvlI/\n",
            "/content/drive/MyDrive/Multimodal_machine_learning/Speaker_identification/VoxCeleb1_dataset/Audio_files/vox1_dev_wav_subsampling/wav/id10020/HELG9IIqhBE/\n",
            "/content/drive/MyDrive/Multimodal_machine_learning/Speaker_identification/VoxCeleb1_dataset/Audio_files/vox1_dev_wav_subsampling/wav/id10020/H_NA9yw_kVE/\n",
            "/content/drive/MyDrive/Multimodal_machine_learning/Speaker_identification/VoxCeleb1_dataset/Audio_files/vox1_dev_wav_subsampling/wav/id10020/jPGRVcnoOWY/\n",
            "/content/drive/MyDrive/Multimodal_machine_learning/Speaker_identification/VoxCeleb1_dataset/Audio_files/vox1_dev_wav_subsampling/wav/id10020/iNwAECjAAAM/\n",
            "/content/drive/MyDrive/Multimodal_machine_learning/Speaker_identification/VoxCeleb1_dataset/Audio_files/vox1_dev_wav_subsampling/wav/id10020/mcFRwLcBrQA/\n",
            "/content/drive/MyDrive/Multimodal_machine_learning/Speaker_identification/VoxCeleb1_dataset/Audio_files/vox1_dev_wav_subsampling/wav/id10020/jrZbWZ6Y8Jk/\n",
            "/content/drive/MyDrive/Multimodal_machine_learning/Speaker_identification/VoxCeleb1_dataset/Audio_files/vox1_dev_wav_subsampling/wav/id10020/miCK2SKm3XE/\n",
            "/content/drive/MyDrive/Multimodal_machine_learning/Speaker_identification/VoxCeleb1_dataset/Audio_files/vox1_dev_wav_subsampling/wav/id10020/NCFG73oAvUE/\n",
            "/content/drive/MyDrive/Multimodal_machine_learning/Speaker_identification/VoxCeleb1_dataset/Audio_files/vox1_dev_wav_subsampling/wav/id10020/nW-4wrt332E/\n",
            "/content/drive/MyDrive/Multimodal_machine_learning/Speaker_identification/VoxCeleb1_dataset/Audio_files/vox1_dev_wav_subsampling/wav/id10020/oIn5J6YJAmQ/\n",
            "/content/drive/MyDrive/Multimodal_machine_learning/Speaker_identification/VoxCeleb1_dataset/Audio_files/vox1_dev_wav_subsampling/wav/id10020/PzSCbADJSzg/\n",
            "/content/drive/MyDrive/Multimodal_machine_learning/Speaker_identification/VoxCeleb1_dataset/Audio_files/vox1_dev_wav_subsampling/wav/id10020/RSevwDj13_g/\n",
            "/content/drive/MyDrive/Multimodal_machine_learning/Speaker_identification/VoxCeleb1_dataset/Audio_files/vox1_dev_wav_subsampling/wav/id10020/Tv92FNzH3Qc/\n",
            "/content/drive/MyDrive/Multimodal_machine_learning/Speaker_identification/VoxCeleb1_dataset/Audio_files/vox1_dev_wav_subsampling/wav/id10020/Sj407D6anmI/\n",
            "/content/drive/MyDrive/Multimodal_machine_learning/Speaker_identification/VoxCeleb1_dataset/Audio_files/vox1_dev_wav_subsampling/wav/id10020/xHcXn2RLNS8/\n",
            "/content/drive/MyDrive/Multimodal_machine_learning/Speaker_identification/VoxCeleb1_dataset/Audio_files/vox1_dev_wav_subsampling/wav/id10020/UilhQH32RHA/\n",
            "/content/drive/MyDrive/Multimodal_machine_learning/Speaker_identification/VoxCeleb1_dataset/Audio_files/vox1_dev_wav_subsampling/wav/id10020/zFyun6tYFaw/\n",
            "/content/drive/MyDrive/Multimodal_machine_learning/Speaker_identification/VoxCeleb1_dataset/Audio_files/vox1_dev_wav_subsampling/wav/id10020/zHAGrIElkDU/\n"
          ],
          "name": "stdout"
        }
      ]
    },
    {
      "cell_type": "code",
      "metadata": {
        "colab": {
          "base_uri": "https://localhost:8080/",
          "height": 224
        },
        "id": "RVahksPsVLDF",
        "outputId": "7ffef56c-e4a7-440c-c461-ab70e73aaab4"
      },
      "source": [
        "df = pd.DataFrame(raw)\n",
        "df = df[:1000]\n",
        "print(df.shape)\n",
        "df.head()"
      ],
      "execution_count": 7,
      "outputs": [
        {
          "output_type": "stream",
          "text": [
            "(1000, 2)\n"
          ],
          "name": "stdout"
        },
        {
          "output_type": "execute_result",
          "data": {
            "text/html": [
              "<div>\n",
              "<style scoped>\n",
              "    .dataframe tbody tr th:only-of-type {\n",
              "        vertical-align: middle;\n",
              "    }\n",
              "\n",
              "    .dataframe tbody tr th {\n",
              "        vertical-align: top;\n",
              "    }\n",
              "\n",
              "    .dataframe thead th {\n",
              "        text-align: right;\n",
              "    }\n",
              "</style>\n",
              "<table border=\"1\" class=\"dataframe\">\n",
              "  <thead>\n",
              "    <tr style=\"text-align: right;\">\n",
              "      <th></th>\n",
              "      <th>speaker</th>\n",
              "      <th>path</th>\n",
              "    </tr>\n",
              "  </thead>\n",
              "  <tbody>\n",
              "    <tr>\n",
              "      <th>0</th>\n",
              "      <td>id10001</td>\n",
              "      <td>/content/drive/MyDrive/Multimodal_machine_lear...</td>\n",
              "    </tr>\n",
              "    <tr>\n",
              "      <th>1</th>\n",
              "      <td>id10001</td>\n",
              "      <td>/content/drive/MyDrive/Multimodal_machine_lear...</td>\n",
              "    </tr>\n",
              "    <tr>\n",
              "      <th>2</th>\n",
              "      <td>id10001</td>\n",
              "      <td>/content/drive/MyDrive/Multimodal_machine_lear...</td>\n",
              "    </tr>\n",
              "    <tr>\n",
              "      <th>3</th>\n",
              "      <td>id10001</td>\n",
              "      <td>/content/drive/MyDrive/Multimodal_machine_lear...</td>\n",
              "    </tr>\n",
              "    <tr>\n",
              "      <th>4</th>\n",
              "      <td>id10001</td>\n",
              "      <td>/content/drive/MyDrive/Multimodal_machine_lear...</td>\n",
              "    </tr>\n",
              "  </tbody>\n",
              "</table>\n",
              "</div>"
            ],
            "text/plain": [
              "   speaker                                               path\n",
              "0  id10001  /content/drive/MyDrive/Multimodal_machine_lear...\n",
              "1  id10001  /content/drive/MyDrive/Multimodal_machine_lear...\n",
              "2  id10001  /content/drive/MyDrive/Multimodal_machine_lear...\n",
              "3  id10001  /content/drive/MyDrive/Multimodal_machine_lear...\n",
              "4  id10001  /content/drive/MyDrive/Multimodal_machine_lear..."
            ]
          },
          "metadata": {
            "tags": []
          },
          "execution_count": 7
        }
      ]
    },
    {
      "cell_type": "markdown",
      "metadata": {
        "id": "L_N3NTaJVLDG"
      },
      "source": [
        "## Preprocessing and Feuture Extraction\n",
        "\n",
        "* We split the dataset as 70% train and 30% test. The split is performed per speaker and not the entire dataset\n",
        "* Then, we extract MFCC and Delta features"
      ]
    },
    {
      "cell_type": "code",
      "metadata": {
        "colab": {
          "base_uri": "https://localhost:8080/"
        },
        "id": "1vPeCce4VLDH",
        "outputId": "a57b7174-3700-40ab-839f-367b68896f40"
      },
      "source": [
        "# create test dataframe, keep 0.7 of each speaker as train and 0.3 as test\n",
        "train_split = 0.7\n",
        "df_train_list = []\n",
        "df_test_list = []\n",
        "\n",
        "for id in df['speaker'].unique():\n",
        "    speaker = df.loc[df['speaker'] == id]\n",
        "    #suffle and split dataset\n",
        "    speaker = speaker.sample(frac=1, replace=False, random_state=42)\n",
        "    train_indices = int(round(train_split*len(speaker)))\n",
        "    train = speaker[:train_indices]\n",
        "    test = speaker[:len(speaker) - train_indices]\n",
        "    df_train_list.append(train)\n",
        "    df_test_list.append(test)\n",
        "\n",
        "df_train = pd.concat(df_train_list)\n",
        "df_test = pd.concat(df_test_list)\n",
        "\n",
        "df_train = df_train.groupby('speaker')\n",
        "df_train = df_train.apply(lambda x: x.sample(df_train.size().min()).reset_index(drop=True))\n",
        "print(df_train, '\\n')\n",
        "print('Number of speaker samples for train dataset\\n', df_train['speaker'].value_counts(), '\\n')\n",
        "\n",
        "df_test = df_test.groupby('speaker')\n",
        "df_test = df_test.apply(lambda x: x.sample(df_test.size().min()).reset_index(drop=True))\n",
        "print(df_test, '\\n')\n",
        "print('Number of speaker samples for train dataset\\n', df_test['speaker'].value_counts(), '\\n')\n",
        "\n",
        "print(f'Train set size: {df_train.shape}, Test set size {df_test.shape}', '\\n')\n",
        "# print('Number of speaker samples for train dataset\\n', df_train['speaker'].value_counts(), '\\n')\n",
        "\n",
        "# sanity check, check if both train and test sets have same speakers\n",
        "b = set(df_train['speaker'].unique()) == set(df_test['speaker'].unique())\n",
        "b"
      ],
      "execution_count": 8,
      "outputs": [
        {
          "output_type": "stream",
          "text": [
            "            speaker                                               path\n",
            "speaker                                                               \n",
            "id10001 0   id10001  /content/drive/MyDrive/Multimodal_machine_lear...\n",
            "        1   id10001  /content/drive/MyDrive/Multimodal_machine_lear...\n",
            "        2   id10001  /content/drive/MyDrive/Multimodal_machine_lear...\n",
            "        3   id10001  /content/drive/MyDrive/Multimodal_machine_lear...\n",
            "        4   id10001  /content/drive/MyDrive/Multimodal_machine_lear...\n",
            "...             ...                                                ...\n",
            "id10011 16  id10011  /content/drive/MyDrive/Multimodal_machine_lear...\n",
            "        17  id10011  /content/drive/MyDrive/Multimodal_machine_lear...\n",
            "        18  id10011  /content/drive/MyDrive/Multimodal_machine_lear...\n",
            "        19  id10011  /content/drive/MyDrive/Multimodal_machine_lear...\n",
            "        20  id10011  /content/drive/MyDrive/Multimodal_machine_lear...\n",
            "\n",
            "[231 rows x 2 columns] \n",
            "\n",
            "Number of speaker samples for train dataset\n",
            " id10010    21\n",
            "id10009    21\n",
            "id10004    21\n",
            "id10003    21\n",
            "id10002    21\n",
            "id10001    21\n",
            "id10005    21\n",
            "id10007    21\n",
            "id10011    21\n",
            "id10008    21\n",
            "id10006    21\n",
            "Name: speaker, dtype: int64 \n",
            "\n",
            "           speaker                                               path\n",
            "speaker                                                              \n",
            "id10001 0  id10001  /content/drive/MyDrive/Multimodal_machine_lear...\n",
            "        1  id10001  /content/drive/MyDrive/Multimodal_machine_lear...\n",
            "        2  id10001  /content/drive/MyDrive/Multimodal_machine_lear...\n",
            "        3  id10001  /content/drive/MyDrive/Multimodal_machine_lear...\n",
            "        4  id10001  /content/drive/MyDrive/Multimodal_machine_lear...\n",
            "...            ...                                                ...\n",
            "id10011 4  id10011  /content/drive/MyDrive/Multimodal_machine_lear...\n",
            "        5  id10011  /content/drive/MyDrive/Multimodal_machine_lear...\n",
            "        6  id10011  /content/drive/MyDrive/Multimodal_machine_lear...\n",
            "        7  id10011  /content/drive/MyDrive/Multimodal_machine_lear...\n",
            "        8  id10011  /content/drive/MyDrive/Multimodal_machine_lear...\n",
            "\n",
            "[99 rows x 2 columns] \n",
            "\n",
            "Number of speaker samples for train dataset\n",
            " id10007    9\n",
            "id10010    9\n",
            "id10009    9\n",
            "id10004    9\n",
            "id10003    9\n",
            "id10002    9\n",
            "id10011    9\n",
            "id10001    9\n",
            "id10008    9\n",
            "id10005    9\n",
            "id10006    9\n",
            "Name: speaker, dtype: int64 \n",
            "\n",
            "Train set size: (231, 2), Test set size (99, 2) \n",
            "\n"
          ],
          "name": "stdout"
        },
        {
          "output_type": "execute_result",
          "data": {
            "text/plain": [
              "True"
            ]
          },
          "metadata": {
            "tags": []
          },
          "execution_count": 8
        }
      ]
    },
    {
      "cell_type": "code",
      "metadata": {
        "id": "ErVrMZoIVLDI"
      },
      "source": [
        "# number of mfccs per clip\n",
        "n_mfcc = splits = 13\n",
        "\n",
        "df_train[['mfcc','delta']] = df_train['path'].apply(lambda p: extract_mfcc(p, n_mfcc))\n",
        "df_test[['mfcc','delta']] = df_test['path'].apply(lambda p: extract_mfcc(p, n_mfcc))"
      ],
      "execution_count": 9,
      "outputs": []
    },
    {
      "cell_type": "code",
      "metadata": {
        "id": "PaF0h-TEVLDJ"
      },
      "source": [
        "# extract Zero Crossing Rate\n",
        "df_train[['zcr']] = df_train['path'].apply(lambda p: zero_crossing_rate(p, splits))\n",
        "df_test[['zcr']] = df_test['path'].apply(lambda p: zero_crossing_rate(p, splits))"
      ],
      "execution_count": 10,
      "outputs": []
    },
    {
      "cell_type": "code",
      "metadata": {
        "colab": {
          "base_uri": "https://localhost:8080/",
          "height": 376
        },
        "id": "X6KNxXouVLDK",
        "outputId": "13afb18c-00a3-49c5-f591-4de3a2382597"
      },
      "source": [
        "df_train.head()"
      ],
      "execution_count": 11,
      "outputs": [
        {
          "output_type": "execute_result",
          "data": {
            "text/html": [
              "<div>\n",
              "<style scoped>\n",
              "    .dataframe tbody tr th:only-of-type {\n",
              "        vertical-align: middle;\n",
              "    }\n",
              "\n",
              "    .dataframe tbody tr th {\n",
              "        vertical-align: top;\n",
              "    }\n",
              "\n",
              "    .dataframe thead th {\n",
              "        text-align: right;\n",
              "    }\n",
              "</style>\n",
              "<table border=\"1\" class=\"dataframe\">\n",
              "  <thead>\n",
              "    <tr style=\"text-align: right;\">\n",
              "      <th></th>\n",
              "      <th></th>\n",
              "      <th>speaker</th>\n",
              "      <th>path</th>\n",
              "      <th>mfcc</th>\n",
              "      <th>delta</th>\n",
              "      <th>zcr</th>\n",
              "    </tr>\n",
              "    <tr>\n",
              "      <th>speaker</th>\n",
              "      <th></th>\n",
              "      <th></th>\n",
              "      <th></th>\n",
              "      <th></th>\n",
              "      <th></th>\n",
              "      <th></th>\n",
              "    </tr>\n",
              "  </thead>\n",
              "  <tbody>\n",
              "    <tr>\n",
              "      <th rowspan=\"5\" valign=\"top\">id10001</th>\n",
              "      <th>0</th>\n",
              "      <td>id10001</td>\n",
              "      <td>/content/drive/MyDrive/Multimodal_machine_lear...</td>\n",
              "      <td>[-345.6985, 131.83882, -18.344221, 20.758368, ...</td>\n",
              "      <td>[0.12920673, -0.042756937, 0.15335444, 0.17005...</td>\n",
              "      <td>[0.18695950583390528, 0.1089910775566232, 0.19...</td>\n",
              "    </tr>\n",
              "    <tr>\n",
              "      <th>1</th>\n",
              "      <td>id10001</td>\n",
              "      <td>/content/drive/MyDrive/Multimodal_machine_lear...</td>\n",
              "      <td>[-346.3409, 139.96245, -40.98018, 18.740524, -...</td>\n",
              "      <td>[-0.2326042, 0.21860877, 0.11164574, -0.041673...</td>\n",
              "      <td>[0.17437452615617893, 0.0931008339651251, 0.08...</td>\n",
              "    </tr>\n",
              "    <tr>\n",
              "      <th>2</th>\n",
              "      <td>id10001</td>\n",
              "      <td>/content/drive/MyDrive/Multimodal_machine_lear...</td>\n",
              "      <td>[-216.31465, 87.84459, -24.146683, 21.12235, -...</td>\n",
              "      <td>[-0.04415072, -0.0063770995, -0.046658836, -0....</td>\n",
              "      <td>[0.2151578947368421, 0.12284210526315789, 0.12...</td>\n",
              "    </tr>\n",
              "    <tr>\n",
              "      <th>3</th>\n",
              "      <td>id10001</td>\n",
              "      <td>/content/drive/MyDrive/Multimodal_machine_lear...</td>\n",
              "      <td>[-355.34775, 130.00542, -26.847075, 7.3450394,...</td>\n",
              "      <td>[0.25123116, -0.18485874, 0.045854583, -0.0199...</td>\n",
              "      <td>[0.17780580075662042, 0.10298444724674233, 0.1...</td>\n",
              "    </tr>\n",
              "    <tr>\n",
              "      <th>4</th>\n",
              "      <td>id10001</td>\n",
              "      <td>/content/drive/MyDrive/Multimodal_machine_lear...</td>\n",
              "      <td>[-247.31223, 95.44362, 2.9105446, 24.613884, 3...</td>\n",
              "      <td>[-0.074894875, 0.1421691, 0.03857912, -0.09757...</td>\n",
              "      <td>[0.10844453296156144, 0.10794662417845051, 0.0...</td>\n",
              "    </tr>\n",
              "  </tbody>\n",
              "</table>\n",
              "</div>"
            ],
            "text/plain": [
              "           speaker  ...                                                zcr\n",
              "speaker             ...                                                   \n",
              "id10001 0  id10001  ...  [0.18695950583390528, 0.1089910775566232, 0.19...\n",
              "        1  id10001  ...  [0.17437452615617893, 0.0931008339651251, 0.08...\n",
              "        2  id10001  ...  [0.2151578947368421, 0.12284210526315789, 0.12...\n",
              "        3  id10001  ...  [0.17780580075662042, 0.10298444724674233, 0.1...\n",
              "        4  id10001  ...  [0.10844453296156144, 0.10794662417845051, 0.0...\n",
              "\n",
              "[5 rows x 5 columns]"
            ]
          },
          "metadata": {
            "tags": []
          },
          "execution_count": 11
        }
      ]
    },
    {
      "cell_type": "code",
      "metadata": {
        "colab": {
          "base_uri": "https://localhost:8080/",
          "height": 376
        },
        "id": "ljoqCiM4VLDK",
        "outputId": "1602cac3-3290-493d-a25d-c59072c6c8de"
      },
      "source": [
        "df_test.head()"
      ],
      "execution_count": 12,
      "outputs": [
        {
          "output_type": "execute_result",
          "data": {
            "text/html": [
              "<div>\n",
              "<style scoped>\n",
              "    .dataframe tbody tr th:only-of-type {\n",
              "        vertical-align: middle;\n",
              "    }\n",
              "\n",
              "    .dataframe tbody tr th {\n",
              "        vertical-align: top;\n",
              "    }\n",
              "\n",
              "    .dataframe thead th {\n",
              "        text-align: right;\n",
              "    }\n",
              "</style>\n",
              "<table border=\"1\" class=\"dataframe\">\n",
              "  <thead>\n",
              "    <tr style=\"text-align: right;\">\n",
              "      <th></th>\n",
              "      <th></th>\n",
              "      <th>speaker</th>\n",
              "      <th>path</th>\n",
              "      <th>mfcc</th>\n",
              "      <th>delta</th>\n",
              "      <th>zcr</th>\n",
              "    </tr>\n",
              "    <tr>\n",
              "      <th>speaker</th>\n",
              "      <th></th>\n",
              "      <th></th>\n",
              "      <th></th>\n",
              "      <th></th>\n",
              "      <th></th>\n",
              "      <th></th>\n",
              "    </tr>\n",
              "  </thead>\n",
              "  <tbody>\n",
              "    <tr>\n",
              "      <th rowspan=\"5\" valign=\"top\">id10001</th>\n",
              "      <th>0</th>\n",
              "      <td>id10001</td>\n",
              "      <td>/content/drive/MyDrive/Multimodal_machine_lear...</td>\n",
              "      <td>[-344.11142, 151.54346, -23.72291, 15.118629, ...</td>\n",
              "      <td>[-0.69664663, -0.112631336, 0.3929771, 0.29779...</td>\n",
              "      <td>[0.11865095489638358, 0.05810646078829744, 0.1...</td>\n",
              "    </tr>\n",
              "    <tr>\n",
              "      <th>1</th>\n",
              "      <td>id10001</td>\n",
              "      <td>/content/drive/MyDrive/Multimodal_machine_lear...</td>\n",
              "      <td>[-355.34775, 130.00542, -26.847075, 7.3450394,...</td>\n",
              "      <td>[0.25123116, -0.18485874, 0.045854583, -0.0199...</td>\n",
              "      <td>[0.17780580075662042, 0.10298444724674233, 0.1...</td>\n",
              "    </tr>\n",
              "    <tr>\n",
              "      <th>2</th>\n",
              "      <td>id10001</td>\n",
              "      <td>/content/drive/MyDrive/Multimodal_machine_lear...</td>\n",
              "      <td>[-357.03967, 139.31522, -31.362673, 7.242787, ...</td>\n",
              "      <td>[-0.14584865, 0.2274269, 0.18106037, -0.025718...</td>\n",
              "      <td>[0.14857285304748846, 0.0697993269350617, 0.11...</td>\n",
              "    </tr>\n",
              "    <tr>\n",
              "      <th>3</th>\n",
              "      <td>id10001</td>\n",
              "      <td>/content/drive/MyDrive/Multimodal_machine_lear...</td>\n",
              "      <td>[-247.31223, 95.44362, 2.9105446, 24.613884, 3...</td>\n",
              "      <td>[-0.074894875, 0.1421691, 0.03857912, -0.09757...</td>\n",
              "      <td>[0.10844453296156144, 0.10794662417845051, 0.0...</td>\n",
              "    </tr>\n",
              "    <tr>\n",
              "      <th>4</th>\n",
              "      <td>id10001</td>\n",
              "      <td>/content/drive/MyDrive/Multimodal_machine_lear...</td>\n",
              "      <td>[-389.3173, 110.21803, 6.9172373, 18.903309, 2...</td>\n",
              "      <td>[0.104297996, 0.03271199, -0.039536797, -0.019...</td>\n",
              "      <td>[0.0842081370935709, 0.16399024002723714, 0.05...</td>\n",
              "    </tr>\n",
              "  </tbody>\n",
              "</table>\n",
              "</div>"
            ],
            "text/plain": [
              "           speaker  ...                                                zcr\n",
              "speaker             ...                                                   \n",
              "id10001 0  id10001  ...  [0.11865095489638358, 0.05810646078829744, 0.1...\n",
              "        1  id10001  ...  [0.17780580075662042, 0.10298444724674233, 0.1...\n",
              "        2  id10001  ...  [0.14857285304748846, 0.0697993269350617, 0.11...\n",
              "        3  id10001  ...  [0.10844453296156144, 0.10794662417845051, 0.0...\n",
              "        4  id10001  ...  [0.0842081370935709, 0.16399024002723714, 0.05...\n",
              "\n",
              "[5 rows x 5 columns]"
            ]
          },
          "metadata": {
            "tags": []
          },
          "execution_count": 12
        }
      ]
    },
    {
      "cell_type": "code",
      "metadata": {
        "colab": {
          "base_uri": "https://localhost:8080/"
        },
        "id": "84Hr-v6bVLDL",
        "outputId": "f401a6d3-febf-4ffa-f7d4-dbaf919ee2ca"
      },
      "source": [
        "#split dataset\n",
        "from sklearn.model_selection import train_test_split\n",
        "from sklearn.preprocessing import LabelEncoder\n",
        "\n",
        "# keep mfcc and delta and zero crossing rate columns\n",
        "X = df_train.iloc[:,2:5]\n",
        "# keep speaker colum\n",
        "y = df_train.iloc[:,0]\n",
        "\n",
        "le = LabelEncoder()\n",
        "le.fit(list(y))\n",
        "num_labels=len(list(le.classes_))\n",
        "\n",
        "y = le.fit_transform(y)\n",
        "print(f'Number of speakers is {num_labels}')\n",
        "# save label encoder to file\n",
        "np.save('saved_models/classes.npy', le.classes_)\n",
        "print(type(le))\n",
        "X_train, X_val, y_train, y_val = train_test_split(X, y, test_size=0.3, random_state=21)\n",
        "\n",
        "X_train = np.hstack((X_train['mfcc'].to_list(),X_train['delta'].to_list(), X_train['zcr'].to_list()))\n",
        "X_val = np.hstack((X_val['mfcc'].to_list(), X_val['delta'].to_list(), X_val['zcr'].to_list()))\n",
        "print(f'Train set size: {X_train.shape}, Validation set size {X_val.shape}')"
      ],
      "execution_count": 13,
      "outputs": [
        {
          "output_type": "stream",
          "text": [
            "Number of speakers is 11\n",
            "<class 'sklearn.preprocessing._label.LabelEncoder'>\n",
            "Train set size: (161, 39), Validation set size (70, 39)\n"
          ],
          "name": "stdout"
        }
      ]
    },
    {
      "cell_type": "markdown",
      "metadata": {
        "id": "qjEqXlhMVLDL"
      },
      "source": [
        "## Deep Learning Model"
      ]
    },
    {
      "cell_type": "code",
      "metadata": {
        "colab": {
          "base_uri": "https://localhost:8080/"
        },
        "id": "MBw9FdyLVLDM",
        "outputId": "cfd62130-17d5-4279-dd0c-d7c3783968d3"
      },
      "source": [
        "model=Sequential()\n",
        "###first layer\n",
        "model.add(Dense(100,input_shape=(X_train.shape[1],)))\n",
        "model.add(Activation('relu'))\n",
        "model.add(Dropout(0.5))\n",
        "###second layer\n",
        "model.add(Dense(200))\n",
        "model.add(Activation('relu'))\n",
        "model.add(Dropout(0.5))\n",
        "###third layer\n",
        "model.add(Dense(100))\n",
        "model.add(Activation('relu'))\n",
        "model.add(Dropout(0.5))\n",
        "\n",
        "###final layer\n",
        "model.add(Dense(num_labels))\n",
        "model.add(Activation('softmax'))\n",
        "model.compile(loss='sparse_categorical_crossentropy',metrics=['accuracy'],optimizer='adam')\n",
        "\n",
        "model.summary()"
      ],
      "execution_count": 14,
      "outputs": [
        {
          "output_type": "stream",
          "text": [
            "Model: \"sequential\"\n",
            "_________________________________________________________________\n",
            "Layer (type)                 Output Shape              Param #   \n",
            "=================================================================\n",
            "dense (Dense)                (None, 100)               4000      \n",
            "_________________________________________________________________\n",
            "activation (Activation)      (None, 100)               0         \n",
            "_________________________________________________________________\n",
            "dropout (Dropout)            (None, 100)               0         \n",
            "_________________________________________________________________\n",
            "dense_1 (Dense)              (None, 200)               20200     \n",
            "_________________________________________________________________\n",
            "activation_1 (Activation)    (None, 200)               0         \n",
            "_________________________________________________________________\n",
            "dropout_1 (Dropout)          (None, 200)               0         \n",
            "_________________________________________________________________\n",
            "dense_2 (Dense)              (None, 100)               20100     \n",
            "_________________________________________________________________\n",
            "activation_2 (Activation)    (None, 100)               0         \n",
            "_________________________________________________________________\n",
            "dropout_2 (Dropout)          (None, 100)               0         \n",
            "_________________________________________________________________\n",
            "dense_3 (Dense)              (None, 11)                1111      \n",
            "_________________________________________________________________\n",
            "activation_3 (Activation)    (None, 11)                0         \n",
            "=================================================================\n",
            "Total params: 45,411\n",
            "Trainable params: 45,411\n",
            "Non-trainable params: 0\n",
            "_________________________________________________________________\n"
          ],
          "name": "stdout"
        }
      ]
    },
    {
      "cell_type": "code",
      "metadata": {
        "colab": {
          "base_uri": "https://localhost:8080/"
        },
        "id": "cQpXNHHJVLDM",
        "outputId": "5c2eec17-a3d0-4808-907f-ae50e2572fda"
      },
      "source": [
        "## Train model\n",
        "from tensorflow.keras.callbacks import ModelCheckpoint\n",
        "from datetime import datetime \n",
        "\n",
        "num_epochs = 200\n",
        "num_batch_size = 8\n",
        "\n",
        "\n",
        "earlystopping = tf.keras.callbacks.EarlyStopping(monitor='val_accuracy', patience=50)\n",
        "checkpointer = ModelCheckpoint(filepath='saved_models/speakers_classification.hdf5', \n",
        "                               verbose=1, save_best_only=True)\n",
        "start = datetime.now()\n",
        "\n",
        "model_h = model.fit(X_train, y_train, batch_size=num_batch_size, epochs=num_epochs, \n",
        "          validation_data=(X_val, y_val), callbacks=[checkpointer, earlystopping], verbose=1)\n",
        "\n",
        "\n",
        "duration = datetime.now() - start\n",
        "print(\"Training completed in time: \", duration)"
      ],
      "execution_count": 15,
      "outputs": [
        {
          "output_type": "stream",
          "text": [
            "Epoch 1/200\n",
            "21/21 [==============================] - 1s 13ms/step - loss: 62.8791 - accuracy: 0.0683 - val_loss: 8.5633 - val_accuracy: 0.1000\n",
            "\n",
            "Epoch 00001: val_loss improved from inf to 8.56332, saving model to saved_models/speakers_classification.hdf5\n",
            "Epoch 2/200\n",
            "21/21 [==============================] - 0s 3ms/step - loss: 35.7329 - accuracy: 0.0435 - val_loss: 4.8867 - val_accuracy: 0.0429\n",
            "\n",
            "Epoch 00002: val_loss improved from 8.56332 to 4.88666, saving model to saved_models/speakers_classification.hdf5\n",
            "Epoch 3/200\n",
            "21/21 [==============================] - 0s 3ms/step - loss: 25.1347 - accuracy: 0.1118 - val_loss: 2.8940 - val_accuracy: 0.0571\n",
            "\n",
            "Epoch 00003: val_loss improved from 4.88666 to 2.89403, saving model to saved_models/speakers_classification.hdf5\n",
            "Epoch 4/200\n",
            "21/21 [==============================] - 0s 3ms/step - loss: 17.0464 - accuracy: 0.1118 - val_loss: 2.5054 - val_accuracy: 0.0714\n",
            "\n",
            "Epoch 00004: val_loss improved from 2.89403 to 2.50542, saving model to saved_models/speakers_classification.hdf5\n",
            "Epoch 5/200\n",
            "21/21 [==============================] - 0s 4ms/step - loss: 14.7978 - accuracy: 0.0994 - val_loss: 2.4059 - val_accuracy: 0.0714\n",
            "\n",
            "Epoch 00005: val_loss improved from 2.50542 to 2.40591, saving model to saved_models/speakers_classification.hdf5\n",
            "Epoch 6/200\n",
            "21/21 [==============================] - 0s 3ms/step - loss: 10.4574 - accuracy: 0.0994 - val_loss: 2.3990 - val_accuracy: 0.1286\n",
            "\n",
            "Epoch 00006: val_loss improved from 2.40591 to 2.39899, saving model to saved_models/speakers_classification.hdf5\n",
            "Epoch 7/200\n",
            "21/21 [==============================] - 0s 4ms/step - loss: 9.3216 - accuracy: 0.0870 - val_loss: 2.3954 - val_accuracy: 0.1286\n",
            "\n",
            "Epoch 00007: val_loss improved from 2.39899 to 2.39537, saving model to saved_models/speakers_classification.hdf5\n",
            "Epoch 8/200\n",
            "21/21 [==============================] - 0s 4ms/step - loss: 9.5429 - accuracy: 0.0807 - val_loss: 2.3962 - val_accuracy: 0.1286\n",
            "\n",
            "Epoch 00008: val_loss did not improve from 2.39537\n",
            "Epoch 9/200\n",
            "21/21 [==============================] - 0s 3ms/step - loss: 6.0678 - accuracy: 0.1056 - val_loss: 2.3956 - val_accuracy: 0.1286\n",
            "\n",
            "Epoch 00009: val_loss did not improve from 2.39537\n",
            "Epoch 10/200\n",
            "21/21 [==============================] - 0s 4ms/step - loss: 5.2965 - accuracy: 0.0807 - val_loss: 2.3958 - val_accuracy: 0.1286\n",
            "\n",
            "Epoch 00010: val_loss did not improve from 2.39537\n",
            "Epoch 11/200\n",
            "21/21 [==============================] - 0s 3ms/step - loss: 4.6755 - accuracy: 0.1056 - val_loss: 2.3959 - val_accuracy: 0.0714\n",
            "\n",
            "Epoch 00011: val_loss did not improve from 2.39537\n",
            "Epoch 12/200\n",
            "21/21 [==============================] - 0s 3ms/step - loss: 3.9876 - accuracy: 0.0932 - val_loss: 2.3959 - val_accuracy: 0.0714\n",
            "\n",
            "Epoch 00012: val_loss did not improve from 2.39537\n",
            "Epoch 13/200\n",
            "21/21 [==============================] - 0s 3ms/step - loss: 3.6750 - accuracy: 0.1118 - val_loss: 2.3962 - val_accuracy: 0.0714\n",
            "\n",
            "Epoch 00013: val_loss did not improve from 2.39537\n",
            "Epoch 14/200\n",
            "21/21 [==============================] - 0s 4ms/step - loss: 3.3154 - accuracy: 0.0807 - val_loss: 2.3965 - val_accuracy: 0.0714\n",
            "\n",
            "Epoch 00014: val_loss did not improve from 2.39537\n",
            "Epoch 15/200\n",
            "21/21 [==============================] - 0s 3ms/step - loss: 3.4797 - accuracy: 0.0932 - val_loss: 2.3966 - val_accuracy: 0.0714\n",
            "\n",
            "Epoch 00015: val_loss did not improve from 2.39537\n",
            "Epoch 16/200\n",
            "21/21 [==============================] - 0s 3ms/step - loss: 3.2736 - accuracy: 0.0807 - val_loss: 2.3969 - val_accuracy: 0.0714\n",
            "\n",
            "Epoch 00016: val_loss did not improve from 2.39537\n",
            "Epoch 17/200\n",
            "21/21 [==============================] - 0s 3ms/step - loss: 3.3671 - accuracy: 0.0994 - val_loss: 2.3974 - val_accuracy: 0.0714\n",
            "\n",
            "Epoch 00017: val_loss did not improve from 2.39537\n",
            "Epoch 18/200\n",
            "21/21 [==============================] - 0s 3ms/step - loss: 3.2261 - accuracy: 0.0745 - val_loss: 2.3978 - val_accuracy: 0.0714\n",
            "\n",
            "Epoch 00018: val_loss did not improve from 2.39537\n",
            "Epoch 19/200\n",
            "21/21 [==============================] - 0s 3ms/step - loss: 3.0951 - accuracy: 0.0621 - val_loss: 2.3977 - val_accuracy: 0.0714\n",
            "\n",
            "Epoch 00019: val_loss did not improve from 2.39537\n",
            "Epoch 20/200\n",
            "21/21 [==============================] - 0s 3ms/step - loss: 2.9907 - accuracy: 0.1118 - val_loss: 2.3979 - val_accuracy: 0.0714\n",
            "\n",
            "Epoch 00020: val_loss did not improve from 2.39537\n",
            "Epoch 21/200\n",
            "21/21 [==============================] - 0s 3ms/step - loss: 2.7223 - accuracy: 0.0807 - val_loss: 2.3983 - val_accuracy: 0.0714\n",
            "\n",
            "Epoch 00021: val_loss did not improve from 2.39537\n",
            "Epoch 22/200\n",
            "21/21 [==============================] - 0s 3ms/step - loss: 2.5811 - accuracy: 0.1366 - val_loss: 2.3989 - val_accuracy: 0.0714\n",
            "\n",
            "Epoch 00022: val_loss did not improve from 2.39537\n",
            "Epoch 23/200\n",
            "21/21 [==============================] - 0s 3ms/step - loss: 2.7495 - accuracy: 0.0807 - val_loss: 2.3994 - val_accuracy: 0.0714\n",
            "\n",
            "Epoch 00023: val_loss did not improve from 2.39537\n",
            "Epoch 24/200\n",
            "21/21 [==============================] - 0s 3ms/step - loss: 2.5873 - accuracy: 0.1056 - val_loss: 2.4000 - val_accuracy: 0.0714\n",
            "\n",
            "Epoch 00024: val_loss did not improve from 2.39537\n",
            "Epoch 25/200\n",
            "21/21 [==============================] - 0s 3ms/step - loss: 2.6709 - accuracy: 0.1056 - val_loss: 2.4003 - val_accuracy: 0.0714\n",
            "\n",
            "Epoch 00025: val_loss did not improve from 2.39537\n",
            "Epoch 26/200\n",
            "21/21 [==============================] - 0s 3ms/step - loss: 2.6044 - accuracy: 0.0932 - val_loss: 2.4010 - val_accuracy: 0.0714\n",
            "\n",
            "Epoch 00026: val_loss did not improve from 2.39537\n",
            "Epoch 27/200\n",
            "21/21 [==============================] - 0s 3ms/step - loss: 2.6474 - accuracy: 0.0932 - val_loss: 2.4015 - val_accuracy: 0.0714\n",
            "\n",
            "Epoch 00027: val_loss did not improve from 2.39537\n",
            "Epoch 28/200\n",
            "21/21 [==============================] - 0s 4ms/step - loss: 2.5095 - accuracy: 0.1304 - val_loss: 2.4018 - val_accuracy: 0.0714\n",
            "\n",
            "Epoch 00028: val_loss did not improve from 2.39537\n",
            "Epoch 29/200\n",
            "21/21 [==============================] - 0s 4ms/step - loss: 2.5175 - accuracy: 0.0870 - val_loss: 2.4020 - val_accuracy: 0.0714\n",
            "\n",
            "Epoch 00029: val_loss did not improve from 2.39537\n",
            "Epoch 30/200\n",
            "21/21 [==============================] - 0s 3ms/step - loss: 2.5670 - accuracy: 0.1118 - val_loss: 2.4023 - val_accuracy: 0.0714\n",
            "\n",
            "Epoch 00030: val_loss did not improve from 2.39537\n",
            "Epoch 31/200\n",
            "21/21 [==============================] - 0s 3ms/step - loss: 2.6139 - accuracy: 0.0745 - val_loss: 2.4026 - val_accuracy: 0.0714\n",
            "\n",
            "Epoch 00031: val_loss did not improve from 2.39537\n",
            "Epoch 32/200\n",
            "21/21 [==============================] - 0s 4ms/step - loss: 2.4189 - accuracy: 0.1056 - val_loss: 2.4029 - val_accuracy: 0.0714\n",
            "\n",
            "Epoch 00032: val_loss did not improve from 2.39537\n",
            "Epoch 33/200\n",
            "21/21 [==============================] - 0s 3ms/step - loss: 2.4694 - accuracy: 0.1180 - val_loss: 2.4036 - val_accuracy: 0.0714\n",
            "\n",
            "Epoch 00033: val_loss did not improve from 2.39537\n",
            "Epoch 34/200\n",
            "21/21 [==============================] - 0s 3ms/step - loss: 2.6708 - accuracy: 0.0807 - val_loss: 2.4040 - val_accuracy: 0.0714\n",
            "\n",
            "Epoch 00034: val_loss did not improve from 2.39537\n",
            "Epoch 35/200\n",
            "21/21 [==============================] - 0s 3ms/step - loss: 2.4430 - accuracy: 0.0932 - val_loss: 2.4042 - val_accuracy: 0.0714\n",
            "\n",
            "Epoch 00035: val_loss did not improve from 2.39537\n",
            "Epoch 36/200\n",
            "21/21 [==============================] - 0s 4ms/step - loss: 2.4751 - accuracy: 0.1056 - val_loss: 2.4046 - val_accuracy: 0.0714\n",
            "\n",
            "Epoch 00036: val_loss did not improve from 2.39537\n",
            "Epoch 37/200\n",
            "21/21 [==============================] - 0s 3ms/step - loss: 2.6174 - accuracy: 0.0807 - val_loss: 2.4048 - val_accuracy: 0.0714\n",
            "\n",
            "Epoch 00037: val_loss did not improve from 2.39537\n",
            "Epoch 38/200\n",
            "21/21 [==============================] - 0s 3ms/step - loss: 2.4481 - accuracy: 0.0870 - val_loss: 2.4053 - val_accuracy: 0.0714\n",
            "\n",
            "Epoch 00038: val_loss did not improve from 2.39537\n",
            "Epoch 39/200\n",
            "21/21 [==============================] - 0s 3ms/step - loss: 2.4639 - accuracy: 0.1242 - val_loss: 2.4058 - val_accuracy: 0.0714\n",
            "\n",
            "Epoch 00039: val_loss did not improve from 2.39537\n",
            "Epoch 40/200\n",
            "21/21 [==============================] - 0s 3ms/step - loss: 2.4344 - accuracy: 0.0932 - val_loss: 2.4060 - val_accuracy: 0.0714\n",
            "\n",
            "Epoch 00040: val_loss did not improve from 2.39537\n",
            "Epoch 41/200\n",
            "21/21 [==============================] - 0s 4ms/step - loss: 2.5167 - accuracy: 0.1180 - val_loss: 2.4066 - val_accuracy: 0.0714\n",
            "\n",
            "Epoch 00041: val_loss did not improve from 2.39537\n",
            "Epoch 42/200\n",
            "21/21 [==============================] - 0s 4ms/step - loss: 2.5277 - accuracy: 0.1056 - val_loss: 2.4067 - val_accuracy: 0.0714\n",
            "\n",
            "Epoch 00042: val_loss did not improve from 2.39537\n",
            "Epoch 43/200\n",
            "21/21 [==============================] - 0s 3ms/step - loss: 2.4093 - accuracy: 0.1056 - val_loss: 2.4069 - val_accuracy: 0.0714\n",
            "\n",
            "Epoch 00043: val_loss did not improve from 2.39537\n",
            "Epoch 44/200\n",
            "21/21 [==============================] - 0s 4ms/step - loss: 2.4367 - accuracy: 0.0932 - val_loss: 2.4071 - val_accuracy: 0.0714\n",
            "\n",
            "Epoch 00044: val_loss did not improve from 2.39537\n",
            "Epoch 45/200\n",
            "21/21 [==============================] - 0s 4ms/step - loss: 2.4331 - accuracy: 0.0932 - val_loss: 2.4077 - val_accuracy: 0.0714\n",
            "\n",
            "Epoch 00045: val_loss did not improve from 2.39537\n",
            "Epoch 46/200\n",
            "21/21 [==============================] - 0s 4ms/step - loss: 2.4121 - accuracy: 0.0994 - val_loss: 2.4079 - val_accuracy: 0.0714\n",
            "\n",
            "Epoch 00046: val_loss did not improve from 2.39537\n",
            "Epoch 47/200\n",
            "21/21 [==============================] - 0s 4ms/step - loss: 2.4386 - accuracy: 0.0932 - val_loss: 2.4085 - val_accuracy: 0.0714\n",
            "\n",
            "Epoch 00047: val_loss did not improve from 2.39537\n",
            "Epoch 48/200\n",
            "21/21 [==============================] - 0s 3ms/step - loss: 2.4104 - accuracy: 0.0932 - val_loss: 2.4087 - val_accuracy: 0.0714\n",
            "\n",
            "Epoch 00048: val_loss did not improve from 2.39537\n",
            "Epoch 49/200\n",
            "21/21 [==============================] - 0s 3ms/step - loss: 2.4905 - accuracy: 0.0932 - val_loss: 2.4089 - val_accuracy: 0.0714\n",
            "\n",
            "Epoch 00049: val_loss did not improve from 2.39537\n",
            "Epoch 50/200\n",
            "21/21 [==============================] - 0s 3ms/step - loss: 2.4871 - accuracy: 0.0745 - val_loss: 2.4094 - val_accuracy: 0.0714\n",
            "\n",
            "Epoch 00050: val_loss did not improve from 2.39537\n",
            "Epoch 51/200\n",
            "21/21 [==============================] - 0s 4ms/step - loss: 2.5449 - accuracy: 0.0870 - val_loss: 2.4097 - val_accuracy: 0.0714\n",
            "\n",
            "Epoch 00051: val_loss did not improve from 2.39537\n",
            "Epoch 52/200\n",
            "21/21 [==============================] - 0s 4ms/step - loss: 2.4298 - accuracy: 0.1056 - val_loss: 2.4101 - val_accuracy: 0.0714\n",
            "\n",
            "Epoch 00052: val_loss did not improve from 2.39537\n",
            "Epoch 53/200\n",
            "21/21 [==============================] - 0s 3ms/step - loss: 2.3930 - accuracy: 0.1118 - val_loss: 2.4106 - val_accuracy: 0.0714\n",
            "\n",
            "Epoch 00053: val_loss did not improve from 2.39537\n",
            "Epoch 54/200\n",
            "21/21 [==============================] - 0s 3ms/step - loss: 2.4850 - accuracy: 0.0994 - val_loss: 2.4106 - val_accuracy: 0.0714\n",
            "\n",
            "Epoch 00054: val_loss did not improve from 2.39537\n",
            "Epoch 55/200\n",
            "21/21 [==============================] - 0s 3ms/step - loss: 2.4569 - accuracy: 0.0994 - val_loss: 2.4108 - val_accuracy: 0.0714\n",
            "\n",
            "Epoch 00055: val_loss did not improve from 2.39537\n",
            "Epoch 56/200\n",
            "21/21 [==============================] - 0s 3ms/step - loss: 2.4484 - accuracy: 0.1056 - val_loss: 2.4110 - val_accuracy: 0.0714\n",
            "\n",
            "Epoch 00056: val_loss did not improve from 2.39537\n",
            "Training completed in time:  0:00:05.663979\n"
          ],
          "name": "stdout"
        }
      ]
    },
    {
      "cell_type": "markdown",
      "metadata": {
        "id": "4Yugkv3XVLDN"
      },
      "source": [
        "### Check training history"
      ]
    },
    {
      "cell_type": "code",
      "metadata": {
        "colab": {
          "base_uri": "https://localhost:8080/",
          "height": 362
        },
        "id": "DeWVs3Y0VLDN",
        "outputId": "5e94e450-a171-43b5-9c9e-bfb19a63a494"
      },
      "source": [
        "# import matplotlib.pyplot as plt\n",
        "plt.rcParams[\"figure.figsize\"] = (12,12)\n",
        "colors = plt.rcParams['axes.prop_cycle'].by_key()['color']\n",
        "def plot_metrics(history):\n",
        "  metrics = ['loss', 'accuracy']#, 'f1_m', 'recall_m']\n",
        "  for n, metric in enumerate(metrics):\n",
        "    name = metric.replace(\"_\",\" \").capitalize()\n",
        "    plt.subplot(2,2,n+1)\n",
        "    plt.plot(history.epoch, history.history[metric], color=colors[0], label='Train')\n",
        "    plt.plot(history.epoch, history.history['val_'+metric],\n",
        "             color=colors[0], linestyle=\"--\", label='Val')\n",
        "    plt.xlabel('Epoch')\n",
        "    plt.ylabel(name)\n",
        "    if metric == 'loss':\n",
        "      plt.ylim([0, plt.ylim()[1]])\n",
        "    elif metric == 'auc':\n",
        "      plt.ylim([0.8,1])\n",
        "    else:\n",
        "      plt.ylim([0,1])\n",
        "\n",
        "    plt.legend()\n",
        "\n",
        "plot_metrics(model_h)"
      ],
      "execution_count": 16,
      "outputs": [
        {
          "output_type": "display_data",
          "data": {
            "image/png": "[encoded data removed]",
            "text/plain": [
              "<Figure size 864x864 with 2 Axes>"
            ]
          },
          "metadata": {
            "tags": [],
            "needs_background": "light"
          }
        }
      ]
    },
    {
      "cell_type": "markdown",
      "metadata": {
        "id": "trXNNqrkVLDN"
      },
      "source": [
        "### Predict and Classification Report"
      ]
    },
    {
      "cell_type": "code",
      "metadata": {
        "colab": {
          "base_uri": "https://localhost:8080/"
        },
        "id": "Brh0C_8wVLDO",
        "outputId": "bf50f9ea-e3be-4423-f3b5-ecbf5db5db12"
      },
      "source": [
        "from sklearn.metrics import classification_report\n",
        "\n",
        "X_test = np.hstack((df_test['mfcc'].to_list(),\n",
        "                    df_test['delta'].to_list(),\n",
        "                    df_test['zcr'].to_list()))\n",
        "print(X_test.shape)\n",
        "y_true = df_test['speaker']\n",
        "\n",
        "y_pred = model.predict(X_test)\n",
        "y_pred = np.argmax(y_pred, axis=1)\n",
        "y_pred = le.classes_[y_pred]\n",
        "print(y_pred)\n",
        "print(classification_report(y_true, y_pred, target_names=le.classes_))"
      ],
      "execution_count": 17,
      "outputs": [
        {
          "output_type": "stream",
          "text": [
            "(99, 39)\n",
            "['id10004' 'id10004' 'id10004' 'id10004' 'id10004' 'id10004' 'id10004'\n",
            " 'id10004' 'id10004' 'id10004' 'id10004' 'id10004' 'id10004' 'id10004'\n",
            " 'id10004' 'id10004' 'id10004' 'id10004' 'id10004' 'id10004' 'id10004'\n",
            " 'id10004' 'id10004' 'id10004' 'id10004' 'id10004' 'id10004' 'id10004'\n",
            " 'id10004' 'id10004' 'id10004' 'id10004' 'id10004' 'id10004' 'id10004'\n",
            " 'id10004' 'id10004' 'id10004' 'id10004' 'id10004' 'id10004' 'id10004'\n",
            " 'id10004' 'id10004' 'id10004' 'id10004' 'id10004' 'id10004' 'id10004'\n",
            " 'id10004' 'id10004' 'id10004' 'id10004' 'id10004' 'id10004' 'id10004'\n",
            " 'id10004' 'id10004' 'id10004' 'id10004' 'id10004' 'id10004' 'id10004'\n",
            " 'id10004' 'id10004' 'id10004' 'id10004' 'id10004' 'id10004' 'id10004'\n",
            " 'id10004' 'id10004' 'id10004' 'id10004' 'id10004' 'id10004' 'id10004'\n",
            " 'id10004' 'id10004' 'id10004' 'id10004' 'id10004' 'id10004' 'id10004'\n",
            " 'id10004' 'id10004' 'id10004' 'id10004' 'id10004' 'id10004' 'id10004'\n",
            " 'id10004' 'id10004' 'id10004' 'id10004' 'id10004' 'id10004' 'id10004'\n",
            " 'id10004']\n",
            "              precision    recall  f1-score   support\n",
            "\n",
            "     id10001       0.00      0.00      0.00         9\n",
            "     id10002       0.00      0.00      0.00         9\n",
            "     id10003       0.00      0.00      0.00         9\n",
            "     id10004       0.09      1.00      0.17         9\n",
            "     id10005       0.00      0.00      0.00         9\n",
            "     id10006       0.00      0.00      0.00         9\n",
            "     id10007       0.00      0.00      0.00         9\n",
            "     id10008       0.00      0.00      0.00         9\n",
            "     id10009       0.00      0.00      0.00         9\n",
            "     id10010       0.00      0.00      0.00         9\n",
            "     id10011       0.00      0.00      0.00         9\n",
            "\n",
            "    accuracy                           0.09        99\n",
            "   macro avg       0.01      0.09      0.02        99\n",
            "weighted avg       0.01      0.09      0.02        99\n",
            "\n"
          ],
          "name": "stdout"
        },
        {
          "output_type": "stream",
          "text": [
            "/usr/local/lib/python3.7/dist-packages/sklearn/metrics/_classification.py:1272: UndefinedMetricWarning: Precision and F-score are ill-defined and being set to 0.0 in labels with no predicted samples. Use `zero_division` parameter to control this behavior.\n",
            "  _warn_prf(average, modifier, msg_start, len(result))\n"
          ],
          "name": "stderr"
        }
      ]
    },
    {
      "cell_type": "markdown",
      "metadata": {
        "id": "FUwIhU66VLDO"
      },
      "source": [
        "## Gausian Mixture Model\n",
        "\n",
        "Gaussian mixture models are a probabilistic model for representing normally distributed sub-populations within an overall population. A Gaussian mixture model is a distribution assembled from weighted multivariate Gaussian distributions. Weighting factors assign each distribution different levels of importance. The resulting model is a super-position (overlapping) of bell-shaped curves.\n",
        "\n",
        "Gaussian mixture models are semi-parametric. Parametric implies that the model comes from a known distribution (which is in this case, a set of normal distributions). It’s semi-parametric because more components, possibly from unknown distributions, can be added to the model."
      ]
    },
    {
      "cell_type": "code",
      "metadata": {
        "colab": {
          "base_uri": "https://localhost:8080/"
        },
        "id": "t9u5bD0qVLDP",
        "outputId": "b61b8e33-1dd1-4f79-f13d-bce995e78f55"
      },
      "source": [
        "from sklearn import mixture\n",
        "\n",
        "# define number of clusters\n",
        "n_clusters = 7\n",
        "# instantiate and fit the model\n",
        "gmm = mixture.GaussianMixture(n_components=n_clusters,\n",
        "                              covariance_type='diag')\n",
        "                              # max_iter=200,\n",
        "                              # weights_init=[0.06113069 0.28385238 0.16488565 0.27208425 0.21804704])\n",
        "\n",
        "gmm.fit(X_train)\n",
        "\n",
        "# check if the model has converged\n",
        "print('Converged:', gmm.converged_, '\\n')\n",
        "\n",
        "# extract weight of each cluster\n",
        "print('GMM weights:\\n', gmm.weights_, '\\n')\n",
        "\n",
        "# extract means of each cluster\n",
        "# print('GMM means:\\n', gmm.means_)\n",
        "\n",
        "# labels\n",
        "y_true_gmm = df_test['speaker']\n",
        "\n",
        "# predict\n",
        "y_pred_gmm = gmm.predict(X_test)\n",
        "labels = y_pred_gmm\n",
        "\n",
        "# extract classes\n",
        "y_pred_gmm = le.classes_[y_pred_gmm]\n",
        "# print(y_pred_gmm, '\\n')\n",
        "\n",
        "# evaluate model\n",
        "print(classification_report(y_true_gmm, y_pred_gmm, target_names=le.classes_), '\\n')\n",
        "\n",
        "# confusion matrix\n",
        "confusion = metrics.confusion_matrix(y_true_gmm, y_pred_gmm)\n",
        "print('Confusion Matrix\\n')\n",
        "print(confusion)\n",
        "\n",
        "# save model\n",
        "filename = 'saved_models/gaussian_mixture_model.sav'\n",
        "pickle.dump(gmm, open(filename, 'wb'))\n",
        "\n",
        "\n",
        "# # display predicted scores by the model as a contour plot\n",
        "# x = np.linspace(0., 39., 39, endpoint=True)\n",
        "# # np.linspace(0, 10, N, endpoint=True)\n",
        "# y = np.linspace(0., 39., 39, endpoint=True)\n",
        "# X, Y = np.meshgrid(x, y)\n",
        "# XX = np.array([X.ravel(), Y.ravel()]).T\n",
        "# Z = -clf.score_samples(XX)\n",
        "# Z = Z.reshape(X.shape)\n",
        "\n",
        "# CS = plt.contour(X, Y, Z, norm=LogNorm(vmin=1.0, vmax=1000.0),\n",
        "#                  levels=np.logspace(0, 3, 10))\n",
        "# CB = plt.colorbar(CS, shrink=0.8, extend='both')\n",
        "# plt.scatter(X_train[:, 0], X_train[:, 1], .8)\n",
        "\n",
        "# plt.title('Negative log-likelihood predicted by a GMM')\n",
        "# plt.axis('tight')\n",
        "# plt.show()"
      ],
      "execution_count": 18,
      "outputs": [
        {
          "output_type": "stream",
          "text": [
            "Converged: True \n",
            "\n",
            "GMM weights:\n",
            " [0.22797299 0.21027007 0.12554263 0.1142781  0.03104245 0.22877711\n",
            " 0.06211666] \n",
            "\n",
            "              precision    recall  f1-score   support\n",
            "\n",
            "     id10001       0.00      0.00      0.00         9\n",
            "     id10002       0.00      0.00      0.00         9\n",
            "     id10003       0.20      0.22      0.21         9\n",
            "     id10004       0.20      0.33      0.25         9\n",
            "     id10005       0.00      0.00      0.00         9\n",
            "     id10006       0.00      0.00      0.00         9\n",
            "     id10007       0.00      0.00      0.00         9\n",
            "     id10008       0.00      0.00      0.00         9\n",
            "     id10009       0.00      0.00      0.00         9\n",
            "     id10010       0.00      0.00      0.00         9\n",
            "     id10011       0.00      0.00      0.00         9\n",
            "\n",
            "    accuracy                           0.05        99\n",
            "   macro avg       0.04      0.05      0.04        99\n",
            "weighted avg       0.04      0.05      0.04        99\n",
            " \n",
            "\n",
            "Confusion Matrix\n",
            "\n",
            "[[0 4 1 0 0 4 0 0 0 0 0]\n",
            " [5 0 3 0 0 1 0 0 0 0 0]\n",
            " [5 2 2 0 0 0 0 0 0 0 0]\n",
            " [2 3 0 3 0 0 1 0 0 0 0]\n",
            " [4 1 1 3 0 0 0 0 0 0 0]\n",
            " [0 6 0 1 2 0 0 0 0 0 0]\n",
            " [0 2 0 0 1 6 0 0 0 0 0]\n",
            " [0 2 0 2 0 5 0 0 0 0 0]\n",
            " [2 2 0 3 0 2 0 0 0 0 0]\n",
            " [0 6 1 1 0 1 0 0 0 0 0]\n",
            " [0 1 2 2 0 4 0 0 0 0 0]]\n"
          ],
          "name": "stdout"
        },
        {
          "output_type": "stream",
          "text": [
            "/usr/local/lib/python3.7/dist-packages/sklearn/metrics/_classification.py:1272: UndefinedMetricWarning: Precision and F-score are ill-defined and being set to 0.0 in labels with no predicted samples. Use `zero_division` parameter to control this behavior.\n",
            "  _warn_prf(average, modifier, msg_start, len(result))\n"
          ],
          "name": "stderr"
        }
      ]
    },
    {
      "cell_type": "code",
      "metadata": {
        "id": "rm85gsEfVLDP"
      },
      "source": [
        "# # load the model from disk\n",
        "# loaded_model = pickle.load(open(filename, 'rb'))\n",
        "# result = loaded_model.score(X_test, Y_test)\n",
        "# print(result)"
      ],
      "execution_count": 19,
      "outputs": []
    },
    {
      "cell_type": "markdown",
      "metadata": {
        "id": "F6qWWR0b0ZZD"
      },
      "source": [
        "Scatter plot of the data"
      ]
    },
    {
      "cell_type": "code",
      "metadata": {
        "colab": {
          "base_uri": "https://localhost:8080/",
          "height": 718
        },
        "id": "LFIi1yeXoyWW",
        "outputId": "d8889343-e22e-48ce-d607-f7744acd3892"
      },
      "source": [
        "# scatter plot\n",
        "plt.scatter(X_test[:, 0], X_test[:, 1], c=labels, s=40, cmap='viridis')"
      ],
      "execution_count": 20,
      "outputs": [
        {
          "output_type": "execute_result",
          "data": {
            "text/plain": [
              "<matplotlib.collections.PathCollection at 0x7f84d064e2d0>"
            ]
          },
          "metadata": {
            "tags": []
          },
          "execution_count": 20
        },
        {
          "output_type": "display_data",
          "data": {
            "image/png": "[encoded data removed]",
            "text/plain": [
              "<Figure size 864x864 with 1 Axes>"
            ]
          },
          "metadata": {
            "tags": [],
            "needs_background": "light"
          }
        }
      ]
    },
    {
      "cell_type": "markdown",
      "metadata": {
        "id": "HZuJ_1bE36or"
      },
      "source": [
        "Posterior probabilities of each component"
      ]
    },
    {
      "cell_type": "code",
      "metadata": {
        "colab": {
          "base_uri": "https://localhost:8080/"
        },
        "id": "HqscG7whriDs",
        "outputId": "aa425712-9234-448d-d2c0-2bed81ddb2dc"
      },
      "source": [
        "# posterior probabilities\n",
        "probs = gmm.predict_proba(X_train)\n",
        "# print(probs[:10].round(3))\n",
        "print(probs.round(3))"
      ],
      "execution_count": 21,
      "outputs": [
        {
          "output_type": "stream",
          "text": [
            "[[0.    0.    0.    ... 0.    0.    0.998]\n",
            " [0.    0.    0.    ... 0.    1.    0.   ]\n",
            " [0.    0.    1.    ... 0.    0.    0.   ]\n",
            " ...\n",
            " [1.    0.    0.    ... 0.    0.    0.   ]\n",
            " [0.    0.    0.    ... 0.    1.    0.   ]\n",
            " [0.    0.033 0.    ... 0.    0.    0.   ]]\n"
          ],
          "name": "stdout"
        }
      ]
    },
    {
      "cell_type": "markdown",
      "metadata": {
        "id": "Y8eCVq5_85wO"
      },
      "source": [
        "Determine the best number of clusters"
      ]
    },
    {
      "cell_type": "code",
      "metadata": {
        "colab": {
          "base_uri": "https://localhost:8080/",
          "height": 531
        },
        "id": "yngOFTx1wv4V",
        "outputId": "c76032bf-e16e-432f-e046-ef4f894ea8ce"
      },
      "source": [
        "# Set up a range of cluster numbers to try\n",
        "n_range = range(2,21)\n",
        "\n",
        "# Create empty lists to store the BIC and AIC values\n",
        "bic_score = []\n",
        "aic_score = []\n",
        "\n",
        "# Loop through the range and fit a model\n",
        "for n in n_range:\n",
        "    gm = mixture.GaussianMixture(n_components=n, random_state=123, n_init=10)\n",
        "    gm.fit(X_train)\n",
        "    \n",
        "    # Append the BIC and AIC to the respective lists\n",
        "    bic_score.append(gm.bic(X_train))\n",
        "    aic_score.append(gm.aic(X_train))\n",
        "    \n",
        "# Plot the BIC and AIC values together\n",
        "fig, ax = plt.subplots(figsize=(12,8),nrows=1)\n",
        "ax.plot(n_range, bic_score, '-o', color='orange')\n",
        "ax.plot(n_range, aic_score, '-o', color='green')\n",
        "ax.set(xlabel='Number of Clusters', ylabel='Score')\n",
        "ax.set_xticks(n_range)\n",
        "ax.set_title('BIC and AIC Scores Per Number Of Clusters')"
      ],
      "execution_count": 22,
      "outputs": [
        {
          "output_type": "execute_result",
          "data": {
            "text/plain": [
              "Text(0.5, 1.0, 'BIC and AIC Scores Per Number Of Clusters')"
            ]
          },
          "metadata": {
            "tags": []
          },
          "execution_count": 22
        },
        {
          "output_type": "display_data",
          "data": {
            "image/png": "[encoded data removed]",
            "text/plain": [
              "<Figure size 864x576 with 1 Axes>"
            ]
          },
          "metadata": {
            "tags": [],
            "needs_background": "light"
          }
        }
      ]
    },
    {
      "cell_type": "code",
      "metadata": {
        "colab": {
          "base_uri": "https://localhost:8080/"
        },
        "id": "QpylKBVFgtrr",
        "outputId": "023df7c1-7924-4929-c6a8-f7639d33072a"
      },
      "source": [
        "gmm_scores = gmm.score_samples(X_test)\n",
        "print('GMM means of each mixture component:\\n', gmm.means_, '\\n')\n",
        "print('GMM weighted log probabilities for each sample:\\n', gmm_scores[0:20])"
      ],
      "execution_count": 23,
      "outputs": [
        {
          "output_type": "stream",
          "text": [
            "GMM means of each mixture component:\n",
            " [[-2.86740190e+02  1.32131479e+02  1.16644141e+00  1.91520278e+01\n",
            "  -3.04527205e+00 -1.51349202e+00 -1.14590611e+01 -2.71772001e+00\n",
            "  -6.58113227e+00  1.61244424e+00 -8.76740997e-01  4.90600644e-01\n",
            "  -2.19342613e+00  1.14566369e-01  3.98646279e-02 -1.29906968e-02\n",
            "   2.17844840e-02  1.71483069e-02 -3.05408768e-02 -2.34689533e-02\n",
            "  -6.79111507e-03  4.28799154e-03 -4.37451575e-03 -8.13115645e-03\n",
            "  -3.81344469e-03 -1.31518870e-02  7.81449995e-02  7.92697389e-02\n",
            "   7.86106863e-02  8.98800103e-02  8.80669912e-02  7.83119193e-02\n",
            "   7.82874183e-02  7.11735600e-02  8.03398479e-02  8.24351829e-02\n",
            "   7.82984757e-02  8.43476160e-02  7.37945199e-02]\n",
            " [-3.27985709e+02  9.54647410e+01 -2.41019802e-01  1.27846332e+01\n",
            "  -3.30496301e+00 -5.60299421e+00 -1.09286252e+01 -2.33318905e+00\n",
            "  -8.60772615e+00 -4.21700081e+00 -2.34928152e+00 -4.49963786e+00\n",
            "  -2.81979668e+00  2.87671408e-02  4.98055005e-02 -2.54586579e-02\n",
            "   1.56363317e-03 -3.98158684e-02 -2.24956356e-02  1.23785800e-02\n",
            "   1.61933941e-02 -9.28398529e-03 -8.38141779e-03  1.06037730e-02\n",
            "   5.25057594e-03 -5.61885597e-04  1.65280992e-01  1.71599074e-01\n",
            "   1.66085931e-01  1.56717842e-01  1.40995771e-01  1.48129616e-01\n",
            "   1.43897271e-01  1.44065741e-01  1.30749815e-01  1.58883562e-01\n",
            "   1.04440609e-01  1.42975706e-01  1.39403164e-01]\n",
            " [-2.19193690e+02  1.22276369e+02 -6.31089413e+00  1.81974143e+01\n",
            "  -2.77931414e+00 -9.32221801e+00 -1.01483563e+01 -8.14390039e+00\n",
            "  -7.33771672e+00 -4.28043298e+00 -2.65483098e+00 -1.34232539e+00\n",
            "  -7.05137733e+00 -6.17482749e-03  1.16823598e-01  8.05148369e-03\n",
            "  -1.34111734e-02 -3.70251132e-02 -9.14625432e-03  6.20537693e-03\n",
            "  -9.41569009e-03 -6.78795683e-03 -8.65290496e-03  4.77099484e-03\n",
            "   5.61546575e-03  3.60226718e-03  7.85958312e-02  9.96648621e-02\n",
            "   9.59363277e-02  9.58560105e-02  9.40261045e-02  8.98387003e-02\n",
            "   8.09216943e-02  1.07190802e-01  7.84910543e-02  8.70315819e-02\n",
            "   9.25916714e-02  1.08296675e-01  8.70807014e-02]\n",
            " [-2.33881642e+02  7.63379613e+01 -1.66950873e+01  2.16478736e+01\n",
            "  -1.55768155e+01 -5.26731449e+00 -1.98469892e+01 -3.55429473e+00\n",
            "  -7.07053270e+00 -4.80304638e-01 -4.97197757e+00 -1.61530603e+00\n",
            "  -5.79591045e+00  5.89121841e-02  3.04790233e-02 -7.28250773e-03\n",
            "  -1.00971550e-02 -1.34837365e-05 -1.09379251e-03  2.94546312e-03\n",
            "  -1.35478492e-02 -2.41574431e-03 -1.77957432e-02  9.27892194e-03\n",
            "   3.59894855e-04  5.08808805e-03  1.70380427e-01  1.55526155e-01\n",
            "   1.36331189e-01  1.75147587e-01  1.87640086e-01  1.74611427e-01\n",
            "   1.76965018e-01  1.55493866e-01  1.69988793e-01  1.59920625e-01\n",
            "   1.72458240e-01  1.57618153e-01  1.76208923e-01]\n",
            " [-4.53927803e+02  8.26061504e+01  9.48269300e-01  7.14270588e+00\n",
            "   3.29444503e+00 -1.16698407e+01 -7.11671181e+00  7.54266141e-01\n",
            "  -9.47611909e+00 -5.43998614e+00 -5.34506544e+00 -4.29574919e+00\n",
            "  -1.22193903e+00  5.61874880e-01 -2.85035682e-02  1.06607871e-02\n",
            "   4.58798678e-02 -4.23160977e-02 -5.29007586e-02 -1.47330600e-02\n",
            "  -1.11997665e-02 -2.43693602e-02 -3.33576804e-03 -1.61932719e-02\n",
            "  -9.91647685e-03  5.47774493e-03  1.05440919e-01  1.53221415e-01\n",
            "   1.11413494e-01  2.10665338e-01  1.65474053e-01  1.41155813e-01\n",
            "   1.83956046e-01  2.09460887e-01  2.30289762e-01  1.52110906e-01\n",
            "   1.52197606e-01  1.71032395e-01  1.48931181e-01]\n",
            " [-3.23795956e+02  1.09598917e+02 -1.66777722e+01  6.36868888e+00\n",
            "  -8.89178414e+00 -1.56964283e+01 -1.54041710e+01 -5.24134204e+00\n",
            "  -1.08458631e+01 -3.86583599e+00 -7.09959498e+00 -5.80242753e+00\n",
            "  -7.53415155e+00  1.43839404e-01 -1.24330043e-02  5.31575294e-03\n",
            "   9.92097025e-03  1.25214647e-04 -9.49084153e-03 -1.82920569e-03\n",
            "   7.66464937e-03 -1.80429198e-02 -1.44376080e-02 -4.44956375e-03\n",
            "  -1.05968695e-03 -2.55986820e-03  1.28188689e-01  1.13094282e-01\n",
            "   1.14258055e-01  1.30198114e-01  1.14593391e-01  1.42587438e-01\n",
            "   1.24990230e-01  1.16077373e-01  1.01288043e-01  1.20821480e-01\n",
            "   1.33302201e-01  1.18395899e-01  1.37678006e-01]\n",
            " [-1.14487679e+02  7.30888680e+01 -1.97709741e+01  2.64128734e+01\n",
            "  -1.49627468e+01 -1.01652491e+01 -1.28102732e+01 -1.03842049e+01\n",
            "  -8.53117479e-01 -2.07728902e+00 -2.50693382e+00 -1.71108693e+00\n",
            "  -7.56437798e+00 -2.90749654e-04  1.59075344e-02  3.02260453e-02\n",
            "   4.40003031e-03  2.41638111e-02 -1.81759439e-02  6.96909911e-03\n",
            "  -1.39012850e-03  3.10928797e-03 -3.24291270e-03  4.23336732e-03\n",
            "  -6.34200272e-03 -6.61628925e-03  1.82961016e-01  1.69391627e-01\n",
            "   1.28686153e-01  1.63233974e-01  1.56604575e-01  1.55534748e-01\n",
            "   1.50295364e-01  1.89281844e-01  1.29652662e-01  1.58377330e-01\n",
            "   1.76734934e-01  1.66166128e-01  1.68845583e-01]] \n",
            "\n",
            "GMM weighted log probabilities for each sample:\n",
            " [-34.03067221  -5.93030031 -18.36037212  -2.24364886  -0.27483907\n",
            " -14.4898731   -0.82752607   0.58435921 -20.35101387 -20.63316373\n",
            "  -3.07629213  -2.95615119   3.48500943  -1.12580534  -9.03748177\n",
            "  -7.27820789 -15.79024202  -6.84672902 -16.10240614 -11.01713229]\n"
          ],
          "name": "stdout"
        }
      ]
    }
  ]
}