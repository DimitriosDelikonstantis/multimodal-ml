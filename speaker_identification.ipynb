{
  "nbformat": 4,
  "nbformat_minor": 0,
  "metadata": {
    "kernelspec": {
      "display_name": "Python 3",
      "language": "python",
      "name": "python3"
    },
    "language_info": {
      "codemirror_mode": {
        "name": "ipython",
        "version": 3
      },
      "file_extension": ".py",
      "mimetype": "text/x-python",
      "name": "python",
      "nbconvert_exporter": "python",
      "pygments_lexer": "ipython3",
      "version": "3.9.5"
    },
    "colab": {
      "name": "speaker_identification.ipynb",
      "provenance": [],
      "collapsed_sections": []
    }
  },
  "cells": [
    {
      "cell_type": "code",
      "metadata": {
        "colab": {
          "base_uri": "https://localhost:8080/"
        },
        "id": "kzErzR-4kjNh",
        "outputId": "a57537f6-d388-465a-d71f-b27a1d1cb1c6"
      },
      "source": [
        "from google.colab import drive\n",
        "drive.mount('/content/drive')"
      ],
      "execution_count": null,
      "outputs": [
        {
          "output_type": "stream",
          "text": [
            "Drive already mounted at /content/drive; to attempt to forcibly remount, call drive.mount(\"/content/drive\", force_remount=True).\n"
          ],
          "name": "stdout"
        }
      ]
    },
    {
      "cell_type": "code",
      "metadata": {
        "colab": {
          "base_uri": "https://localhost:8080/"
        },
        "id": "y5GQgLcSkkhh",
        "outputId": "d4f1d6c5-633f-4834-b983-a097cc1a26a2"
      },
      "source": [
        "%cd /content/drive/MyDrive/Multimodal_machine_learning/Speaker_identification/speaker-similarity\n",
        "!pwd"
      ],
      "execution_count": null,
      "outputs": [
        {
          "output_type": "stream",
          "text": [
            "/content/drive/MyDrive/Multimodal_machine_learning/Speaker_identification/speaker-similarity\n",
            "/content/drive/MyDrive/Multimodal_machine_learning/Speaker_identification/speaker-similarity\n"
          ],
          "name": "stdout"
        }
      ]
    },
    {
      "cell_type": "code",
      "metadata": {
        "colab": {
          "base_uri": "https://localhost:8080/"
        },
        "id": "l9IbDJv3kc-n",
        "outputId": "21a1cdcf-081f-4463-ad5d-ca88dc1e20ae"
      },
      "source": [
        "!pip3 install librosa"
      ],
      "execution_count": null,
      "outputs": [
        {
          "output_type": "stream",
          "text": [
            "Requirement already satisfied: librosa in /usr/local/lib/python3.7/dist-packages (0.8.1)\n",
            "Requirement already satisfied: joblib>=0.14 in /usr/local/lib/python3.7/dist-packages (from librosa) (1.0.1)\n",
            "Requirement already satisfied: soundfile>=0.10.2 in /usr/local/lib/python3.7/dist-packages (from librosa) (0.10.3.post1)\n",
            "Requirement already satisfied: audioread>=2.0.0 in /usr/local/lib/python3.7/dist-packages (from librosa) (2.1.9)\n",
            "Requirement already satisfied: packaging>=20.0 in /usr/local/lib/python3.7/dist-packages (from librosa) (20.9)\n",
            "Requirement already satisfied: decorator>=3.0.0 in /usr/local/lib/python3.7/dist-packages (from librosa) (4.4.2)\n",
            "Requirement already satisfied: resampy>=0.2.2 in /usr/local/lib/python3.7/dist-packages (from librosa) (0.2.2)\n",
            "Requirement already satisfied: numpy>=1.15.0 in /usr/local/lib/python3.7/dist-packages (from librosa) (1.19.5)\n",
            "Requirement already satisfied: scikit-learn!=0.19.0,>=0.14.0 in /usr/local/lib/python3.7/dist-packages (from librosa) (0.22.2.post1)\n",
            "Requirement already satisfied: scipy>=1.0.0 in /usr/local/lib/python3.7/dist-packages (from librosa) (1.4.1)\n",
            "Requirement already satisfied: numba>=0.43.0 in /usr/local/lib/python3.7/dist-packages (from librosa) (0.51.2)\n",
            "Requirement already satisfied: pooch>=1.0 in /usr/local/lib/python3.7/dist-packages (from librosa) (1.4.0)\n",
            "Requirement already satisfied: cffi>=1.0 in /usr/local/lib/python3.7/dist-packages (from soundfile>=0.10.2->librosa) (1.14.5)\n",
            "Requirement already satisfied: pyparsing>=2.0.2 in /usr/local/lib/python3.7/dist-packages (from packaging>=20.0->librosa) (2.4.7)\n",
            "Requirement already satisfied: six>=1.3 in /usr/local/lib/python3.7/dist-packages (from resampy>=0.2.2->librosa) (1.15.0)\n",
            "Requirement already satisfied: setuptools in /usr/local/lib/python3.7/dist-packages (from numba>=0.43.0->librosa) (57.0.0)\n",
            "Requirement already satisfied: llvmlite<0.35,>=0.34.0.dev0 in /usr/local/lib/python3.7/dist-packages (from numba>=0.43.0->librosa) (0.34.0)\n",
            "Requirement already satisfied: requests in /usr/local/lib/python3.7/dist-packages (from pooch>=1.0->librosa) (2.23.0)\n",
            "Requirement already satisfied: appdirs in /usr/local/lib/python3.7/dist-packages (from pooch>=1.0->librosa) (1.4.4)\n",
            "Requirement already satisfied: pycparser in /usr/local/lib/python3.7/dist-packages (from cffi>=1.0->soundfile>=0.10.2->librosa) (2.20)\n",
            "Requirement already satisfied: urllib3!=1.25.0,!=1.25.1,<1.26,>=1.21.1 in /usr/local/lib/python3.7/dist-packages (from requests->pooch>=1.0->librosa) (1.24.3)\n",
            "Requirement already satisfied: idna<3,>=2.5 in /usr/local/lib/python3.7/dist-packages (from requests->pooch>=1.0->librosa) (2.10)\n",
            "Requirement already satisfied: certifi>=2017.4.17 in /usr/local/lib/python3.7/dist-packages (from requests->pooch>=1.0->librosa) (2021.5.30)\n",
            "Requirement already satisfied: chardet<4,>=3.0.2 in /usr/local/lib/python3.7/dist-packages (from requests->pooch>=1.0->librosa) (3.0.4)\n"
          ],
          "name": "stdout"
        }
      ]
    },
    {
      "cell_type": "code",
      "metadata": {
        "colab": {
          "base_uri": "https://localhost:8080/"
        },
        "id": "uqG1osx2kc-q",
        "outputId": "fbf7dd09-e382-4d4c-b5b0-b28026132ef8"
      },
      "source": [
        "import librosa\n",
        "import librosa.display\n",
        "import IPython.display as ipd\n",
        "import matplotlib.pyplot as plt\n",
        "import numpy as np\n",
        "import pandas as pd\n",
        "import os\n",
        "\n",
        "import tensorflow as tf\n",
        "print(tf.__version__)\n",
        "from tensorflow.keras.models import Sequential\n",
        "from tensorflow.keras.layers import Dense,Dropout,Activation,Flatten\n",
        "from tensorflow.keras.optimizers import Adam\n",
        "from sklearn import metrics"
      ],
      "execution_count": null,
      "outputs": [
        {
          "output_type": "stream",
          "text": [
            "2.5.0\n"
          ],
          "name": "stdout"
        }
      ]
    },
    {
      "cell_type": "markdown",
      "metadata": {
        "id": "44wZCnjLkc-t"
      },
      "source": [
        "## Dataset\n",
        "\n",
        "We check given directory to find all available *.wav* files."
      ]
    },
    {
      "cell_type": "code",
      "metadata": {
        "id": "dL4jYD2Ukc-u"
      },
      "source": [
        "# helper\n",
        "def contains_number(s):\n",
        "    return any(i.isdigit() for i in s)"
      ],
      "execution_count": null,
      "outputs": []
    },
    {
      "cell_type": "code",
      "metadata": {
        "id": "otE8YiSjkc-u",
        "colab": {
          "base_uri": "https://localhost:8080/"
        },
        "outputId": "684822ee-4a68-4e4f-fd46-9f4e7ca170f3"
      },
      "source": [
        "#check source directory and find classes\n",
        "source_dir = '/content/drive/MyDrive/Multimodal_machine_learning/Speaker_identification/VoxCeleb1_dataset/Audio_files/vox1_dev_wav_subsampling/wav'\n",
        "# source_dir = './audio/'\n",
        "speakers = [name for name in os.listdir(source_dir) if os.path.isdir(os.path.join(source_dir, name))]\n",
        "print(speakers)\n",
        "raw = []\n",
        "for speaker in speakers:\n",
        "    path = os.path.join(source_dir, speaker) + '/'\n",
        "    print('checking dir:', path)\n",
        "    folders = [f for f in os.listdir(path) if not f.startswith('.') ]\n",
        "    for folder in folders:\n",
        "        clip_path = os.path.join(path, folder) + '/'\n",
        "        print(clip_path)\n",
        "        clips = [f for f in os.listdir(clip_path) if f.endswith('.wav')]\n",
        "        for clip in clips:\n",
        "            raw.append({'speaker': speaker, 'path':clip_path+clip})"
      ],
      "execution_count": null,
      "outputs": [
        {
          "output_type": "stream",
          "text": [
            "['id10001', 'id10002', 'id10003', 'id10004', 'id10005', 'id10006', 'id10007', 'id10008', 'id10010', 'id10009', 'id10011', 'id10012', 'id10013', 'id10014', 'id10015', 'id10016', 'id10017', 'id10018', 'id10019', 'id10020']\n",
            "checking dir: /content/drive/MyDrive/Multimodal_machine_learning/Speaker_identification/VoxCeleb1_dataset/Audio_files/vox1_dev_wav_subsampling/wav/id10001/\n",
            "/content/drive/MyDrive/Multimodal_machine_learning/Speaker_identification/VoxCeleb1_dataset/Audio_files/vox1_dev_wav_subsampling/wav/id10001/Y8hIVOBuels/\n",
            "/content/drive/MyDrive/Multimodal_machine_learning/Speaker_identification/VoxCeleb1_dataset/Audio_files/vox1_dev_wav_subsampling/wav/id10001/7gWzIy6yIIk/\n",
            "/content/drive/MyDrive/Multimodal_machine_learning/Speaker_identification/VoxCeleb1_dataset/Audio_files/vox1_dev_wav_subsampling/wav/id10001/7w0IBEWc9Qw/\n",
            "/content/drive/MyDrive/Multimodal_machine_learning/Speaker_identification/VoxCeleb1_dataset/Audio_files/vox1_dev_wav_subsampling/wav/id10001/1zcIwhmdeo4/\n",
            "/content/drive/MyDrive/Multimodal_machine_learning/Speaker_identification/VoxCeleb1_dataset/Audio_files/vox1_dev_wav_subsampling/wav/id10001/DtdEYdViWdw/\n",
            "/content/drive/MyDrive/Multimodal_machine_learning/Speaker_identification/VoxCeleb1_dataset/Audio_files/vox1_dev_wav_subsampling/wav/id10001/9mQ11vBs1wc/\n",
            "/content/drive/MyDrive/Multimodal_machine_learning/Speaker_identification/VoxCeleb1_dataset/Audio_files/vox1_dev_wav_subsampling/wav/id10001/zELwAz2W6hM/\n",
            "/content/drive/MyDrive/Multimodal_machine_learning/Speaker_identification/VoxCeleb1_dataset/Audio_files/vox1_dev_wav_subsampling/wav/id10001/J9lHsKG98U8/\n",
            "/content/drive/MyDrive/Multimodal_machine_learning/Speaker_identification/VoxCeleb1_dataset/Audio_files/vox1_dev_wav_subsampling/wav/id10001/eWIX7sfn-M0/\n",
            "/content/drive/MyDrive/Multimodal_machine_learning/Speaker_identification/VoxCeleb1_dataset/Audio_files/vox1_dev_wav_subsampling/wav/id10001/utrA-v8pPm4/\n",
            "checking dir: /content/drive/MyDrive/Multimodal_machine_learning/Speaker_identification/VoxCeleb1_dataset/Audio_files/vox1_dev_wav_subsampling/wav/id10002/\n",
            "/content/drive/MyDrive/Multimodal_machine_learning/Speaker_identification/VoxCeleb1_dataset/Audio_files/vox1_dev_wav_subsampling/wav/id10002/0_laIeN-Q44/\n",
            "/content/drive/MyDrive/Multimodal_machine_learning/Speaker_identification/VoxCeleb1_dataset/Audio_files/vox1_dev_wav_subsampling/wav/id10002/6WO410QOeuo/\n",
            "/content/drive/MyDrive/Multimodal_machine_learning/Speaker_identification/VoxCeleb1_dataset/Audio_files/vox1_dev_wav_subsampling/wav/id10002/C7k7C-PDvAA/\n",
            "/content/drive/MyDrive/Multimodal_machine_learning/Speaker_identification/VoxCeleb1_dataset/Audio_files/vox1_dev_wav_subsampling/wav/id10002/VMaXdHLz5Bk/\n",
            "/content/drive/MyDrive/Multimodal_machine_learning/Speaker_identification/VoxCeleb1_dataset/Audio_files/vox1_dev_wav_subsampling/wav/id10002/gaQqIoV_aLY/\n",
            "/content/drive/MyDrive/Multimodal_machine_learning/Speaker_identification/VoxCeleb1_dataset/Audio_files/vox1_dev_wav_subsampling/wav/id10002/QanuGhOhb9A/\n",
            "/content/drive/MyDrive/Multimodal_machine_learning/Speaker_identification/VoxCeleb1_dataset/Audio_files/vox1_dev_wav_subsampling/wav/id10002/RLKKsYiCMvc/\n",
            "/content/drive/MyDrive/Multimodal_machine_learning/Speaker_identification/VoxCeleb1_dataset/Audio_files/vox1_dev_wav_subsampling/wav/id10002/SI4D2_YXvBE/\n",
            "/content/drive/MyDrive/Multimodal_machine_learning/Speaker_identification/VoxCeleb1_dataset/Audio_files/vox1_dev_wav_subsampling/wav/id10002/TqUbiOgEb0w/\n",
            "/content/drive/MyDrive/Multimodal_machine_learning/Speaker_identification/VoxCeleb1_dataset/Audio_files/vox1_dev_wav_subsampling/wav/id10002/Mpr9wqUuLQA/\n",
            "/content/drive/MyDrive/Multimodal_machine_learning/Speaker_identification/VoxCeleb1_dataset/Audio_files/vox1_dev_wav_subsampling/wav/id10002/QnnjJ9i5WFs/\n",
            "/content/drive/MyDrive/Multimodal_machine_learning/Speaker_identification/VoxCeleb1_dataset/Audio_files/vox1_dev_wav_subsampling/wav/id10002/cMGEuZ1zqXk/\n",
            "/content/drive/MyDrive/Multimodal_machine_learning/Speaker_identification/VoxCeleb1_dataset/Audio_files/vox1_dev_wav_subsampling/wav/id10002/eNc4LrrvV80/\n",
            "/content/drive/MyDrive/Multimodal_machine_learning/Speaker_identification/VoxCeleb1_dataset/Audio_files/vox1_dev_wav_subsampling/wav/id10002/w9H-ZMvdE9M/\n",
            "/content/drive/MyDrive/Multimodal_machine_learning/Speaker_identification/VoxCeleb1_dataset/Audio_files/vox1_dev_wav_subsampling/wav/id10002/wd_7oYV4dsU/\n",
            "/content/drive/MyDrive/Multimodal_machine_learning/Speaker_identification/VoxCeleb1_dataset/Audio_files/vox1_dev_wav_subsampling/wav/id10002/Y2Gr1I2DO7M/\n",
            "/content/drive/MyDrive/Multimodal_machine_learning/Speaker_identification/VoxCeleb1_dataset/Audio_files/vox1_dev_wav_subsampling/wav/id10002/xTV-jFAUKcw/\n",
            "checking dir: /content/drive/MyDrive/Multimodal_machine_learning/Speaker_identification/VoxCeleb1_dataset/Audio_files/vox1_dev_wav_subsampling/wav/id10003/\n",
            "/content/drive/MyDrive/Multimodal_machine_learning/Speaker_identification/VoxCeleb1_dataset/Audio_files/vox1_dev_wav_subsampling/wav/id10003/A7Hh1WKmHsg/\n",
            "/content/drive/MyDrive/Multimodal_machine_learning/Speaker_identification/VoxCeleb1_dataset/Audio_files/vox1_dev_wav_subsampling/wav/id10003/A8SBCxYzJgs/\n",
            "/content/drive/MyDrive/Multimodal_machine_learning/Speaker_identification/VoxCeleb1_dataset/Audio_files/vox1_dev_wav_subsampling/wav/id10003/bDxy7bnj_bc/\n",
            "/content/drive/MyDrive/Multimodal_machine_learning/Speaker_identification/VoxCeleb1_dataset/Audio_files/vox1_dev_wav_subsampling/wav/id10003/EGPV-Xa0LGk/\n",
            "/content/drive/MyDrive/Multimodal_machine_learning/Speaker_identification/VoxCeleb1_dataset/Audio_files/vox1_dev_wav_subsampling/wav/id10003/BQxxhq4539A/\n",
            "/content/drive/MyDrive/Multimodal_machine_learning/Speaker_identification/VoxCeleb1_dataset/Audio_files/vox1_dev_wav_subsampling/wav/id10003/5ablueV_1tw/\n",
            "/content/drive/MyDrive/Multimodal_machine_learning/Speaker_identification/VoxCeleb1_dataset/Audio_files/vox1_dev_wav_subsampling/wav/id10003/E_6MjfYr0sQ/\n",
            "/content/drive/MyDrive/Multimodal_machine_learning/Speaker_identification/VoxCeleb1_dataset/Audio_files/vox1_dev_wav_subsampling/wav/id10003/FfmnkloV_zg/\n",
            "/content/drive/MyDrive/Multimodal_machine_learning/Speaker_identification/VoxCeleb1_dataset/Audio_files/vox1_dev_wav_subsampling/wav/id10003/K5zRxtXc27s/\n",
            "/content/drive/MyDrive/Multimodal_machine_learning/Speaker_identification/VoxCeleb1_dataset/Audio_files/vox1_dev_wav_subsampling/wav/id10003/Tzn91xwBaWE/\n",
            "/content/drive/MyDrive/Multimodal_machine_learning/Speaker_identification/VoxCeleb1_dataset/Audio_files/vox1_dev_wav_subsampling/wav/id10003/tCq2LcKO6xY/\n",
            "/content/drive/MyDrive/Multimodal_machine_learning/Speaker_identification/VoxCeleb1_dataset/Audio_files/vox1_dev_wav_subsampling/wav/id10003/_JpHD6VnJ3I/\n",
            "/content/drive/MyDrive/Multimodal_machine_learning/Speaker_identification/VoxCeleb1_dataset/Audio_files/vox1_dev_wav_subsampling/wav/id10003/yzIXg93UOIM/\n",
            "/content/drive/MyDrive/Multimodal_machine_learning/Speaker_identification/VoxCeleb1_dataset/Audio_files/vox1_dev_wav_subsampling/wav/id10003/NC70RWJDnMg/\n",
            "/content/drive/MyDrive/Multimodal_machine_learning/Speaker_identification/VoxCeleb1_dataset/Audio_files/vox1_dev_wav_subsampling/wav/id10003/na8-QEFmj44/\n",
            "checking dir: /content/drive/MyDrive/Multimodal_machine_learning/Speaker_identification/VoxCeleb1_dataset/Audio_files/vox1_dev_wav_subsampling/wav/id10004/\n",
            "/content/drive/MyDrive/Multimodal_machine_learning/Speaker_identification/VoxCeleb1_dataset/Audio_files/vox1_dev_wav_subsampling/wav/id10004/6WxS8rpNjmk/\n",
            "/content/drive/MyDrive/Multimodal_machine_learning/Speaker_identification/VoxCeleb1_dataset/Audio_files/vox1_dev_wav_subsampling/wav/id10004/8mWxQ6DRO-U/\n",
            "/content/drive/MyDrive/Multimodal_machine_learning/Speaker_identification/VoxCeleb1_dataset/Audio_files/vox1_dev_wav_subsampling/wav/id10004/bIZQaEVuATQ/\n",
            "/content/drive/MyDrive/Multimodal_machine_learning/Speaker_identification/VoxCeleb1_dataset/Audio_files/vox1_dev_wav_subsampling/wav/id10004/CCygVo0iPvw/\n",
            "/content/drive/MyDrive/Multimodal_machine_learning/Speaker_identification/VoxCeleb1_dataset/Audio_files/vox1_dev_wav_subsampling/wav/id10004/BOAd7pybyZw/\n",
            "/content/drive/MyDrive/Multimodal_machine_learning/Speaker_identification/VoxCeleb1_dataset/Audio_files/vox1_dev_wav_subsampling/wav/id10004/CWTpJe2RqOA/\n",
            "/content/drive/MyDrive/Multimodal_machine_learning/Speaker_identification/VoxCeleb1_dataset/Audio_files/vox1_dev_wav_subsampling/wav/id10004/dwKTFeIhTOQ/\n",
            "/content/drive/MyDrive/Multimodal_machine_learning/Speaker_identification/VoxCeleb1_dataset/Audio_files/vox1_dev_wav_subsampling/wav/id10004/eaYIxBz6lBU/\n",
            "/content/drive/MyDrive/Multimodal_machine_learning/Speaker_identification/VoxCeleb1_dataset/Audio_files/vox1_dev_wav_subsampling/wav/id10004/IEV-I9f21ns/\n",
            "/content/drive/MyDrive/Multimodal_machine_learning/Speaker_identification/VoxCeleb1_dataset/Audio_files/vox1_dev_wav_subsampling/wav/id10004/JKMfqmjUwMU/\n",
            "/content/drive/MyDrive/Multimodal_machine_learning/Speaker_identification/VoxCeleb1_dataset/Audio_files/vox1_dev_wav_subsampling/wav/id10004/lu_eVSfv3Tg/\n",
            "/content/drive/MyDrive/Multimodal_machine_learning/Speaker_identification/VoxCeleb1_dataset/Audio_files/vox1_dev_wav_subsampling/wav/id10004/q6QJY1ndpOY/\n",
            "/content/drive/MyDrive/Multimodal_machine_learning/Speaker_identification/VoxCeleb1_dataset/Audio_files/vox1_dev_wav_subsampling/wav/id10004/zcB1pnBt_Tc/\n",
            "/content/drive/MyDrive/Multimodal_machine_learning/Speaker_identification/VoxCeleb1_dataset/Audio_files/vox1_dev_wav_subsampling/wav/id10004/SMKC-WLY6F0/\n",
            "/content/drive/MyDrive/Multimodal_machine_learning/Speaker_identification/VoxCeleb1_dataset/Audio_files/vox1_dev_wav_subsampling/wav/id10004/qqhJQYlENHs/\n",
            "/content/drive/MyDrive/Multimodal_machine_learning/Speaker_identification/VoxCeleb1_dataset/Audio_files/vox1_dev_wav_subsampling/wav/id10004/Oftn1-Z0Lbk/\n",
            "/content/drive/MyDrive/Multimodal_machine_learning/Speaker_identification/VoxCeleb1_dataset/Audio_files/vox1_dev_wav_subsampling/wav/id10004/wQJ3cED8ZSw/\n",
            "checking dir: /content/drive/MyDrive/Multimodal_machine_learning/Speaker_identification/VoxCeleb1_dataset/Audio_files/vox1_dev_wav_subsampling/wav/id10005/\n",
            "/content/drive/MyDrive/Multimodal_machine_learning/Speaker_identification/VoxCeleb1_dataset/Audio_files/vox1_dev_wav_subsampling/wav/id10005/L21ozpbmODY/\n",
            "/content/drive/MyDrive/Multimodal_machine_learning/Speaker_identification/VoxCeleb1_dataset/Audio_files/vox1_dev_wav_subsampling/wav/id10005/oJYptXzCASM/\n",
            "/content/drive/MyDrive/Multimodal_machine_learning/Speaker_identification/VoxCeleb1_dataset/Audio_files/vox1_dev_wav_subsampling/wav/id10005/1geDB-I2TjE/\n",
            "/content/drive/MyDrive/Multimodal_machine_learning/Speaker_identification/VoxCeleb1_dataset/Audio_files/vox1_dev_wav_subsampling/wav/id10005/mzZj5a0FgZY/\n",
            "/content/drive/MyDrive/Multimodal_machine_learning/Speaker_identification/VoxCeleb1_dataset/Audio_files/vox1_dev_wav_subsampling/wav/id10005/PP0cQLwYz5M/\n",
            "/content/drive/MyDrive/Multimodal_machine_learning/Speaker_identification/VoxCeleb1_dataset/Audio_files/vox1_dev_wav_subsampling/wav/id10005/6-crWEwaThs/\n",
            "/content/drive/MyDrive/Multimodal_machine_learning/Speaker_identification/VoxCeleb1_dataset/Audio_files/vox1_dev_wav_subsampling/wav/id10005/38_N-A-QOUo/\n",
            "/content/drive/MyDrive/Multimodal_machine_learning/Speaker_identification/VoxCeleb1_dataset/Audio_files/vox1_dev_wav_subsampling/wav/id10005/UguBGTDl3FM/\n",
            "/content/drive/MyDrive/Multimodal_machine_learning/Speaker_identification/VoxCeleb1_dataset/Audio_files/vox1_dev_wav_subsampling/wav/id10005/RSguOg1U-NA/\n",
            "/content/drive/MyDrive/Multimodal_machine_learning/Speaker_identification/VoxCeleb1_dataset/Audio_files/vox1_dev_wav_subsampling/wav/id10005/WD-MtwoWSxs/\n",
            "/content/drive/MyDrive/Multimodal_machine_learning/Speaker_identification/VoxCeleb1_dataset/Audio_files/vox1_dev_wav_subsampling/wav/id10005/x-1gq_B3snI/\n",
            "/content/drive/MyDrive/Multimodal_machine_learning/Speaker_identification/VoxCeleb1_dataset/Audio_files/vox1_dev_wav_subsampling/wav/id10005/ZZR6EqjbzwI/\n",
            "/content/drive/MyDrive/Multimodal_machine_learning/Speaker_identification/VoxCeleb1_dataset/Audio_files/vox1_dev_wav_subsampling/wav/id10005/WMh3ye5tBsE/\n",
            "/content/drive/MyDrive/Multimodal_machine_learning/Speaker_identification/VoxCeleb1_dataset/Audio_files/vox1_dev_wav_subsampling/wav/id10005/Yks5By_Hv_Y/\n",
            "checking dir: /content/drive/MyDrive/Multimodal_machine_learning/Speaker_identification/VoxCeleb1_dataset/Audio_files/vox1_dev_wav_subsampling/wav/id10006/\n",
            "/content/drive/MyDrive/Multimodal_machine_learning/Speaker_identification/VoxCeleb1_dataset/Audio_files/vox1_dev_wav_subsampling/wav/id10006/0otHlFztX8I/\n",
            "/content/drive/MyDrive/Multimodal_machine_learning/Speaker_identification/VoxCeleb1_dataset/Audio_files/vox1_dev_wav_subsampling/wav/id10006/3MwyuwaVE50/\n",
            "/content/drive/MyDrive/Multimodal_machine_learning/Speaker_identification/VoxCeleb1_dataset/Audio_files/vox1_dev_wav_subsampling/wav/id10006/3RybHF5mX78/\n",
            "/content/drive/MyDrive/Multimodal_machine_learning/Speaker_identification/VoxCeleb1_dataset/Audio_files/vox1_dev_wav_subsampling/wav/id10006/5PBimrKDrJQ/\n",
            "/content/drive/MyDrive/Multimodal_machine_learning/Speaker_identification/VoxCeleb1_dataset/Audio_files/vox1_dev_wav_subsampling/wav/id10006/5tGaUGO_z50/\n",
            "/content/drive/MyDrive/Multimodal_machine_learning/Speaker_identification/VoxCeleb1_dataset/Audio_files/vox1_dev_wav_subsampling/wav/id10006/7qUfkhbDaqc/\n",
            "/content/drive/MyDrive/Multimodal_machine_learning/Speaker_identification/VoxCeleb1_dataset/Audio_files/vox1_dev_wav_subsampling/wav/id10006/7W9goO0lNrA/\n",
            "/content/drive/MyDrive/Multimodal_machine_learning/Speaker_identification/VoxCeleb1_dataset/Audio_files/vox1_dev_wav_subsampling/wav/id10006/88biLNZtnag/\n",
            "/content/drive/MyDrive/Multimodal_machine_learning/Speaker_identification/VoxCeleb1_dataset/Audio_files/vox1_dev_wav_subsampling/wav/id10006/aaOv6y3Ii4o/\n",
            "/content/drive/MyDrive/Multimodal_machine_learning/Speaker_identification/VoxCeleb1_dataset/Audio_files/vox1_dev_wav_subsampling/wav/id10006/c-4jmRmEqEc/\n",
            "/content/drive/MyDrive/Multimodal_machine_learning/Speaker_identification/VoxCeleb1_dataset/Audio_files/vox1_dev_wav_subsampling/wav/id10006/DjrTX2Z-rzI/\n",
            "/content/drive/MyDrive/Multimodal_machine_learning/Speaker_identification/VoxCeleb1_dataset/Audio_files/vox1_dev_wav_subsampling/wav/id10006/Dv-wtqTn0wE/\n",
            "/content/drive/MyDrive/Multimodal_machine_learning/Speaker_identification/VoxCeleb1_dataset/Audio_files/vox1_dev_wav_subsampling/wav/id10006/J7VccwLPdrI/\n",
            "/content/drive/MyDrive/Multimodal_machine_learning/Speaker_identification/VoxCeleb1_dataset/Audio_files/vox1_dev_wav_subsampling/wav/id10006/KFllccZyqeY/\n",
            "/content/drive/MyDrive/Multimodal_machine_learning/Speaker_identification/VoxCeleb1_dataset/Audio_files/vox1_dev_wav_subsampling/wav/id10006/nLEBBc9oIFs/\n",
            "/content/drive/MyDrive/Multimodal_machine_learning/Speaker_identification/VoxCeleb1_dataset/Audio_files/vox1_dev_wav_subsampling/wav/id10006/nzDmrjyy8ls/\n",
            "/content/drive/MyDrive/Multimodal_machine_learning/Speaker_identification/VoxCeleb1_dataset/Audio_files/vox1_dev_wav_subsampling/wav/id10006/rgfcI2Wy4mY/\n",
            "/content/drive/MyDrive/Multimodal_machine_learning/Speaker_identification/VoxCeleb1_dataset/Audio_files/vox1_dev_wav_subsampling/wav/id10006/QEUVd2ZIcTg/\n",
            "/content/drive/MyDrive/Multimodal_machine_learning/Speaker_identification/VoxCeleb1_dataset/Audio_files/vox1_dev_wav_subsampling/wav/id10006/VaFNI2T9PTA/\n",
            "/content/drive/MyDrive/Multimodal_machine_learning/Speaker_identification/VoxCeleb1_dataset/Audio_files/vox1_dev_wav_subsampling/wav/id10006/ZCRCpLUo9Ro/\n",
            "/content/drive/MyDrive/Multimodal_machine_learning/Speaker_identification/VoxCeleb1_dataset/Audio_files/vox1_dev_wav_subsampling/wav/id10006/zQROl4ZsMVA/\n",
            "/content/drive/MyDrive/Multimodal_machine_learning/Speaker_identification/VoxCeleb1_dataset/Audio_files/vox1_dev_wav_subsampling/wav/id10006/ZlLPhRabPPw/\n",
            "/content/drive/MyDrive/Multimodal_machine_learning/Speaker_identification/VoxCeleb1_dataset/Audio_files/vox1_dev_wav_subsampling/wav/id10006/_xUsNvG7-Jk/\n",
            "checking dir: /content/drive/MyDrive/Multimodal_machine_learning/Speaker_identification/VoxCeleb1_dataset/Audio_files/vox1_dev_wav_subsampling/wav/id10007/\n",
            "/content/drive/MyDrive/Multimodal_machine_learning/Speaker_identification/VoxCeleb1_dataset/Audio_files/vox1_dev_wav_subsampling/wav/id10007/5ExvrJyWpe8/\n",
            "/content/drive/MyDrive/Multimodal_machine_learning/Speaker_identification/VoxCeleb1_dataset/Audio_files/vox1_dev_wav_subsampling/wav/id10007/10Oe0XETA0s/\n",
            "/content/drive/MyDrive/Multimodal_machine_learning/Speaker_identification/VoxCeleb1_dataset/Audio_files/vox1_dev_wav_subsampling/wav/id10007/CzQPAaPrC-E/\n",
            "/content/drive/MyDrive/Multimodal_machine_learning/Speaker_identification/VoxCeleb1_dataset/Audio_files/vox1_dev_wav_subsampling/wav/id10007/G0lVD5d0KJo/\n",
            "/content/drive/MyDrive/Multimodal_machine_learning/Speaker_identification/VoxCeleb1_dataset/Audio_files/vox1_dev_wav_subsampling/wav/id10007/foG5a3YtZzI/\n",
            "/content/drive/MyDrive/Multimodal_machine_learning/Speaker_identification/VoxCeleb1_dataset/Audio_files/vox1_dev_wav_subsampling/wav/id10007/Lc2IMwkXgnI/\n",
            "/content/drive/MyDrive/Multimodal_machine_learning/Speaker_identification/VoxCeleb1_dataset/Audio_files/vox1_dev_wav_subsampling/wav/id10007/IWAkF5uWjis/\n",
            "/content/drive/MyDrive/Multimodal_machine_learning/Speaker_identification/VoxCeleb1_dataset/Audio_files/vox1_dev_wav_subsampling/wav/id10007/HxfxcxUXPDA/\n",
            "/content/drive/MyDrive/Multimodal_machine_learning/Speaker_identification/VoxCeleb1_dataset/Audio_files/vox1_dev_wav_subsampling/wav/id10007/ny4iV7xwhRM/\n",
            "/content/drive/MyDrive/Multimodal_machine_learning/Speaker_identification/VoxCeleb1_dataset/Audio_files/vox1_dev_wav_subsampling/wav/id10007/uyOlasN_UhQ/\n",
            "checking dir: /content/drive/MyDrive/Multimodal_machine_learning/Speaker_identification/VoxCeleb1_dataset/Audio_files/vox1_dev_wav_subsampling/wav/id10008/\n",
            "/content/drive/MyDrive/Multimodal_machine_learning/Speaker_identification/VoxCeleb1_dataset/Audio_files/vox1_dev_wav_subsampling/wav/id10008/58jhTekFbHk/\n",
            "/content/drive/MyDrive/Multimodal_machine_learning/Speaker_identification/VoxCeleb1_dataset/Audio_files/vox1_dev_wav_subsampling/wav/id10008/CFwSMiMzoiA/\n",
            "/content/drive/MyDrive/Multimodal_machine_learning/Speaker_identification/VoxCeleb1_dataset/Audio_files/vox1_dev_wav_subsampling/wav/id10008/CXgomMquVt8/\n",
            "/content/drive/MyDrive/Multimodal_machine_learning/Speaker_identification/VoxCeleb1_dataset/Audio_files/vox1_dev_wav_subsampling/wav/id10008/D5RZyExnz8g/\n",
            "/content/drive/MyDrive/Multimodal_machine_learning/Speaker_identification/VoxCeleb1_dataset/Audio_files/vox1_dev_wav_subsampling/wav/id10008/gdQhQUcKrds/\n",
            "/content/drive/MyDrive/Multimodal_machine_learning/Speaker_identification/VoxCeleb1_dataset/Audio_files/vox1_dev_wav_subsampling/wav/id10008/dL5jx3GLNxU/\n",
            "/content/drive/MyDrive/Multimodal_machine_learning/Speaker_identification/VoxCeleb1_dataset/Audio_files/vox1_dev_wav_subsampling/wav/id10008/l8vq6uu_aNE/\n",
            "/content/drive/MyDrive/Multimodal_machine_learning/Speaker_identification/VoxCeleb1_dataset/Audio_files/vox1_dev_wav_subsampling/wav/id10008/MIinwxeI1H0/\n",
            "/content/drive/MyDrive/Multimodal_machine_learning/Speaker_identification/VoxCeleb1_dataset/Audio_files/vox1_dev_wav_subsampling/wav/id10008/X9OPcj9ID10/\n",
            "/content/drive/MyDrive/Multimodal_machine_learning/Speaker_identification/VoxCeleb1_dataset/Audio_files/vox1_dev_wav_subsampling/wav/id10008/YEkuUBPkSZg/\n",
            "/content/drive/MyDrive/Multimodal_machine_learning/Speaker_identification/VoxCeleb1_dataset/Audio_files/vox1_dev_wav_subsampling/wav/id10008/ZwprcvqTH3w/\n",
            "/content/drive/MyDrive/Multimodal_machine_learning/Speaker_identification/VoxCeleb1_dataset/Audio_files/vox1_dev_wav_subsampling/wav/id10008/X7JNabXlduc/\n",
            "/content/drive/MyDrive/Multimodal_machine_learning/Speaker_identification/VoxCeleb1_dataset/Audio_files/vox1_dev_wav_subsampling/wav/id10008/r4IZRsEGDFs/\n",
            "/content/drive/MyDrive/Multimodal_machine_learning/Speaker_identification/VoxCeleb1_dataset/Audio_files/vox1_dev_wav_subsampling/wav/id10008/_rz5gmMFZTo/\n",
            "checking dir: /content/drive/MyDrive/Multimodal_machine_learning/Speaker_identification/VoxCeleb1_dataset/Audio_files/vox1_dev_wav_subsampling/wav/id10010/\n",
            "/content/drive/MyDrive/Multimodal_machine_learning/Speaker_identification/VoxCeleb1_dataset/Audio_files/vox1_dev_wav_subsampling/wav/id10010/1O_m0G4rf9Q/\n",
            "/content/drive/MyDrive/Multimodal_machine_learning/Speaker_identification/VoxCeleb1_dataset/Audio_files/vox1_dev_wav_subsampling/wav/id10010/5ssVY9a5X-M/\n",
            "/content/drive/MyDrive/Multimodal_machine_learning/Speaker_identification/VoxCeleb1_dataset/Audio_files/vox1_dev_wav_subsampling/wav/id10010/E454T_sS_AM/\n",
            "/content/drive/MyDrive/Multimodal_machine_learning/Speaker_identification/VoxCeleb1_dataset/Audio_files/vox1_dev_wav_subsampling/wav/id10010/5xGZ4I9Bltc/\n",
            "/content/drive/MyDrive/Multimodal_machine_learning/Speaker_identification/VoxCeleb1_dataset/Audio_files/vox1_dev_wav_subsampling/wav/id10010/aVg9a5-hRsw/\n",
            "/content/drive/MyDrive/Multimodal_machine_learning/Speaker_identification/VoxCeleb1_dataset/Audio_files/vox1_dev_wav_subsampling/wav/id10010/fapnl6uxeEw/\n",
            "/content/drive/MyDrive/Multimodal_machine_learning/Speaker_identification/VoxCeleb1_dataset/Audio_files/vox1_dev_wav_subsampling/wav/id10010/Fi21gDronE4/\n",
            "/content/drive/MyDrive/Multimodal_machine_learning/Speaker_identification/VoxCeleb1_dataset/Audio_files/vox1_dev_wav_subsampling/wav/id10010/ik0addgjsVM/\n",
            "/content/drive/MyDrive/Multimodal_machine_learning/Speaker_identification/VoxCeleb1_dataset/Audio_files/vox1_dev_wav_subsampling/wav/id10010/GZnnXtImnGA/\n",
            "/content/drive/MyDrive/Multimodal_machine_learning/Speaker_identification/VoxCeleb1_dataset/Audio_files/vox1_dev_wav_subsampling/wav/id10010/LcCFDB7yT6A/\n",
            "/content/drive/MyDrive/Multimodal_machine_learning/Speaker_identification/VoxCeleb1_dataset/Audio_files/vox1_dev_wav_subsampling/wav/id10010/w_dgWRKS91Q/\n",
            "/content/drive/MyDrive/Multimodal_machine_learning/Speaker_identification/VoxCeleb1_dataset/Audio_files/vox1_dev_wav_subsampling/wav/id10010/QlrC83eEY2s/\n",
            "/content/drive/MyDrive/Multimodal_machine_learning/Speaker_identification/VoxCeleb1_dataset/Audio_files/vox1_dev_wav_subsampling/wav/id10010/Sw8HigpvVsg/\n",
            "/content/drive/MyDrive/Multimodal_machine_learning/Speaker_identification/VoxCeleb1_dataset/Audio_files/vox1_dev_wav_subsampling/wav/id10010/zbFJH6QsV48/\n",
            "/content/drive/MyDrive/Multimodal_machine_learning/Speaker_identification/VoxCeleb1_dataset/Audio_files/vox1_dev_wav_subsampling/wav/id10010/zJHub1wydMw/\n",
            "checking dir: /content/drive/MyDrive/Multimodal_machine_learning/Speaker_identification/VoxCeleb1_dataset/Audio_files/vox1_dev_wav_subsampling/wav/id10009/\n",
            "/content/drive/MyDrive/Multimodal_machine_learning/Speaker_identification/VoxCeleb1_dataset/Audio_files/vox1_dev_wav_subsampling/wav/id10009/aFttHpeaXaQ/\n",
            "/content/drive/MyDrive/Multimodal_machine_learning/Speaker_identification/VoxCeleb1_dataset/Audio_files/vox1_dev_wav_subsampling/wav/id10009/7hpSiT9_gCE/\n",
            "/content/drive/MyDrive/Multimodal_machine_learning/Speaker_identification/VoxCeleb1_dataset/Audio_files/vox1_dev_wav_subsampling/wav/id10009/EJ3tyqGqYfw/\n",
            "/content/drive/MyDrive/Multimodal_machine_learning/Speaker_identification/VoxCeleb1_dataset/Audio_files/vox1_dev_wav_subsampling/wav/id10009/AtavJVP4bCk/\n",
            "/content/drive/MyDrive/Multimodal_machine_learning/Speaker_identification/VoxCeleb1_dataset/Audio_files/vox1_dev_wav_subsampling/wav/id10009/FOFbkVlz-wQ/\n",
            "/content/drive/MyDrive/Multimodal_machine_learning/Speaker_identification/VoxCeleb1_dataset/Audio_files/vox1_dev_wav_subsampling/wav/id10009/HCGXIgKsozU/\n",
            "/content/drive/MyDrive/Multimodal_machine_learning/Speaker_identification/VoxCeleb1_dataset/Audio_files/vox1_dev_wav_subsampling/wav/id10009/JrwqvWr5_VE/\n",
            "/content/drive/MyDrive/Multimodal_machine_learning/Speaker_identification/VoxCeleb1_dataset/Audio_files/vox1_dev_wav_subsampling/wav/id10009/JntZkGsH2Cc/\n",
            "/content/drive/MyDrive/Multimodal_machine_learning/Speaker_identification/VoxCeleb1_dataset/Audio_files/vox1_dev_wav_subsampling/wav/id10009/sQIqfA-I_Ew/\n",
            "/content/drive/MyDrive/Multimodal_machine_learning/Speaker_identification/VoxCeleb1_dataset/Audio_files/vox1_dev_wav_subsampling/wav/id10009/seo9TTTEoE4/\n",
            "/content/drive/MyDrive/Multimodal_machine_learning/Speaker_identification/VoxCeleb1_dataset/Audio_files/vox1_dev_wav_subsampling/wav/id10009/qdop2-gjKBQ/\n",
            "/content/drive/MyDrive/Multimodal_machine_learning/Speaker_identification/VoxCeleb1_dataset/Audio_files/vox1_dev_wav_subsampling/wav/id10009/VM8gJWbQsEY/\n",
            "/content/drive/MyDrive/Multimodal_machine_learning/Speaker_identification/VoxCeleb1_dataset/Audio_files/vox1_dev_wav_subsampling/wav/id10009/vy8sQ82o0fM/\n",
            "/content/drive/MyDrive/Multimodal_machine_learning/Speaker_identification/VoxCeleb1_dataset/Audio_files/vox1_dev_wav_subsampling/wav/id10009/x_HdUZuSusA/\n",
            "checking dir: /content/drive/MyDrive/Multimodal_machine_learning/Speaker_identification/VoxCeleb1_dataset/Audio_files/vox1_dev_wav_subsampling/wav/id10011/\n",
            "/content/drive/MyDrive/Multimodal_machine_learning/Speaker_identification/VoxCeleb1_dataset/Audio_files/vox1_dev_wav_subsampling/wav/id10011/01En9rUo_Co/\n",
            "/content/drive/MyDrive/Multimodal_machine_learning/Speaker_identification/VoxCeleb1_dataset/Audio_files/vox1_dev_wav_subsampling/wav/id10011/0Wg6d-v2CrQ/\n",
            "/content/drive/MyDrive/Multimodal_machine_learning/Speaker_identification/VoxCeleb1_dataset/Audio_files/vox1_dev_wav_subsampling/wav/id10011/978HIG18Lek/\n",
            "/content/drive/MyDrive/Multimodal_machine_learning/Speaker_identification/VoxCeleb1_dataset/Audio_files/vox1_dev_wav_subsampling/wav/id10011/L_Q9NL9H1wI/\n",
            "/content/drive/MyDrive/Multimodal_machine_learning/Speaker_identification/VoxCeleb1_dataset/Audio_files/vox1_dev_wav_subsampling/wav/id10011/g3SlFv2ui8A/\n",
            "/content/drive/MyDrive/Multimodal_machine_learning/Speaker_identification/VoxCeleb1_dataset/Audio_files/vox1_dev_wav_subsampling/wav/id10011/mwKVL6cadQw/\n",
            "/content/drive/MyDrive/Multimodal_machine_learning/Speaker_identification/VoxCeleb1_dataset/Audio_files/vox1_dev_wav_subsampling/wav/id10011/NY8rvshKUzU/\n",
            "/content/drive/MyDrive/Multimodal_machine_learning/Speaker_identification/VoxCeleb1_dataset/Audio_files/vox1_dev_wav_subsampling/wav/id10011/Q1aiO-vpabc/\n",
            "/content/drive/MyDrive/Multimodal_machine_learning/Speaker_identification/VoxCeleb1_dataset/Audio_files/vox1_dev_wav_subsampling/wav/id10011/QmFNWMU2hKU/\n",
            "/content/drive/MyDrive/Multimodal_machine_learning/Speaker_identification/VoxCeleb1_dataset/Audio_files/vox1_dev_wav_subsampling/wav/id10011/R8SJg-rcjKI/\n",
            "/content/drive/MyDrive/Multimodal_machine_learning/Speaker_identification/VoxCeleb1_dataset/Audio_files/vox1_dev_wav_subsampling/wav/id10011/TsWNxShkS9A/\n",
            "/content/drive/MyDrive/Multimodal_machine_learning/Speaker_identification/VoxCeleb1_dataset/Audio_files/vox1_dev_wav_subsampling/wav/id10011/ujWHD_MTa44/\n",
            "/content/drive/MyDrive/Multimodal_machine_learning/Speaker_identification/VoxCeleb1_dataset/Audio_files/vox1_dev_wav_subsampling/wav/id10011/u3odsIbYouc/\n",
            "/content/drive/MyDrive/Multimodal_machine_learning/Speaker_identification/VoxCeleb1_dataset/Audio_files/vox1_dev_wav_subsampling/wav/id10011/UzGMFpIv-ss/\n",
            "/content/drive/MyDrive/Multimodal_machine_learning/Speaker_identification/VoxCeleb1_dataset/Audio_files/vox1_dev_wav_subsampling/wav/id10011/wbcvg6hIyjs/\n",
            "/content/drive/MyDrive/Multimodal_machine_learning/Speaker_identification/VoxCeleb1_dataset/Audio_files/vox1_dev_wav_subsampling/wav/id10011/YyB6Rk0bOSg/\n",
            "checking dir: /content/drive/MyDrive/Multimodal_machine_learning/Speaker_identification/VoxCeleb1_dataset/Audio_files/vox1_dev_wav_subsampling/wav/id10012/\n",
            "/content/drive/MyDrive/Multimodal_machine_learning/Speaker_identification/VoxCeleb1_dataset/Audio_files/vox1_dev_wav_subsampling/wav/id10012/0AXjxNXiEzo/\n",
            "/content/drive/MyDrive/Multimodal_machine_learning/Speaker_identification/VoxCeleb1_dataset/Audio_files/vox1_dev_wav_subsampling/wav/id10012/1miD-AWtXqk/\n",
            "/content/drive/MyDrive/Multimodal_machine_learning/Speaker_identification/VoxCeleb1_dataset/Audio_files/vox1_dev_wav_subsampling/wav/id10012/AStt8Tx-HXU/\n",
            "/content/drive/MyDrive/Multimodal_machine_learning/Speaker_identification/VoxCeleb1_dataset/Audio_files/vox1_dev_wav_subsampling/wav/id10012/EHSEDnLxkC4/\n",
            "/content/drive/MyDrive/Multimodal_machine_learning/Speaker_identification/VoxCeleb1_dataset/Audio_files/vox1_dev_wav_subsampling/wav/id10012/elHFKzE4K7g/\n",
            "/content/drive/MyDrive/Multimodal_machine_learning/Speaker_identification/VoxCeleb1_dataset/Audio_files/vox1_dev_wav_subsampling/wav/id10012/g5-eq6I-KSo/\n",
            "/content/drive/MyDrive/Multimodal_machine_learning/Speaker_identification/VoxCeleb1_dataset/Audio_files/vox1_dev_wav_subsampling/wav/id10012/GQxAiL_gSJg/\n",
            "/content/drive/MyDrive/Multimodal_machine_learning/Speaker_identification/VoxCeleb1_dataset/Audio_files/vox1_dev_wav_subsampling/wav/id10012/Mb2crBji7Cc/\n",
            "/content/drive/MyDrive/Multimodal_machine_learning/Speaker_identification/VoxCeleb1_dataset/Audio_files/vox1_dev_wav_subsampling/wav/id10012/Mki-3pJgdMw/\n",
            "/content/drive/MyDrive/Multimodal_machine_learning/Speaker_identification/VoxCeleb1_dataset/Audio_files/vox1_dev_wav_subsampling/wav/id10012/o-8xXV5MC8I/\n",
            "/content/drive/MyDrive/Multimodal_machine_learning/Speaker_identification/VoxCeleb1_dataset/Audio_files/vox1_dev_wav_subsampling/wav/id10012/nCwwVjPNloY/\n",
            "/content/drive/MyDrive/Multimodal_machine_learning/Speaker_identification/VoxCeleb1_dataset/Audio_files/vox1_dev_wav_subsampling/wav/id10012/PfrOkWQfi08/\n",
            "/content/drive/MyDrive/Multimodal_machine_learning/Speaker_identification/VoxCeleb1_dataset/Audio_files/vox1_dev_wav_subsampling/wav/id10012/pVhap6mxjW4/\n",
            "/content/drive/MyDrive/Multimodal_machine_learning/Speaker_identification/VoxCeleb1_dataset/Audio_files/vox1_dev_wav_subsampling/wav/id10012/q6SMDFi6fuY/\n",
            "/content/drive/MyDrive/Multimodal_machine_learning/Speaker_identification/VoxCeleb1_dataset/Audio_files/vox1_dev_wav_subsampling/wav/id10012/ugLQaIVIxIw/\n",
            "/content/drive/MyDrive/Multimodal_machine_learning/Speaker_identification/VoxCeleb1_dataset/Audio_files/vox1_dev_wav_subsampling/wav/id10012/tdeNGXCvfno/\n",
            "/content/drive/MyDrive/Multimodal_machine_learning/Speaker_identification/VoxCeleb1_dataset/Audio_files/vox1_dev_wav_subsampling/wav/id10012/zvZZyolTF4g/\n",
            "/content/drive/MyDrive/Multimodal_machine_learning/Speaker_identification/VoxCeleb1_dataset/Audio_files/vox1_dev_wav_subsampling/wav/id10012/zsNhH4wHVdc/\n",
            "/content/drive/MyDrive/Multimodal_machine_learning/Speaker_identification/VoxCeleb1_dataset/Audio_files/vox1_dev_wav_subsampling/wav/id10012/W6kAA9GhYxs/\n",
            "/content/drive/MyDrive/Multimodal_machine_learning/Speaker_identification/VoxCeleb1_dataset/Audio_files/vox1_dev_wav_subsampling/wav/id10012/UJFb8jDbWl0/\n",
            "/content/drive/MyDrive/Multimodal_machine_learning/Speaker_identification/VoxCeleb1_dataset/Audio_files/vox1_dev_wav_subsampling/wav/id10012/vYBOvwSW--4/\n",
            "checking dir: /content/drive/MyDrive/Multimodal_machine_learning/Speaker_identification/VoxCeleb1_dataset/Audio_files/vox1_dev_wav_subsampling/wav/id10013/\n",
            "/content/drive/MyDrive/Multimodal_machine_learning/Speaker_identification/VoxCeleb1_dataset/Audio_files/vox1_dev_wav_subsampling/wav/id10013/8Ia5Ffj4MtQ/\n",
            "/content/drive/MyDrive/Multimodal_machine_learning/Speaker_identification/VoxCeleb1_dataset/Audio_files/vox1_dev_wav_subsampling/wav/id10013/ayglFsYxfj0/\n",
            "/content/drive/MyDrive/Multimodal_machine_learning/Speaker_identification/VoxCeleb1_dataset/Audio_files/vox1_dev_wav_subsampling/wav/id10013/EYYiAyJk1w8/\n",
            "/content/drive/MyDrive/Multimodal_machine_learning/Speaker_identification/VoxCeleb1_dataset/Audio_files/vox1_dev_wav_subsampling/wav/id10013/a3cI12ZNVms/\n",
            "/content/drive/MyDrive/Multimodal_machine_learning/Speaker_identification/VoxCeleb1_dataset/Audio_files/vox1_dev_wav_subsampling/wav/id10013/D8N1aTvis1o/\n",
            "/content/drive/MyDrive/Multimodal_machine_learning/Speaker_identification/VoxCeleb1_dataset/Audio_files/vox1_dev_wav_subsampling/wav/id10013/fYVXJaLX4dA/\n",
            "/content/drive/MyDrive/Multimodal_machine_learning/Speaker_identification/VoxCeleb1_dataset/Audio_files/vox1_dev_wav_subsampling/wav/id10013/hGL2tRHivdw/\n",
            "/content/drive/MyDrive/Multimodal_machine_learning/Speaker_identification/VoxCeleb1_dataset/Audio_files/vox1_dev_wav_subsampling/wav/id10013/HpmwLdV5TAc/\n",
            "/content/drive/MyDrive/Multimodal_machine_learning/Speaker_identification/VoxCeleb1_dataset/Audio_files/vox1_dev_wav_subsampling/wav/id10013/qJ8keZPNFZ4/\n",
            "/content/drive/MyDrive/Multimodal_machine_learning/Speaker_identification/VoxCeleb1_dataset/Audio_files/vox1_dev_wav_subsampling/wav/id10013/J4dr4jUUPWs/\n",
            "/content/drive/MyDrive/Multimodal_machine_learning/Speaker_identification/VoxCeleb1_dataset/Audio_files/vox1_dev_wav_subsampling/wav/id10013/IAFLCkJh_PM/\n",
            "checking dir: /content/drive/MyDrive/Multimodal_machine_learning/Speaker_identification/VoxCeleb1_dataset/Audio_files/vox1_dev_wav_subsampling/wav/id10014/\n",
            "/content/drive/MyDrive/Multimodal_machine_learning/Speaker_identification/VoxCeleb1_dataset/Audio_files/vox1_dev_wav_subsampling/wav/id10014/2kd0eGbbIeg/\n",
            "/content/drive/MyDrive/Multimodal_machine_learning/Speaker_identification/VoxCeleb1_dataset/Audio_files/vox1_dev_wav_subsampling/wav/id10014/6RiWT7JoAkk/\n",
            "/content/drive/MyDrive/Multimodal_machine_learning/Speaker_identification/VoxCeleb1_dataset/Audio_files/vox1_dev_wav_subsampling/wav/id10014/32rU5csGG3U/\n",
            "/content/drive/MyDrive/Multimodal_machine_learning/Speaker_identification/VoxCeleb1_dataset/Audio_files/vox1_dev_wav_subsampling/wav/id10014/70z-Im2hzlg/\n",
            "/content/drive/MyDrive/Multimodal_machine_learning/Speaker_identification/VoxCeleb1_dataset/Audio_files/vox1_dev_wav_subsampling/wav/id10014/AERvjDy1Bn0/\n",
            "/content/drive/MyDrive/Multimodal_machine_learning/Speaker_identification/VoxCeleb1_dataset/Audio_files/vox1_dev_wav_subsampling/wav/id10014/FHiYKAd2Th4/\n",
            "/content/drive/MyDrive/Multimodal_machine_learning/Speaker_identification/VoxCeleb1_dataset/Audio_files/vox1_dev_wav_subsampling/wav/id10014/b8reDPl-P0w/\n",
            "/content/drive/MyDrive/Multimodal_machine_learning/Speaker_identification/VoxCeleb1_dataset/Audio_files/vox1_dev_wav_subsampling/wav/id10014/hepofXpeNAA/\n",
            "/content/drive/MyDrive/Multimodal_machine_learning/Speaker_identification/VoxCeleb1_dataset/Audio_files/vox1_dev_wav_subsampling/wav/id10014/iZ6XrudZsSw/\n",
            "/content/drive/MyDrive/Multimodal_machine_learning/Speaker_identification/VoxCeleb1_dataset/Audio_files/vox1_dev_wav_subsampling/wav/id10014/Llzfnc-K38c/\n",
            "/content/drive/MyDrive/Multimodal_machine_learning/Speaker_identification/VoxCeleb1_dataset/Audio_files/vox1_dev_wav_subsampling/wav/id10014/RbXXh_l-qH8/\n",
            "/content/drive/MyDrive/Multimodal_machine_learning/Speaker_identification/VoxCeleb1_dataset/Audio_files/vox1_dev_wav_subsampling/wav/id10014/s4Go6oBiQ8Y/\n",
            "/content/drive/MyDrive/Multimodal_machine_learning/Speaker_identification/VoxCeleb1_dataset/Audio_files/vox1_dev_wav_subsampling/wav/id10014/x6SoLOKT19w/\n",
            "/content/drive/MyDrive/Multimodal_machine_learning/Speaker_identification/VoxCeleb1_dataset/Audio_files/vox1_dev_wav_subsampling/wav/id10014/QATUag13zcI/\n",
            "/content/drive/MyDrive/Multimodal_machine_learning/Speaker_identification/VoxCeleb1_dataset/Audio_files/vox1_dev_wav_subsampling/wav/id10014/XP0NEmdnh40/\n",
            "/content/drive/MyDrive/Multimodal_machine_learning/Speaker_identification/VoxCeleb1_dataset/Audio_files/vox1_dev_wav_subsampling/wav/id10014/xbDbdm5iv9Q/\n",
            "checking dir: /content/drive/MyDrive/Multimodal_machine_learning/Speaker_identification/VoxCeleb1_dataset/Audio_files/vox1_dev_wav_subsampling/wav/id10015/\n",
            "/content/drive/MyDrive/Multimodal_machine_learning/Speaker_identification/VoxCeleb1_dataset/Audio_files/vox1_dev_wav_subsampling/wav/id10015/1uUxa00zKXE/\n",
            "/content/drive/MyDrive/Multimodal_machine_learning/Speaker_identification/VoxCeleb1_dataset/Audio_files/vox1_dev_wav_subsampling/wav/id10015/3hdsN9oG45Q/\n",
            "/content/drive/MyDrive/Multimodal_machine_learning/Speaker_identification/VoxCeleb1_dataset/Audio_files/vox1_dev_wav_subsampling/wav/id10015/cnfBsYa5iOM/\n",
            "/content/drive/MyDrive/Multimodal_machine_learning/Speaker_identification/VoxCeleb1_dataset/Audio_files/vox1_dev_wav_subsampling/wav/id10015/7rzuEmfRFEA/\n",
            "/content/drive/MyDrive/Multimodal_machine_learning/Speaker_identification/VoxCeleb1_dataset/Audio_files/vox1_dev_wav_subsampling/wav/id10015/dKAazrqEcuI/\n",
            "/content/drive/MyDrive/Multimodal_machine_learning/Speaker_identification/VoxCeleb1_dataset/Audio_files/vox1_dev_wav_subsampling/wav/id10015/ESZSf-D4cgw/\n",
            "/content/drive/MyDrive/Multimodal_machine_learning/Speaker_identification/VoxCeleb1_dataset/Audio_files/vox1_dev_wav_subsampling/wav/id10015/LbR3PNHiXms/\n",
            "/content/drive/MyDrive/Multimodal_machine_learning/Speaker_identification/VoxCeleb1_dataset/Audio_files/vox1_dev_wav_subsampling/wav/id10015/GpBIco6EWl0/\n",
            "/content/drive/MyDrive/Multimodal_machine_learning/Speaker_identification/VoxCeleb1_dataset/Audio_files/vox1_dev_wav_subsampling/wav/id10015/oWww40TVo-s/\n",
            "/content/drive/MyDrive/Multimodal_machine_learning/Speaker_identification/VoxCeleb1_dataset/Audio_files/vox1_dev_wav_subsampling/wav/id10015/PIqPzGtHqNY/\n",
            "/content/drive/MyDrive/Multimodal_machine_learning/Speaker_identification/VoxCeleb1_dataset/Audio_files/vox1_dev_wav_subsampling/wav/id10015/uoAEmu-GbjQ/\n",
            "/content/drive/MyDrive/Multimodal_machine_learning/Speaker_identification/VoxCeleb1_dataset/Audio_files/vox1_dev_wav_subsampling/wav/id10015/wNQ9HultFDs/\n",
            "/content/drive/MyDrive/Multimodal_machine_learning/Speaker_identification/VoxCeleb1_dataset/Audio_files/vox1_dev_wav_subsampling/wav/id10015/V_x_l3deWaU/\n",
            "/content/drive/MyDrive/Multimodal_machine_learning/Speaker_identification/VoxCeleb1_dataset/Audio_files/vox1_dev_wav_subsampling/wav/id10015/Y2FI1LS8lzg/\n",
            "/content/drive/MyDrive/Multimodal_machine_learning/Speaker_identification/VoxCeleb1_dataset/Audio_files/vox1_dev_wav_subsampling/wav/id10015/Wr_zcjHCZLk/\n",
            "checking dir: /content/drive/MyDrive/Multimodal_machine_learning/Speaker_identification/VoxCeleb1_dataset/Audio_files/vox1_dev_wav_subsampling/wav/id10016/\n",
            "/content/drive/MyDrive/Multimodal_machine_learning/Speaker_identification/VoxCeleb1_dataset/Audio_files/vox1_dev_wav_subsampling/wav/id10016/2wHaOQUrkHU/\n",
            "/content/drive/MyDrive/Multimodal_machine_learning/Speaker_identification/VoxCeleb1_dataset/Audio_files/vox1_dev_wav_subsampling/wav/id10016/37mbJ9bXK28/\n",
            "/content/drive/MyDrive/Multimodal_machine_learning/Speaker_identification/VoxCeleb1_dataset/Audio_files/vox1_dev_wav_subsampling/wav/id10016/5xGJYiNH2Jw/\n",
            "/content/drive/MyDrive/Multimodal_machine_learning/Speaker_identification/VoxCeleb1_dataset/Audio_files/vox1_dev_wav_subsampling/wav/id10016/7FOcBtZM-rI/\n",
            "/content/drive/MyDrive/Multimodal_machine_learning/Speaker_identification/VoxCeleb1_dataset/Audio_files/vox1_dev_wav_subsampling/wav/id10016/7OacMAs-Crc/\n",
            "/content/drive/MyDrive/Multimodal_machine_learning/Speaker_identification/VoxCeleb1_dataset/Audio_files/vox1_dev_wav_subsampling/wav/id10016/8gWjr_-ROCc/\n",
            "/content/drive/MyDrive/Multimodal_machine_learning/Speaker_identification/VoxCeleb1_dataset/Audio_files/vox1_dev_wav_subsampling/wav/id10016/a3j4Vg7CtjA/\n",
            "/content/drive/MyDrive/Multimodal_machine_learning/Speaker_identification/VoxCeleb1_dataset/Audio_files/vox1_dev_wav_subsampling/wav/id10016/bIi7FnNx6m0/\n",
            "/content/drive/MyDrive/Multimodal_machine_learning/Speaker_identification/VoxCeleb1_dataset/Audio_files/vox1_dev_wav_subsampling/wav/id10016/CsU9a10ccxA/\n",
            "/content/drive/MyDrive/Multimodal_machine_learning/Speaker_identification/VoxCeleb1_dataset/Audio_files/vox1_dev_wav_subsampling/wav/id10016/dOnuu_9-nyI/\n",
            "/content/drive/MyDrive/Multimodal_machine_learning/Speaker_identification/VoxCeleb1_dataset/Audio_files/vox1_dev_wav_subsampling/wav/id10016/fb31EtxsZDs/\n",
            "/content/drive/MyDrive/Multimodal_machine_learning/Speaker_identification/VoxCeleb1_dataset/Audio_files/vox1_dev_wav_subsampling/wav/id10016/FDXUYIgkTgk/\n",
            "/content/drive/MyDrive/Multimodal_machine_learning/Speaker_identification/VoxCeleb1_dataset/Audio_files/vox1_dev_wav_subsampling/wav/id10016/hgB5ziAudzU/\n",
            "/content/drive/MyDrive/Multimodal_machine_learning/Speaker_identification/VoxCeleb1_dataset/Audio_files/vox1_dev_wav_subsampling/wav/id10016/j0CaA8LPTdc/\n",
            "/content/drive/MyDrive/Multimodal_machine_learning/Speaker_identification/VoxCeleb1_dataset/Audio_files/vox1_dev_wav_subsampling/wav/id10016/k4l2cRqjT78/\n",
            "/content/drive/MyDrive/Multimodal_machine_learning/Speaker_identification/VoxCeleb1_dataset/Audio_files/vox1_dev_wav_subsampling/wav/id10016/LSeSZiv7evE/\n",
            "/content/drive/MyDrive/Multimodal_machine_learning/Speaker_identification/VoxCeleb1_dataset/Audio_files/vox1_dev_wav_subsampling/wav/id10016/l5sY-WWVnZM/\n",
            "/content/drive/MyDrive/Multimodal_machine_learning/Speaker_identification/VoxCeleb1_dataset/Audio_files/vox1_dev_wav_subsampling/wav/id10016/MMTrblYIEgM/\n",
            "/content/drive/MyDrive/Multimodal_machine_learning/Speaker_identification/VoxCeleb1_dataset/Audio_files/vox1_dev_wav_subsampling/wav/id10016/MPkuYnDHS4E/\n",
            "/content/drive/MyDrive/Multimodal_machine_learning/Speaker_identification/VoxCeleb1_dataset/Audio_files/vox1_dev_wav_subsampling/wav/id10016/ocnz4PPv-RQ/\n",
            "/content/drive/MyDrive/Multimodal_machine_learning/Speaker_identification/VoxCeleb1_dataset/Audio_files/vox1_dev_wav_subsampling/wav/id10016/o524HaR7jfE/\n",
            "/content/drive/MyDrive/Multimodal_machine_learning/Speaker_identification/VoxCeleb1_dataset/Audio_files/vox1_dev_wav_subsampling/wav/id10016/NJygdnZs634/\n",
            "/content/drive/MyDrive/Multimodal_machine_learning/Speaker_identification/VoxCeleb1_dataset/Audio_files/vox1_dev_wav_subsampling/wav/id10016/pdTdefdQ_QI/\n",
            "/content/drive/MyDrive/Multimodal_machine_learning/Speaker_identification/VoxCeleb1_dataset/Audio_files/vox1_dev_wav_subsampling/wav/id10016/PnSNt2F59-U/\n",
            "/content/drive/MyDrive/Multimodal_machine_learning/Speaker_identification/VoxCeleb1_dataset/Audio_files/vox1_dev_wav_subsampling/wav/id10016/RREb7K-SoSQ/\n",
            "/content/drive/MyDrive/Multimodal_machine_learning/Speaker_identification/VoxCeleb1_dataset/Audio_files/vox1_dev_wav_subsampling/wav/id10016/SCFgvk0Sm24/\n",
            "/content/drive/MyDrive/Multimodal_machine_learning/Speaker_identification/VoxCeleb1_dataset/Audio_files/vox1_dev_wav_subsampling/wav/id10016/vpnw2jQlZn4/\n",
            "/content/drive/MyDrive/Multimodal_machine_learning/Speaker_identification/VoxCeleb1_dataset/Audio_files/vox1_dev_wav_subsampling/wav/id10016/uM5GCGOXVXc/\n",
            "/content/drive/MyDrive/Multimodal_machine_learning/Speaker_identification/VoxCeleb1_dataset/Audio_files/vox1_dev_wav_subsampling/wav/id10016/WfkA4lUZwZ4/\n",
            "/content/drive/MyDrive/Multimodal_machine_learning/Speaker_identification/VoxCeleb1_dataset/Audio_files/vox1_dev_wav_subsampling/wav/id10016/wg6IOBMAdOc/\n",
            "/content/drive/MyDrive/Multimodal_machine_learning/Speaker_identification/VoxCeleb1_dataset/Audio_files/vox1_dev_wav_subsampling/wav/id10016/WwguhI5dInQ/\n",
            "/content/drive/MyDrive/Multimodal_machine_learning/Speaker_identification/VoxCeleb1_dataset/Audio_files/vox1_dev_wav_subsampling/wav/id10016/ywRolvE7ToY/\n",
            "/content/drive/MyDrive/Multimodal_machine_learning/Speaker_identification/VoxCeleb1_dataset/Audio_files/vox1_dev_wav_subsampling/wav/id10016/Zxab80IZxU8/\n",
            "checking dir: /content/drive/MyDrive/Multimodal_machine_learning/Speaker_identification/VoxCeleb1_dataset/Audio_files/vox1_dev_wav_subsampling/wav/id10017/\n",
            "/content/drive/MyDrive/Multimodal_machine_learning/Speaker_identification/VoxCeleb1_dataset/Audio_files/vox1_dev_wav_subsampling/wav/id10017/5VxX7ZI5z5s/\n",
            "/content/drive/MyDrive/Multimodal_machine_learning/Speaker_identification/VoxCeleb1_dataset/Audio_files/vox1_dev_wav_subsampling/wav/id10017/5r-26vNFeJU/\n",
            "/content/drive/MyDrive/Multimodal_machine_learning/Speaker_identification/VoxCeleb1_dataset/Audio_files/vox1_dev_wav_subsampling/wav/id10017/6ya9UpdRCPs/\n",
            "/content/drive/MyDrive/Multimodal_machine_learning/Speaker_identification/VoxCeleb1_dataset/Audio_files/vox1_dev_wav_subsampling/wav/id10017/7QOGR0zvTxY/\n",
            "/content/drive/MyDrive/Multimodal_machine_learning/Speaker_identification/VoxCeleb1_dataset/Audio_files/vox1_dev_wav_subsampling/wav/id10017/8rp9UYZp-zA/\n",
            "/content/drive/MyDrive/Multimodal_machine_learning/Speaker_identification/VoxCeleb1_dataset/Audio_files/vox1_dev_wav_subsampling/wav/id10017/bNNIcOJGy4w/\n",
            "/content/drive/MyDrive/Multimodal_machine_learning/Speaker_identification/VoxCeleb1_dataset/Audio_files/vox1_dev_wav_subsampling/wav/id10017/BuecddErOwU/\n",
            "/content/drive/MyDrive/Multimodal_machine_learning/Speaker_identification/VoxCeleb1_dataset/Audio_files/vox1_dev_wav_subsampling/wav/id10017/Pkfu9rKM5QA/\n",
            "/content/drive/MyDrive/Multimodal_machine_learning/Speaker_identification/VoxCeleb1_dataset/Audio_files/vox1_dev_wav_subsampling/wav/id10017/iwN6Hu6xyM0/\n",
            "/content/drive/MyDrive/Multimodal_machine_learning/Speaker_identification/VoxCeleb1_dataset/Audio_files/vox1_dev_wav_subsampling/wav/id10017/CYb_opUpiw4/\n",
            "/content/drive/MyDrive/Multimodal_machine_learning/Speaker_identification/VoxCeleb1_dataset/Audio_files/vox1_dev_wav_subsampling/wav/id10017/Px9R6A3XKDM/\n",
            "/content/drive/MyDrive/Multimodal_machine_learning/Speaker_identification/VoxCeleb1_dataset/Audio_files/vox1_dev_wav_subsampling/wav/id10017/pOJlOI5cDZw/\n",
            "/content/drive/MyDrive/Multimodal_machine_learning/Speaker_identification/VoxCeleb1_dataset/Audio_files/vox1_dev_wav_subsampling/wav/id10017/PynZ3bQ3Ga4/\n",
            "/content/drive/MyDrive/Multimodal_machine_learning/Speaker_identification/VoxCeleb1_dataset/Audio_files/vox1_dev_wav_subsampling/wav/id10017/uy0-9hpmHJs/\n",
            "/content/drive/MyDrive/Multimodal_machine_learning/Speaker_identification/VoxCeleb1_dataset/Audio_files/vox1_dev_wav_subsampling/wav/id10017/qFUUDSjCy5M/\n",
            "/content/drive/MyDrive/Multimodal_machine_learning/Speaker_identification/VoxCeleb1_dataset/Audio_files/vox1_dev_wav_subsampling/wav/id10017/xLakEK2bbQw/\n",
            "/content/drive/MyDrive/Multimodal_machine_learning/Speaker_identification/VoxCeleb1_dataset/Audio_files/vox1_dev_wav_subsampling/wav/id10017/xH3Pp_5yxOk/\n",
            "checking dir: /content/drive/MyDrive/Multimodal_machine_learning/Speaker_identification/VoxCeleb1_dataset/Audio_files/vox1_dev_wav_subsampling/wav/id10018/\n",
            "/content/drive/MyDrive/Multimodal_machine_learning/Speaker_identification/VoxCeleb1_dataset/Audio_files/vox1_dev_wav_subsampling/wav/id10018/0gR9vlGI8ro/\n",
            "/content/drive/MyDrive/Multimodal_machine_learning/Speaker_identification/VoxCeleb1_dataset/Audio_files/vox1_dev_wav_subsampling/wav/id10018/2fsToHH2Qz4/\n",
            "/content/drive/MyDrive/Multimodal_machine_learning/Speaker_identification/VoxCeleb1_dataset/Audio_files/vox1_dev_wav_subsampling/wav/id10018/4UXieX7te0U/\n",
            "/content/drive/MyDrive/Multimodal_machine_learning/Speaker_identification/VoxCeleb1_dataset/Audio_files/vox1_dev_wav_subsampling/wav/id10018/8WVqEfbZ4Ic/\n",
            "/content/drive/MyDrive/Multimodal_machine_learning/Speaker_identification/VoxCeleb1_dataset/Audio_files/vox1_dev_wav_subsampling/wav/id10018/A-Q7SmHQT70/\n",
            "/content/drive/MyDrive/Multimodal_machine_learning/Speaker_identification/VoxCeleb1_dataset/Audio_files/vox1_dev_wav_subsampling/wav/id10018/9tu4uaM0YTc/\n",
            "/content/drive/MyDrive/Multimodal_machine_learning/Speaker_identification/VoxCeleb1_dataset/Audio_files/vox1_dev_wav_subsampling/wav/id10018/BaesL7QJLFU/\n",
            "/content/drive/MyDrive/Multimodal_machine_learning/Speaker_identification/VoxCeleb1_dataset/Audio_files/vox1_dev_wav_subsampling/wav/id10018/eckQg181kQY/\n",
            "/content/drive/MyDrive/Multimodal_machine_learning/Speaker_identification/VoxCeleb1_dataset/Audio_files/vox1_dev_wav_subsampling/wav/id10018/aDIdItugOC0/\n",
            "/content/drive/MyDrive/Multimodal_machine_learning/Speaker_identification/VoxCeleb1_dataset/Audio_files/vox1_dev_wav_subsampling/wav/id10018/iYaSdx4Qhv4/\n",
            "/content/drive/MyDrive/Multimodal_machine_learning/Speaker_identification/VoxCeleb1_dataset/Audio_files/vox1_dev_wav_subsampling/wav/id10018/EFFEzbt2k6o/\n",
            "/content/drive/MyDrive/Multimodal_machine_learning/Speaker_identification/VoxCeleb1_dataset/Audio_files/vox1_dev_wav_subsampling/wav/id10018/G4ytSwL9uak/\n",
            "/content/drive/MyDrive/Multimodal_machine_learning/Speaker_identification/VoxCeleb1_dataset/Audio_files/vox1_dev_wav_subsampling/wav/id10018/pJcq28hEvHg/\n",
            "/content/drive/MyDrive/Multimodal_machine_learning/Speaker_identification/VoxCeleb1_dataset/Audio_files/vox1_dev_wav_subsampling/wav/id10018/Q7aBwU0ZeUk/\n",
            "/content/drive/MyDrive/Multimodal_machine_learning/Speaker_identification/VoxCeleb1_dataset/Audio_files/vox1_dev_wav_subsampling/wav/id10018/lCA6CCS7mxc/\n",
            "/content/drive/MyDrive/Multimodal_machine_learning/Speaker_identification/VoxCeleb1_dataset/Audio_files/vox1_dev_wav_subsampling/wav/id10018/RBlk-zGCm0g/\n",
            "/content/drive/MyDrive/Multimodal_machine_learning/Speaker_identification/VoxCeleb1_dataset/Audio_files/vox1_dev_wav_subsampling/wav/id10018/RM55SnIw2uQ/\n",
            "/content/drive/MyDrive/Multimodal_machine_learning/Speaker_identification/VoxCeleb1_dataset/Audio_files/vox1_dev_wav_subsampling/wav/id10018/sqdHikUKOK0/\n",
            "/content/drive/MyDrive/Multimodal_machine_learning/Speaker_identification/VoxCeleb1_dataset/Audio_files/vox1_dev_wav_subsampling/wav/id10018/sci80gk6bUc/\n",
            "/content/drive/MyDrive/Multimodal_machine_learning/Speaker_identification/VoxCeleb1_dataset/Audio_files/vox1_dev_wav_subsampling/wav/id10018/su3ku9D00jA/\n",
            "/content/drive/MyDrive/Multimodal_machine_learning/Speaker_identification/VoxCeleb1_dataset/Audio_files/vox1_dev_wav_subsampling/wav/id10018/TIFdSOTYIBg/\n",
            "/content/drive/MyDrive/Multimodal_machine_learning/Speaker_identification/VoxCeleb1_dataset/Audio_files/vox1_dev_wav_subsampling/wav/id10018/wyaUcxpHOQs/\n",
            "/content/drive/MyDrive/Multimodal_machine_learning/Speaker_identification/VoxCeleb1_dataset/Audio_files/vox1_dev_wav_subsampling/wav/id10018/ZBioF6ulHg8/\n",
            "/content/drive/MyDrive/Multimodal_machine_learning/Speaker_identification/VoxCeleb1_dataset/Audio_files/vox1_dev_wav_subsampling/wav/id10018/YOjilzTiE-Y/\n",
            "checking dir: /content/drive/MyDrive/Multimodal_machine_learning/Speaker_identification/VoxCeleb1_dataset/Audio_files/vox1_dev_wav_subsampling/wav/id10019/\n",
            "/content/drive/MyDrive/Multimodal_machine_learning/Speaker_identification/VoxCeleb1_dataset/Audio_files/vox1_dev_wav_subsampling/wav/id10019/2vSPFNQoKmk/\n",
            "/content/drive/MyDrive/Multimodal_machine_learning/Speaker_identification/VoxCeleb1_dataset/Audio_files/vox1_dev_wav_subsampling/wav/id10019/5AfbbZolonc/\n",
            "/content/drive/MyDrive/Multimodal_machine_learning/Speaker_identification/VoxCeleb1_dataset/Audio_files/vox1_dev_wav_subsampling/wav/id10019/ABpVMOt0WEE/\n",
            "/content/drive/MyDrive/Multimodal_machine_learning/Speaker_identification/VoxCeleb1_dataset/Audio_files/vox1_dev_wav_subsampling/wav/id10019/cE3StI6Qw0w/\n",
            "/content/drive/MyDrive/Multimodal_machine_learning/Speaker_identification/VoxCeleb1_dataset/Audio_files/vox1_dev_wav_subsampling/wav/id10019/dCpykP6iJnA/\n",
            "/content/drive/MyDrive/Multimodal_machine_learning/Speaker_identification/VoxCeleb1_dataset/Audio_files/vox1_dev_wav_subsampling/wav/id10019/feJ12-OYVaU/\n",
            "/content/drive/MyDrive/Multimodal_machine_learning/Speaker_identification/VoxCeleb1_dataset/Audio_files/vox1_dev_wav_subsampling/wav/id10019/KjHVVTWafJQ/\n",
            "/content/drive/MyDrive/Multimodal_machine_learning/Speaker_identification/VoxCeleb1_dataset/Audio_files/vox1_dev_wav_subsampling/wav/id10019/FoACkHPFRTo/\n",
            "/content/drive/MyDrive/Multimodal_machine_learning/Speaker_identification/VoxCeleb1_dataset/Audio_files/vox1_dev_wav_subsampling/wav/id10019/IipkRlgAGC0/\n",
            "/content/drive/MyDrive/Multimodal_machine_learning/Speaker_identification/VoxCeleb1_dataset/Audio_files/vox1_dev_wav_subsampling/wav/id10019/N4ZN6AAv4vU/\n",
            "/content/drive/MyDrive/Multimodal_machine_learning/Speaker_identification/VoxCeleb1_dataset/Audio_files/vox1_dev_wav_subsampling/wav/id10019/KPM7HF0Xc18/\n",
            "/content/drive/MyDrive/Multimodal_machine_learning/Speaker_identification/VoxCeleb1_dataset/Audio_files/vox1_dev_wav_subsampling/wav/id10019/nSpt6fRmaV4/\n",
            "/content/drive/MyDrive/Multimodal_machine_learning/Speaker_identification/VoxCeleb1_dataset/Audio_files/vox1_dev_wav_subsampling/wav/id10019/vw9WhRtxRhE/\n",
            "/content/drive/MyDrive/Multimodal_machine_learning/Speaker_identification/VoxCeleb1_dataset/Audio_files/vox1_dev_wav_subsampling/wav/id10019/XYGmvRZiNNg/\n",
            "/content/drive/MyDrive/Multimodal_machine_learning/Speaker_identification/VoxCeleb1_dataset/Audio_files/vox1_dev_wav_subsampling/wav/id10019/YLTaZK6x2z8/\n",
            "checking dir: /content/drive/MyDrive/Multimodal_machine_learning/Speaker_identification/VoxCeleb1_dataset/Audio_files/vox1_dev_wav_subsampling/wav/id10020/\n",
            "/content/drive/MyDrive/Multimodal_machine_learning/Speaker_identification/VoxCeleb1_dataset/Audio_files/vox1_dev_wav_subsampling/wav/id10020/1elTcNGC3q8/\n",
            "/content/drive/MyDrive/Multimodal_machine_learning/Speaker_identification/VoxCeleb1_dataset/Audio_files/vox1_dev_wav_subsampling/wav/id10020/37HXBdOMKOk/\n",
            "/content/drive/MyDrive/Multimodal_machine_learning/Speaker_identification/VoxCeleb1_dataset/Audio_files/vox1_dev_wav_subsampling/wav/id10020/986AHSerdyI/\n",
            "/content/drive/MyDrive/Multimodal_machine_learning/Speaker_identification/VoxCeleb1_dataset/Audio_files/vox1_dev_wav_subsampling/wav/id10020/7H3a2ZhOt1U/\n",
            "/content/drive/MyDrive/Multimodal_machine_learning/Speaker_identification/VoxCeleb1_dataset/Audio_files/vox1_dev_wav_subsampling/wav/id10020/70e-rrF1NnQ/\n",
            "/content/drive/MyDrive/Multimodal_machine_learning/Speaker_identification/VoxCeleb1_dataset/Audio_files/vox1_dev_wav_subsampling/wav/id10020/aGVMDWHASho/\n",
            "/content/drive/MyDrive/Multimodal_machine_learning/Speaker_identification/VoxCeleb1_dataset/Audio_files/vox1_dev_wav_subsampling/wav/id10020/A_blsQbRRC8/\n",
            "/content/drive/MyDrive/Multimodal_machine_learning/Speaker_identification/VoxCeleb1_dataset/Audio_files/vox1_dev_wav_subsampling/wav/id10020/Gi11Fgbjqdc/\n",
            "/content/drive/MyDrive/Multimodal_machine_learning/Speaker_identification/VoxCeleb1_dataset/Audio_files/vox1_dev_wav_subsampling/wav/id10020/hun71wPQvlI/\n",
            "/content/drive/MyDrive/Multimodal_machine_learning/Speaker_identification/VoxCeleb1_dataset/Audio_files/vox1_dev_wav_subsampling/wav/id10020/HELG9IIqhBE/\n",
            "/content/drive/MyDrive/Multimodal_machine_learning/Speaker_identification/VoxCeleb1_dataset/Audio_files/vox1_dev_wav_subsampling/wav/id10020/H_NA9yw_kVE/\n",
            "/content/drive/MyDrive/Multimodal_machine_learning/Speaker_identification/VoxCeleb1_dataset/Audio_files/vox1_dev_wav_subsampling/wav/id10020/jPGRVcnoOWY/\n",
            "/content/drive/MyDrive/Multimodal_machine_learning/Speaker_identification/VoxCeleb1_dataset/Audio_files/vox1_dev_wav_subsampling/wav/id10020/iNwAECjAAAM/\n",
            "/content/drive/MyDrive/Multimodal_machine_learning/Speaker_identification/VoxCeleb1_dataset/Audio_files/vox1_dev_wav_subsampling/wav/id10020/mcFRwLcBrQA/\n",
            "/content/drive/MyDrive/Multimodal_machine_learning/Speaker_identification/VoxCeleb1_dataset/Audio_files/vox1_dev_wav_subsampling/wav/id10020/jrZbWZ6Y8Jk/\n",
            "/content/drive/MyDrive/Multimodal_machine_learning/Speaker_identification/VoxCeleb1_dataset/Audio_files/vox1_dev_wav_subsampling/wav/id10020/miCK2SKm3XE/\n",
            "/content/drive/MyDrive/Multimodal_machine_learning/Speaker_identification/VoxCeleb1_dataset/Audio_files/vox1_dev_wav_subsampling/wav/id10020/NCFG73oAvUE/\n",
            "/content/drive/MyDrive/Multimodal_machine_learning/Speaker_identification/VoxCeleb1_dataset/Audio_files/vox1_dev_wav_subsampling/wav/id10020/nW-4wrt332E/\n",
            "/content/drive/MyDrive/Multimodal_machine_learning/Speaker_identification/VoxCeleb1_dataset/Audio_files/vox1_dev_wav_subsampling/wav/id10020/oIn5J6YJAmQ/\n",
            "/content/drive/MyDrive/Multimodal_machine_learning/Speaker_identification/VoxCeleb1_dataset/Audio_files/vox1_dev_wav_subsampling/wav/id10020/PzSCbADJSzg/\n",
            "/content/drive/MyDrive/Multimodal_machine_learning/Speaker_identification/VoxCeleb1_dataset/Audio_files/vox1_dev_wav_subsampling/wav/id10020/RSevwDj13_g/\n",
            "/content/drive/MyDrive/Multimodal_machine_learning/Speaker_identification/VoxCeleb1_dataset/Audio_files/vox1_dev_wav_subsampling/wav/id10020/Tv92FNzH3Qc/\n",
            "/content/drive/MyDrive/Multimodal_machine_learning/Speaker_identification/VoxCeleb1_dataset/Audio_files/vox1_dev_wav_subsampling/wav/id10020/Sj407D6anmI/\n",
            "/content/drive/MyDrive/Multimodal_machine_learning/Speaker_identification/VoxCeleb1_dataset/Audio_files/vox1_dev_wav_subsampling/wav/id10020/xHcXn2RLNS8/\n",
            "/content/drive/MyDrive/Multimodal_machine_learning/Speaker_identification/VoxCeleb1_dataset/Audio_files/vox1_dev_wav_subsampling/wav/id10020/UilhQH32RHA/\n",
            "/content/drive/MyDrive/Multimodal_machine_learning/Speaker_identification/VoxCeleb1_dataset/Audio_files/vox1_dev_wav_subsampling/wav/id10020/zFyun6tYFaw/\n",
            "/content/drive/MyDrive/Multimodal_machine_learning/Speaker_identification/VoxCeleb1_dataset/Audio_files/vox1_dev_wav_subsampling/wav/id10020/zHAGrIElkDU/\n"
          ],
          "name": "stdout"
        }
      ]
    },
    {
      "cell_type": "code",
      "metadata": {
        "id": "SUsSMMwskc-v",
        "colab": {
          "base_uri": "https://localhost:8080/",
          "height": 224
        },
        "outputId": "232ffa22-f685-4f5a-8b18-e28aa54e8a92"
      },
      "source": [
        "df = pd.DataFrame(raw)\n",
        "df = df[:400]\n",
        "print(df.shape)\n",
        "df.head()"
      ],
      "execution_count": null,
      "outputs": [
        {
          "output_type": "stream",
          "text": [
            "(400, 2)\n"
          ],
          "name": "stdout"
        },
        {
          "output_type": "execute_result",
          "data": {
            "text/html": [
              "<div>\n",
              "<style scoped>\n",
              "    .dataframe tbody tr th:only-of-type {\n",
              "        vertical-align: middle;\n",
              "    }\n",
              "\n",
              "    .dataframe tbody tr th {\n",
              "        vertical-align: top;\n",
              "    }\n",
              "\n",
              "    .dataframe thead th {\n",
              "        text-align: right;\n",
              "    }\n",
              "</style>\n",
              "<table border=\"1\" class=\"dataframe\">\n",
              "  <thead>\n",
              "    <tr style=\"text-align: right;\">\n",
              "      <th></th>\n",
              "      <th>speaker</th>\n",
              "      <th>path</th>\n",
              "    </tr>\n",
              "  </thead>\n",
              "  <tbody>\n",
              "    <tr>\n",
              "      <th>0</th>\n",
              "      <td>id10001</td>\n",
              "      <td>/content/drive/MyDrive/Multimodal_machine_lear...</td>\n",
              "    </tr>\n",
              "    <tr>\n",
              "      <th>1</th>\n",
              "      <td>id10001</td>\n",
              "      <td>/content/drive/MyDrive/Multimodal_machine_lear...</td>\n",
              "    </tr>\n",
              "    <tr>\n",
              "      <th>2</th>\n",
              "      <td>id10001</td>\n",
              "      <td>/content/drive/MyDrive/Multimodal_machine_lear...</td>\n",
              "    </tr>\n",
              "    <tr>\n",
              "      <th>3</th>\n",
              "      <td>id10001</td>\n",
              "      <td>/content/drive/MyDrive/Multimodal_machine_lear...</td>\n",
              "    </tr>\n",
              "    <tr>\n",
              "      <th>4</th>\n",
              "      <td>id10001</td>\n",
              "      <td>/content/drive/MyDrive/Multimodal_machine_lear...</td>\n",
              "    </tr>\n",
              "  </tbody>\n",
              "</table>\n",
              "</div>"
            ],
            "text/plain": [
              "   speaker                                               path\n",
              "0  id10001  /content/drive/MyDrive/Multimodal_machine_lear...\n",
              "1  id10001  /content/drive/MyDrive/Multimodal_machine_lear...\n",
              "2  id10001  /content/drive/MyDrive/Multimodal_machine_lear...\n",
              "3  id10001  /content/drive/MyDrive/Multimodal_machine_lear...\n",
              "4  id10001  /content/drive/MyDrive/Multimodal_machine_lear..."
            ]
          },
          "metadata": {
            "tags": []
          },
          "execution_count": 7
        }
      ]
    },
    {
      "cell_type": "markdown",
      "metadata": {
        "id": "LSC0fS93kc-x"
      },
      "source": [
        "## Preprocessing and Feuture Extraction\n",
        "\n",
        "* We split the dataset as 80% train and 20% test. The split is performed per speaker and not the entire dataset\n",
        "* Then, we extract MFCC and Delta features"
      ]
    },
    {
      "cell_type": "code",
      "metadata": {
        "id": "keQvy39_kc-x",
        "colab": {
          "base_uri": "https://localhost:8080/"
        },
        "outputId": "e0e653d3-b406-4390-8cfd-1ce56b590e18"
      },
      "source": [
        "# create test dataframe, keep 0.7 of each speaker as train and 0.3 as test\n",
        "train_split = 0.7\n",
        "df_train_list = []\n",
        "df_test_list = []\n",
        "for id in df['speaker'].unique():\n",
        "    speaker = df.loc[df['speaker'] == id]\n",
        "    #suffle and split dataset\n",
        "    speaker = speaker.sample(frac=1, replace=False, random_state=42)\n",
        "    train_indices = int(round(train_split*len(speaker)))\n",
        "    train = speaker[:train_indices]\n",
        "    test = speaker[:len(speaker) - train_indices]\n",
        "    df_train_list.append(train)\n",
        "    df_test_list.append(test)\n",
        "\n",
        "df_train = pd.concat(df_train_list)\n",
        "df_test = pd.concat(df_test_list)\n",
        "print(f'Train set size: {df_train.shape}, Test set size {df_test.shape}')\n",
        "\n",
        "# sanity check, check if both train and test sets have same speakers\n",
        "b = set(df_train['speaker'].unique()) == set(df_test['speaker'].unique())\n",
        "b"
      ],
      "execution_count": null,
      "outputs": [
        {
          "output_type": "stream",
          "text": [
            "Train set size: (281, 2), Test set size (119, 2)\n"
          ],
          "name": "stdout"
        },
        {
          "output_type": "execute_result",
          "data": {
            "text/plain": [
              "True"
            ]
          },
          "metadata": {
            "tags": []
          },
          "execution_count": 8
        }
      ]
    },
    {
      "cell_type": "code",
      "metadata": {
        "id": "bFQCdiMckc-y"
      },
      "source": [
        "n_mfcc = 20\n",
        "def extract_mfcc(clip, nr_mfcc):\n",
        "    signal ,sr = librosa.load(clip)\n",
        "    mfcc_feature = librosa.feature.mfcc(signal, n_mfcc=nr_mfcc, sr=sr, hop_length=256)\n",
        "    delta_feature = librosa.feature.delta(mfcc_feature)\n",
        "    # lpc_feature = librosa.lpc(signal, 16)\n",
        "    \n",
        "    mfcc_feature = np.mean(mfcc_feature.T,axis=0)\n",
        "    delta_feature = np.mean(delta_feature.T, axis=0)\n",
        "    # lpc_feature = np.mean(lpc_feature.T, axis=0)\n",
        "    # lpc_feature = round(lpc_feature, 5)\n",
        "\n",
        "    # return pd.Series([mfcc_feature, delta_feature, lpc_feature])\n",
        "    return pd.Series([mfcc_feature, delta_feature])"
      ],
      "execution_count": null,
      "outputs": []
    },
    {
      "cell_type": "code",
      "metadata": {
        "id": "lBCHuGmZkc-0"
      },
      "source": [
        "df_train[['mfcc','delta']] = df_train['path'].apply(lambda p: extract_mfcc(p, n_mfcc))\n",
        "df_test[['mfcc','delta']] = df_test['path'].apply(lambda p: extract_mfcc(p, n_mfcc))\n",
        "# df_train[['mfcc','delta','lpc']] = df_train['path'].apply(lambda p: extract_mfcc(p, n_mfcc))\n",
        "# df_test[['mfcc','delta','lpc']] = df_test['path'].apply(lambda p: extract_mfcc(p, n_mfcc))"
      ],
      "execution_count": null,
      "outputs": []
    },
    {
      "cell_type": "code",
      "metadata": {
        "id": "iLJbEgA0kc-0",
        "colab": {
          "base_uri": "https://localhost:8080/",
          "height": 293
        },
        "outputId": "1057f4b1-6612-4b3c-955a-2e56b6a29fe0"
      },
      "source": [
        "df_train.head()"
      ],
      "execution_count": null,
      "outputs": [
        {
          "output_type": "execute_result",
          "data": {
            "text/html": [
              "<div>\n",
              "<style scoped>\n",
              "    .dataframe tbody tr th:only-of-type {\n",
              "        vertical-align: middle;\n",
              "    }\n",
              "\n",
              "    .dataframe tbody tr th {\n",
              "        vertical-align: top;\n",
              "    }\n",
              "\n",
              "    .dataframe thead th {\n",
              "        text-align: right;\n",
              "    }\n",
              "</style>\n",
              "<table border=\"1\" class=\"dataframe\">\n",
              "  <thead>\n",
              "    <tr style=\"text-align: right;\">\n",
              "      <th></th>\n",
              "      <th>speaker</th>\n",
              "      <th>path</th>\n",
              "      <th>mfcc</th>\n",
              "      <th>delta</th>\n",
              "    </tr>\n",
              "  </thead>\n",
              "  <tbody>\n",
              "    <tr>\n",
              "      <th>4</th>\n",
              "      <td>id10001</td>\n",
              "      <td>/content/drive/MyDrive/Multimodal_machine_lear...</td>\n",
              "      <td>[-303.3497, 137.01996, -37.719727, 36.205246, ...</td>\n",
              "      <td>[-0.31446058, 0.09602206, 0.090558305, 0.06451...</td>\n",
              "    </tr>\n",
              "    <tr>\n",
              "      <th>35</th>\n",
              "      <td>id10001</td>\n",
              "      <td>/content/drive/MyDrive/Multimodal_machine_lear...</td>\n",
              "      <td>[-398.10855, 162.33047, -33.30646, 27.986618, ...</td>\n",
              "      <td>[0.11844375, -0.046207756, 0.027276471, -0.050...</td>\n",
              "    </tr>\n",
              "    <tr>\n",
              "      <th>10</th>\n",
              "      <td>id10001</td>\n",
              "      <td>/content/drive/MyDrive/Multimodal_machine_lear...</td>\n",
              "      <td>[-278.13583, 119.55525, -38.819412, 53.126904,...</td>\n",
              "      <td>[0.17802209, -0.04433923, -0.10072344, 0.03413...</td>\n",
              "    </tr>\n",
              "    <tr>\n",
              "      <th>0</th>\n",
              "      <td>id10001</td>\n",
              "      <td>/content/drive/MyDrive/Multimodal_machine_lear...</td>\n",
              "      <td>[-395.30148, 152.98679, -22.925863, 58.379425,...</td>\n",
              "      <td>[-0.47506902, 0.23962286, 0.14173834, -0.13870...</td>\n",
              "    </tr>\n",
              "    <tr>\n",
              "      <th>45</th>\n",
              "      <td>id10001</td>\n",
              "      <td>/content/drive/MyDrive/Multimodal_machine_lear...</td>\n",
              "      <td>[-411.9823, 163.73741, -34.576183, 21.184721, ...</td>\n",
              "      <td>[-0.14435834, 0.1329984, 0.12089822, 0.0214034...</td>\n",
              "    </tr>\n",
              "  </tbody>\n",
              "</table>\n",
              "</div>"
            ],
            "text/plain": [
              "    speaker  ...                                              delta\n",
              "4   id10001  ...  [-0.31446058, 0.09602206, 0.090558305, 0.06451...\n",
              "35  id10001  ...  [0.11844375, -0.046207756, 0.027276471, -0.050...\n",
              "10  id10001  ...  [0.17802209, -0.04433923, -0.10072344, 0.03413...\n",
              "0   id10001  ...  [-0.47506902, 0.23962286, 0.14173834, -0.13870...\n",
              "45  id10001  ...  [-0.14435834, 0.1329984, 0.12089822, 0.0214034...\n",
              "\n",
              "[5 rows x 4 columns]"
            ]
          },
          "metadata": {
            "tags": []
          },
          "execution_count": 11
        }
      ]
    },
    {
      "cell_type": "code",
      "metadata": {
        "id": "SsI0bkAXkc-1",
        "colab": {
          "base_uri": "https://localhost:8080/",
          "height": 293
        },
        "outputId": "3a5a084c-4e60-4e3c-c8f5-64ea4ac4e931"
      },
      "source": [
        "df_test.head()"
      ],
      "execution_count": null,
      "outputs": [
        {
          "output_type": "execute_result",
          "data": {
            "text/html": [
              "<div>\n",
              "<style scoped>\n",
              "    .dataframe tbody tr th:only-of-type {\n",
              "        vertical-align: middle;\n",
              "    }\n",
              "\n",
              "    .dataframe tbody tr th {\n",
              "        vertical-align: top;\n",
              "    }\n",
              "\n",
              "    .dataframe thead th {\n",
              "        text-align: right;\n",
              "    }\n",
              "</style>\n",
              "<table border=\"1\" class=\"dataframe\">\n",
              "  <thead>\n",
              "    <tr style=\"text-align: right;\">\n",
              "      <th></th>\n",
              "      <th>speaker</th>\n",
              "      <th>path</th>\n",
              "      <th>mfcc</th>\n",
              "      <th>delta</th>\n",
              "    </tr>\n",
              "  </thead>\n",
              "  <tbody>\n",
              "    <tr>\n",
              "      <th>4</th>\n",
              "      <td>id10001</td>\n",
              "      <td>/content/drive/MyDrive/Multimodal_machine_lear...</td>\n",
              "      <td>[-303.3497, 137.01996, -37.719727, 36.205246, ...</td>\n",
              "      <td>[-0.31446058, 0.09602206, 0.090558305, 0.06451...</td>\n",
              "    </tr>\n",
              "    <tr>\n",
              "      <th>35</th>\n",
              "      <td>id10001</td>\n",
              "      <td>/content/drive/MyDrive/Multimodal_machine_lear...</td>\n",
              "      <td>[-398.10855, 162.33047, -33.30646, 27.986618, ...</td>\n",
              "      <td>[0.11844375, -0.046207756, 0.027276471, -0.050...</td>\n",
              "    </tr>\n",
              "    <tr>\n",
              "      <th>10</th>\n",
              "      <td>id10001</td>\n",
              "      <td>/content/drive/MyDrive/Multimodal_machine_lear...</td>\n",
              "      <td>[-278.13583, 119.55525, -38.819412, 53.126904,...</td>\n",
              "      <td>[0.17802209, -0.04433923, -0.10072344, 0.03413...</td>\n",
              "    </tr>\n",
              "    <tr>\n",
              "      <th>0</th>\n",
              "      <td>id10001</td>\n",
              "      <td>/content/drive/MyDrive/Multimodal_machine_lear...</td>\n",
              "      <td>[-395.30148, 152.98679, -22.925863, 58.379425,...</td>\n",
              "      <td>[-0.47506902, 0.23962286, 0.14173834, -0.13870...</td>\n",
              "    </tr>\n",
              "    <tr>\n",
              "      <th>45</th>\n",
              "      <td>id10001</td>\n",
              "      <td>/content/drive/MyDrive/Multimodal_machine_lear...</td>\n",
              "      <td>[-411.9823, 163.73741, -34.576183, 21.184721, ...</td>\n",
              "      <td>[-0.14435834, 0.1329984, 0.12089822, 0.0214034...</td>\n",
              "    </tr>\n",
              "  </tbody>\n",
              "</table>\n",
              "</div>"
            ],
            "text/plain": [
              "    speaker  ...                                              delta\n",
              "4   id10001  ...  [-0.31446058, 0.09602206, 0.090558305, 0.06451...\n",
              "35  id10001  ...  [0.11844375, -0.046207756, 0.027276471, -0.050...\n",
              "10  id10001  ...  [0.17802209, -0.04433923, -0.10072344, 0.03413...\n",
              "0   id10001  ...  [-0.47506902, 0.23962286, 0.14173834, -0.13870...\n",
              "45  id10001  ...  [-0.14435834, 0.1329984, 0.12089822, 0.0214034...\n",
              "\n",
              "[5 rows x 4 columns]"
            ]
          },
          "metadata": {
            "tags": []
          },
          "execution_count": 12
        }
      ]
    },
    {
      "cell_type": "code",
      "metadata": {
        "id": "tj-xsL_Kkc-2",
        "colab": {
          "base_uri": "https://localhost:8080/"
        },
        "outputId": "0e94ebc7-3b73-4467-a6be-80e6c6feb4e7"
      },
      "source": [
        "#split dataset\n",
        "from sklearn.model_selection import train_test_split\n",
        "from sklearn.preprocessing import LabelEncoder\n",
        "\n",
        "# keep mfcc and delta columns\n",
        "X = df_train.iloc[:,2:4]\n",
        "# X = df_train.iloc[:,2:5]\n",
        "\n",
        "# keep speaker colum\n",
        "y = df_train.iloc[:,0]\n",
        "\n",
        "le = LabelEncoder()\n",
        "le.fit(list(y))\n",
        "num_labels=len(list(le.classes_))\n",
        "\n",
        "y = le.fit_transform(y)\n",
        "print(f'Number of speakers is {num_labels}')\n",
        "\n",
        "X_train, X_val, y_train, y_val = train_test_split(X, y, test_size=0.3, random_state=21)\n",
        "\n",
        "X_train = np.hstack((X_train['mfcc'].to_list(),X_train['delta'].to_list()))\n",
        "X_val = np.hstack((X_val['mfcc'].to_list(),X_val['delta'].to_list()))\n",
        "# X_train = np.hstack((X_train['mfcc'].to_list(),X_train['delta'].to_list(),X_train['lpc'].to_list()))\n",
        "# X_val = np.hstack((X_val['mfcc'].to_list(),X_val['delta'].to_list(),X_val['lpc'].to_list()))\n",
        "print(f'Train set size: {X_train.shape}, Validation set size {X_val.shape}')\n"
      ],
      "execution_count": null,
      "outputs": [
        {
          "output_type": "stream",
          "text": [
            "Number of speakers is 4\n",
            "Train set size: (196, 40), Validation set size (85, 40)\n"
          ],
          "name": "stdout"
        }
      ]
    },
    {
      "cell_type": "markdown",
      "metadata": {
        "id": "Oq0kma1Ekc-2"
      },
      "source": [
        "## Deep Learning Model"
      ]
    },
    {
      "cell_type": "code",
      "metadata": {
        "id": "gzxVxswLkc-3",
        "colab": {
          "base_uri": "https://localhost:8080/"
        },
        "outputId": "9d8cef56-3fb6-400d-e769-426bfc8d1e82"
      },
      "source": [
        "model=Sequential()\n",
        "###first layer\n",
        "model.add(Dense(100,input_shape=(X_train.shape[1],)))\n",
        "model.add(Activation('relu'))\n",
        "model.add(Dropout(0.5))\n",
        "###second layer\n",
        "model.add(Dense(200))\n",
        "model.add(Activation('relu'))\n",
        "model.add(Dropout(0.5))\n",
        "###third layer\n",
        "model.add(Dense(100))\n",
        "model.add(Activation('relu'))\n",
        "model.add(Dropout(0.5))\n",
        "\n",
        "###final layer\n",
        "model.add(Dense(num_labels))\n",
        "model.add(Activation('softmax'))\n",
        "model.compile(loss='sparse_categorical_crossentropy',metrics=['accuracy'],optimizer='adam')\n",
        "\n",
        "model.summary()"
      ],
      "execution_count": null,
      "outputs": [
        {
          "output_type": "stream",
          "text": [
            "Model: \"sequential\"\n",
            "_________________________________________________________________\n",
            "Layer (type)                 Output Shape              Param #   \n",
            "=================================================================\n",
            "dense (Dense)                (None, 100)               4100      \n",
            "_________________________________________________________________\n",
            "activation (Activation)      (None, 100)               0         \n",
            "_________________________________________________________________\n",
            "dropout (Dropout)            (None, 100)               0         \n",
            "_________________________________________________________________\n",
            "dense_1 (Dense)              (None, 200)               20200     \n",
            "_________________________________________________________________\n",
            "activation_1 (Activation)    (None, 200)               0         \n",
            "_________________________________________________________________\n",
            "dropout_1 (Dropout)          (None, 200)               0         \n",
            "_________________________________________________________________\n",
            "dense_2 (Dense)              (None, 100)               20100     \n",
            "_________________________________________________________________\n",
            "activation_2 (Activation)    (None, 100)               0         \n",
            "_________________________________________________________________\n",
            "dropout_2 (Dropout)          (None, 100)               0         \n",
            "_________________________________________________________________\n",
            "dense_3 (Dense)              (None, 4)                 404       \n",
            "_________________________________________________________________\n",
            "activation_3 (Activation)    (None, 4)                 0         \n",
            "=================================================================\n",
            "Total params: 44,804\n",
            "Trainable params: 44,804\n",
            "Non-trainable params: 0\n",
            "_________________________________________________________________\n"
          ],
          "name": "stdout"
        }
      ]
    },
    {
      "cell_type": "code",
      "metadata": {
        "id": "9x7nc9H4kc-4",
        "colab": {
          "base_uri": "https://localhost:8080/"
        },
        "outputId": "bb95bdf5-1d85-4bec-a557-f0e8e911c16e"
      },
      "source": [
        "## Train model\n",
        "from tensorflow.keras.callbacks import ModelCheckpoint\n",
        "from datetime import datetime \n",
        "\n",
        "num_epochs = 50\n",
        "num_batch_size = 8\n",
        "\n",
        "\n",
        "earlystopping = tf.keras.callbacks.EarlyStopping(monitor='val_loss', patience=20)\n",
        "checkpointer = ModelCheckpoint(filepath='saved_models/speakers_classification.hdf5', \n",
        "                               verbose=1, save_best_only=True)\n",
        "start = datetime.now()\n",
        "\n",
        "model_h = model.fit(X_train, y_train, batch_size=num_batch_size, epochs=num_epochs, \n",
        "          validation_data=(X_val, y_val), callbacks=[checkpointer, earlystopping], verbose=1)\n",
        "\n",
        "\n",
        "duration = datetime.now() - start\n",
        "print(\"Training completed in time: \", duration)"
      ],
      "execution_count": null,
      "outputs": [
        {
          "output_type": "stream",
          "text": [
            "Epoch 1/50\n",
            "25/25 [==============================] - 1s 11ms/step - loss: 43.8676 - accuracy: 0.3163 - val_loss: 11.8743 - val_accuracy: 0.4000\n",
            "\n",
            "Epoch 00001: val_loss improved from inf to 11.87428, saving model to saved_models/speakers_classification.hdf5\n",
            "Epoch 2/50\n",
            "25/25 [==============================] - 0s 4ms/step - loss: 31.2101 - accuracy: 0.3776 - val_loss: 5.8254 - val_accuracy: 0.4118\n",
            "\n",
            "Epoch 00002: val_loss improved from 11.87428 to 5.82543, saving model to saved_models/speakers_classification.hdf5\n",
            "Epoch 3/50\n",
            "25/25 [==============================] - 0s 4ms/step - loss: 26.3654 - accuracy: 0.2296 - val_loss: 1.2111 - val_accuracy: 0.5059\n",
            "\n",
            "Epoch 00003: val_loss improved from 5.82543 to 1.21110, saving model to saved_models/speakers_classification.hdf5\n",
            "Epoch 4/50\n",
            "25/25 [==============================] - 0s 4ms/step - loss: 18.1652 - accuracy: 0.3367 - val_loss: 1.4301 - val_accuracy: 0.4706\n",
            "\n",
            "Epoch 00004: val_loss did not improve from 1.21110\n",
            "Epoch 5/50\n",
            "25/25 [==============================] - 0s 4ms/step - loss: 14.5658 - accuracy: 0.3673 - val_loss: 1.2043 - val_accuracy: 0.5176\n",
            "\n",
            "Epoch 00005: val_loss improved from 1.21110 to 1.20433, saving model to saved_models/speakers_classification.hdf5\n",
            "Epoch 6/50\n",
            "25/25 [==============================] - 0s 4ms/step - loss: 9.6945 - accuracy: 0.3827 - val_loss: 1.3054 - val_accuracy: 0.4471\n",
            "\n",
            "Epoch 00006: val_loss did not improve from 1.20433\n",
            "Epoch 7/50\n",
            "25/25 [==============================] - 0s 4ms/step - loss: 9.6826 - accuracy: 0.2704 - val_loss: 1.1814 - val_accuracy: 0.5176\n",
            "\n",
            "Epoch 00007: val_loss improved from 1.20433 to 1.18136, saving model to saved_models/speakers_classification.hdf5\n",
            "Epoch 8/50\n",
            "25/25 [==============================] - 0s 4ms/step - loss: 6.7663 - accuracy: 0.3316 - val_loss: 1.1750 - val_accuracy: 0.5647\n",
            "\n",
            "Epoch 00008: val_loss improved from 1.18136 to 1.17503, saving model to saved_models/speakers_classification.hdf5\n",
            "Epoch 9/50\n",
            "25/25 [==============================] - 0s 4ms/step - loss: 5.7144 - accuracy: 0.3316 - val_loss: 1.1484 - val_accuracy: 0.5412\n",
            "\n",
            "Epoch 00009: val_loss improved from 1.17503 to 1.14839, saving model to saved_models/speakers_classification.hdf5\n",
            "Epoch 10/50\n",
            "25/25 [==============================] - 0s 4ms/step - loss: 6.6860 - accuracy: 0.3010 - val_loss: 1.0977 - val_accuracy: 0.6235\n",
            "\n",
            "Epoch 00010: val_loss improved from 1.14839 to 1.09772, saving model to saved_models/speakers_classification.hdf5\n",
            "Epoch 11/50\n",
            "25/25 [==============================] - 0s 3ms/step - loss: 4.3926 - accuracy: 0.3980 - val_loss: 1.1077 - val_accuracy: 0.6471\n",
            "\n",
            "Epoch 00011: val_loss did not improve from 1.09772\n",
            "Epoch 12/50\n",
            "25/25 [==============================] - 0s 3ms/step - loss: 4.4471 - accuracy: 0.3776 - val_loss: 1.1169 - val_accuracy: 0.4353\n",
            "\n",
            "Epoch 00012: val_loss did not improve from 1.09772\n",
            "Epoch 13/50\n",
            "25/25 [==============================] - 0s 4ms/step - loss: 3.4481 - accuracy: 0.4031 - val_loss: 1.1582 - val_accuracy: 0.4353\n",
            "\n",
            "Epoch 00013: val_loss did not improve from 1.09772\n",
            "Epoch 14/50\n",
            "25/25 [==============================] - 0s 4ms/step - loss: 3.7961 - accuracy: 0.3571 - val_loss: 1.2221 - val_accuracy: 0.5176\n",
            "\n",
            "Epoch 00014: val_loss did not improve from 1.09772\n",
            "Epoch 15/50\n",
            "25/25 [==============================] - 0s 4ms/step - loss: 2.5393 - accuracy: 0.3776 - val_loss: 1.2117 - val_accuracy: 0.7647\n",
            "\n",
            "Epoch 00015: val_loss did not improve from 1.09772\n",
            "Epoch 16/50\n",
            "25/25 [==============================] - 0s 5ms/step - loss: 3.0743 - accuracy: 0.3469 - val_loss: 1.1951 - val_accuracy: 0.7647\n",
            "\n",
            "Epoch 00016: val_loss did not improve from 1.09772\n",
            "Epoch 17/50\n",
            "25/25 [==============================] - 0s 3ms/step - loss: 2.6716 - accuracy: 0.3469 - val_loss: 1.2123 - val_accuracy: 0.6824\n",
            "\n",
            "Epoch 00017: val_loss did not improve from 1.09772\n",
            "Epoch 18/50\n",
            "25/25 [==============================] - 0s 3ms/step - loss: 2.0412 - accuracy: 0.4439 - val_loss: 1.2925 - val_accuracy: 0.5294\n",
            "\n",
            "Epoch 00018: val_loss did not improve from 1.09772\n",
            "Epoch 19/50\n",
            "25/25 [==============================] - 0s 4ms/step - loss: 2.4125 - accuracy: 0.3827 - val_loss: 1.2812 - val_accuracy: 0.4824\n",
            "\n",
            "Epoch 00019: val_loss did not improve from 1.09772\n",
            "Epoch 20/50\n",
            "25/25 [==============================] - 0s 3ms/step - loss: 2.1391 - accuracy: 0.4031 - val_loss: 1.2756 - val_accuracy: 0.4706\n",
            "\n",
            "Epoch 00020: val_loss did not improve from 1.09772\n",
            "Epoch 21/50\n",
            "25/25 [==============================] - 0s 4ms/step - loss: 2.0112 - accuracy: 0.4235 - val_loss: 1.2889 - val_accuracy: 0.4353\n",
            "\n",
            "Epoch 00021: val_loss did not improve from 1.09772\n",
            "Epoch 22/50\n",
            "25/25 [==============================] - 0s 4ms/step - loss: 1.9261 - accuracy: 0.4439 - val_loss: 1.2958 - val_accuracy: 0.4118\n",
            "\n",
            "Epoch 00022: val_loss did not improve from 1.09772\n",
            "Epoch 23/50\n",
            "25/25 [==============================] - 0s 4ms/step - loss: 1.6667 - accuracy: 0.4235 - val_loss: 1.3058 - val_accuracy: 0.4235\n",
            "\n",
            "Epoch 00023: val_loss did not improve from 1.09772\n",
            "Epoch 24/50\n",
            "25/25 [==============================] - 0s 4ms/step - loss: 1.7615 - accuracy: 0.4133 - val_loss: 1.2935 - val_accuracy: 0.4000\n",
            "\n",
            "Epoch 00024: val_loss did not improve from 1.09772\n",
            "Epoch 25/50\n",
            "25/25 [==============================] - 0s 3ms/step - loss: 1.6401 - accuracy: 0.3878 - val_loss: 1.2857 - val_accuracy: 0.4000\n",
            "\n",
            "Epoch 00025: val_loss did not improve from 1.09772\n",
            "Epoch 26/50\n",
            "25/25 [==============================] - 0s 4ms/step - loss: 1.7323 - accuracy: 0.3316 - val_loss: 1.2743 - val_accuracy: 0.4000\n",
            "\n",
            "Epoch 00026: val_loss did not improve from 1.09772\n",
            "Epoch 27/50\n",
            "25/25 [==============================] - 0s 3ms/step - loss: 1.5530 - accuracy: 0.4388 - val_loss: 1.2659 - val_accuracy: 0.4118\n",
            "\n",
            "Epoch 00027: val_loss did not improve from 1.09772\n",
            "Epoch 28/50\n",
            "25/25 [==============================] - 0s 4ms/step - loss: 1.5840 - accuracy: 0.4235 - val_loss: 1.2547 - val_accuracy: 0.4588\n",
            "\n",
            "Epoch 00028: val_loss did not improve from 1.09772\n",
            "Epoch 29/50\n",
            "25/25 [==============================] - 0s 3ms/step - loss: 1.5787 - accuracy: 0.3724 - val_loss: 1.2503 - val_accuracy: 0.4118\n",
            "\n",
            "Epoch 00029: val_loss did not improve from 1.09772\n",
            "Epoch 30/50\n",
            "25/25 [==============================] - 0s 4ms/step - loss: 1.3983 - accuracy: 0.4388 - val_loss: 1.2403 - val_accuracy: 0.4000\n",
            "\n",
            "Epoch 00030: val_loss did not improve from 1.09772\n",
            "Training completed in time:  0:00:04.634077\n"
          ],
          "name": "stdout"
        }
      ]
    },
    {
      "cell_type": "markdown",
      "metadata": {
        "id": "EA-9eRpikc-5"
      },
      "source": [
        "### Check training history"
      ]
    },
    {
      "cell_type": "code",
      "metadata": {
        "id": "mnCrdNbckc-5",
        "colab": {
          "base_uri": "https://localhost:8080/",
          "height": 362
        },
        "outputId": "b878e1a6-d106-4264-c718-86b07bb6e7f3"
      },
      "source": [
        "# import matplotlib.pyplot as plt\n",
        "plt.rcParams[\"figure.figsize\"] = (12,12)\n",
        "colors = plt.rcParams['axes.prop_cycle'].by_key()['color']\n",
        "def plot_metrics(history):\n",
        "  metrics = ['loss', 'accuracy']#, 'f1_m', 'recall_m']\n",
        "  for n, metric in enumerate(metrics):\n",
        "    name = metric.replace(\"_\",\" \").capitalize()\n",
        "    plt.subplot(2,2,n+1)\n",
        "    plt.plot(history.epoch, history.history[metric], color=colors[0], label='Train')\n",
        "    plt.plot(history.epoch, history.history['val_'+metric],\n",
        "             color=colors[0], linestyle=\"--\", label='Val')\n",
        "    plt.xlabel('Epoch')\n",
        "    plt.ylabel(name)\n",
        "    if metric == 'loss':\n",
        "      plt.ylim([0, plt.ylim()[1]])\n",
        "    elif metric == 'auc':\n",
        "      plt.ylim([0.8,1])\n",
        "    else:\n",
        "      plt.ylim([0,1])\n",
        "\n",
        "    plt.legend()\n",
        "\n",
        "plot_metrics(model_h)"
      ],
      "execution_count": null,
      "outputs": [
        {
          "output_type": "display_data",
          "data": {
            "image/png": "[encoded data removed]",
            "text/plain": [
              "<Figure size 864x864 with 2 Axes>"
            ]
          },
          "metadata": {
            "tags": [],
            "needs_background": "light"
          }
        }
      ]
    },
    {
      "cell_type": "markdown",
      "metadata": {
        "id": "busAnR6_kc-5"
      },
      "source": [
        "### Predict and Classification Report"
      ]
    },
    {
      "cell_type": "code",
      "metadata": {
        "id": "IM2KCtk1kc-5",
        "colab": {
          "base_uri": "https://localhost:8080/"
        },
        "outputId": "73ddf6fd-e2f5-4bea-96dc-8e0afa056c4a"
      },
      "source": [
        "from sklearn.metrics import classification_report\n",
        "\n",
        "X_test = np.hstack((df_test['mfcc'].to_list(),df_test['delta'].to_list()))\n",
        "# X_test = np.hstack((df_test['mfcc'].to_list(),df_test['delta'].to_list(),df_test['lpc'].to_list()))\n",
        "print(X_test.shape)\n",
        "y_true = df_test['speaker']\n",
        "\n",
        "y_pred = model.predict(X_test)\n",
        "y_pred = np.argmax(y_pred, axis=1)\n",
        "y_pred = le.classes_[y_pred]\n",
        "print(y_pred)\n",
        "\n",
        "print(classification_report(y_true, y_pred, target_names=le.classes_))\n",
        "\n",
        "# confusion matrix\n",
        "confusion = metrics.confusion_matrix(y_true, y_pred)\n",
        "print('Confusion Matrix\\n')\n",
        "print(confusion)"
      ],
      "execution_count": null,
      "outputs": [
        {
          "output_type": "stream",
          "text": [
            "(119, 40)\n",
            "['id10003' 'id10003' 'id10003' 'id10003' 'id10003' 'id10003' 'id10003'\n",
            " 'id10001' 'id10003' 'id10003' 'id10003' 'id10003' 'id10003' 'id10003'\n",
            " 'id10003' 'id10003' 'id10003' 'id10003' 'id10003' 'id10001' 'id10003'\n",
            " 'id10003' 'id10003' 'id10003' 'id10003' 'id10003' 'id10003' 'id10003'\n",
            " 'id10003' 'id10003' 'id10003' 'id10003' 'id10003' 'id10003' 'id10003'\n",
            " 'id10003' 'id10003' 'id10003' 'id10003' 'id10003' 'id10003' 'id10003'\n",
            " 'id10003' 'id10003' 'id10003' 'id10003' 'id10003' 'id10003' 'id10003'\n",
            " 'id10003' 'id10003' 'id10003' 'id10003' 'id10003' 'id10003' 'id10003'\n",
            " 'id10003' 'id10003' 'id10003' 'id10003' 'id10003' 'id10003' 'id10003'\n",
            " 'id10003' 'id10003' 'id10003' 'id10003' 'id10003' 'id10003' 'id10003'\n",
            " 'id10003' 'id10003' 'id10003' 'id10003' 'id10003' 'id10003' 'id10003'\n",
            " 'id10003' 'id10003' 'id10003' 'id10003' 'id10003' 'id10003' 'id10003'\n",
            " 'id10001' 'id10001' 'id10003' 'id10003' 'id10003' 'id10003' 'id10003'\n",
            " 'id10003' 'id10003' 'id10003' 'id10003' 'id10003' 'id10003' 'id10003'\n",
            " 'id10003' 'id10003' 'id10003' 'id10003' 'id10003' 'id10003' 'id10003'\n",
            " 'id10003' 'id10003' 'id10003' 'id10003' 'id10003' 'id10003' 'id10003'\n",
            " 'id10003' 'id10003' 'id10003' 'id10003' 'id10003' 'id10003' 'id10003']\n",
            "              precision    recall  f1-score   support\n",
            "\n",
            "     id10001       0.50      0.09      0.15        23\n",
            "     id10002       0.00      0.00      0.00        39\n",
            "     id10003       0.43      0.96      0.59        51\n",
            "     id10004       0.00      0.00      0.00         6\n",
            "\n",
            "    accuracy                           0.43       119\n",
            "   macro avg       0.23      0.26      0.18       119\n",
            "weighted avg       0.28      0.43      0.28       119\n",
            "\n",
            "Confusion Matrix\n",
            "\n",
            "[[ 2  0 21  0]\n",
            " [ 0  0 39  0]\n",
            " [ 2  0 49  0]\n",
            " [ 0  0  6  0]]\n"
          ],
          "name": "stdout"
        },
        {
          "output_type": "stream",
          "text": [
            "/usr/local/lib/python3.7/dist-packages/sklearn/metrics/_classification.py:1272: UndefinedMetricWarning: Precision and F-score are ill-defined and being set to 0.0 in labels with no predicted samples. Use `zero_division` parameter to control this behavior.\n",
            "  _warn_prf(average, modifier, msg_start, len(result))\n"
          ],
          "name": "stderr"
        }
      ]
    },
    {
      "cell_type": "code",
      "metadata": {
        "id": "xnhpHnZNkc-6",
        "colab": {
          "base_uri": "https://localhost:8080/"
        },
        "outputId": "a1809e03-ca46-4354-eb66-b4dadf82851b"
      },
      "source": [
        "# clip = '/content/drive/MyDrive/Multimodal_machine_learning/Speaker_identification/VoxCeleb1_dataset/Audio_files/vox1_test_wav_subsampling/wav/id10272/0qqQJVFKpbA/00001.wav'\n",
        "# tmp = pd.DataFrame()\n",
        "# tmp[['mfcc', 'delta']] = extract_mfcc(clip,20)\n",
        "# X_tmp = np.hstack((tmp['mfcc'].to_list(),tmp['delta'].to_list()))\n",
        "# X_tmp = np.expand_dims(X_tmp, axis=0)\n",
        "# print(X_tmp.shape)\n",
        "# print(X_tmp)\n",
        "\n",
        "# y_pred = model.predict(X_tmp)\n",
        "# print(y_pred)"
      ],
      "execution_count": null,
      "outputs": [
        {
          "output_type": "stream",
          "text": [
            "(1, 40)\n",
            "[[-1.78827072e+02  1.10019897e+02 -2.37516708e+01  7.58172226e+01\n",
            "  -2.17729664e+01  4.77864113e+01 -3.11430225e+01  2.81949310e+01\n",
            "  -1.12142048e+01  1.25159893e+01 -3.01020551e+00 -5.82345867e+00\n",
            "   1.75515327e+01 -1.23305531e+01  1.92553139e+01 -1.03695459e+01\n",
            "   9.17289066e+00 -2.27847719e+00  6.83830833e+00 -2.45623422e+00\n",
            "  -2.04627663e-01  9.52295139e-02 -4.15046066e-02 -4.87907194e-02\n",
            "   3.53254005e-02 -5.43111637e-02 -5.97460847e-03  1.93097396e-03\n",
            "   3.66598964e-02 -1.95625448e-03 -3.71873751e-02  1.04712984e-02\n",
            "   1.48019558e-02 -1.03934901e-02  1.90138165e-02  2.53884271e-02\n",
            "   9.57381632e-03  9.01590567e-03 -2.74441205e-03  1.81894749e-02]]\n",
            "['id10003']\n"
          ],
          "name": "stdout"
        }
      ]
    },
    {
      "cell_type": "markdown",
      "metadata": {
        "id": "bbF-yOQra69z"
      },
      "source": [
        "### Prediction on disjoint set by calculating shortest euclidean distance on mfcc's"
      ]
    },
    {
      "cell_type": "code",
      "metadata": {
        "colab": {
          "base_uri": "https://localhost:8080/"
        },
        "id": "tMfh3ir7a-F8",
        "outputId": "94a204aa-08c0-4af9-8b62-b379be18743a"
      },
      "source": [
        "clip = '/content/drive/MyDrive/Multimodal_machine_learning/Speaker_identification/VoxCeleb1_dataset/Audio_files/vox1_test_wav_subsampling/wav/id10272/0qqQJVFKpbA/00001.wav'\n",
        "tmp = pd.DataFrame()\n",
        "tmp[['mfcc', 'delta']] = extract_mfcc(clip,20)\n",
        "X_tmp = np.hstack((tmp['mfcc'].to_list(),tmp['delta'].to_list()))\n",
        "X_tmp = np.expand_dims(X_tmp, axis=0)\n",
        "print(X_tmp.shape)\n",
        "print(X_tmp)\n",
        "\n",
        "# calculate shortest euclidean distance of mfcc's\n",
        "dist = []\n",
        "for i in X_train:\n",
        "  dist.append(np.linalg.norm(X_tmp - i))\n",
        "\n",
        "min_dist = min(dist)\n",
        "print('Smallest euclidean distance is', min_dist, 'with index', dist.index(min_dist))"
      ],
      "execution_count": null,
      "outputs": [
        {
          "output_type": "stream",
          "text": [
            "(1, 40)\n",
            "[[-1.78827072e+02  1.10019897e+02 -2.37516708e+01  7.58172226e+01\n",
            "  -2.17729664e+01  4.77864113e+01 -3.11430225e+01  2.81949310e+01\n",
            "  -1.12142048e+01  1.25159893e+01 -3.01020551e+00 -5.82345867e+00\n",
            "   1.75515327e+01 -1.23305531e+01  1.92553139e+01 -1.03695459e+01\n",
            "   9.17289066e+00 -2.27847719e+00  6.83830833e+00 -2.45623422e+00\n",
            "  -2.04627663e-01  9.52295139e-02 -4.15046066e-02 -4.87907194e-02\n",
            "   3.53254005e-02 -5.43111637e-02 -5.97460847e-03  1.93097396e-03\n",
            "   3.66598964e-02 -1.95625448e-03 -3.71873751e-02  1.04712984e-02\n",
            "   1.48019558e-02 -1.03934901e-02  1.90138165e-02  2.53884271e-02\n",
            "   9.57381632e-03  9.01590567e-03 -2.74441205e-03  1.81894749e-02]]\n",
            "Smallest euclidean distance is: 54.418243797581965 with index 184\n"
          ],
          "name": "stdout"
        }
      ]
    },
    {
      "cell_type": "markdown",
      "metadata": {
        "id": "kgvOQq8Bkc-6"
      },
      "source": [
        "## Gausian Mixture Model"
      ]
    },
    {
      "cell_type": "code",
      "metadata": {
        "id": "Cx2CyKOfkc-6",
        "colab": {
          "base_uri": "https://localhost:8080/"
        },
        "outputId": "b7de07fa-5e3f-4f3e-96ac-c2ae3b27ee78"
      },
      "source": [
        "from sklearn.mixture import GaussianMixture\n",
        "\n",
        "gm = GaussianMixture(n_components=2, random_state=0).fit(X_train, y_train)\n",
        "y_pred = gm.predict(X_test)\n",
        "y_pred"
      ],
      "execution_count": null,
      "outputs": [
        {
          "output_type": "execute_result",
          "data": {
            "text/plain": [
              "array([1, 0, 1, 0, 0, 0, 0, 0, 0, 1, 0, 0, 1, 1, 0, 1, 1, 0, 0, 1, 1, 0,\n",
              "       0, 0, 1, 0, 0, 0, 1, 1, 0, 1, 0, 1, 0, 1, 0, 1, 1, 0, 1, 1, 1, 1,\n",
              "       1, 0, 1, 0, 0, 1, 1, 0, 1, 0, 1, 0, 0, 1, 0, 1, 1, 1, 1, 1, 1, 1,\n",
              "       1, 1, 1, 1, 1, 1, 0, 1, 1, 0, 0, 1, 0, 1, 1, 1, 1, 1, 0, 0, 1, 1,\n",
              "       0, 1, 0, 1, 1, 1, 1, 1, 1, 1, 1, 1, 0, 1, 1, 1, 1, 1, 1, 1, 1, 1,\n",
              "       0, 0, 1, 0, 0, 0, 1, 0, 1])"
            ]
          },
          "metadata": {
            "tags": []
          },
          "execution_count": 19
        }
      ]
    },
    {
      "cell_type": "code",
      "metadata": {
        "id": "Ezioca5Okc-8"
      },
      "source": [
        ""
      ],
      "execution_count": null,
      "outputs": []
    },
    {
      "cell_type": "code",
      "metadata": {
        "id": "8RRuRS_ckc-8"
      },
      "source": [
        ""
      ],
      "execution_count": null,
      "outputs": []
    },
    {
      "cell_type": "code",
      "metadata": {
        "id": "mlSyXOujkc-8"
      },
      "source": [
        ""
      ],
      "execution_count": null,
      "outputs": []
    },
    {
      "cell_type": "code",
      "metadata": {
        "id": "TvQQ9gUEkc-8"
      },
      "source": [
        ""
      ],
      "execution_count": null,
      "outputs": []
    }
  ]
}